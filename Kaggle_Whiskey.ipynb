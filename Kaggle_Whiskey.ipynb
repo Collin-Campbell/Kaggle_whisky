{
  "nbformat": 4,
  "nbformat_minor": 0,
  "metadata": {
    "colab": {
      "name": "Kaggle_Whiskey.ipynb",
      "provenance": [],
      "collapsed_sections": []
    },
    "kernelspec": {
      "name": "python3",
      "display_name": "Python 3"
    }
  },
  "cells": [
    {
      "cell_type": "code",
      "metadata": {
        "id": "dIGBmZyc-bIw"
      },
      "source": [
        "#!python -m spacy download en_vectors_web_lg"
      ],
      "execution_count": null,
      "outputs": []
    },
    {
      "cell_type": "code",
      "metadata": {
        "colab": {
          "base_uri": "https://localhost:8080/",
          "height": 358
        },
        "id": "j8eOiuDhpww4",
        "outputId": "c73181bb-aa6f-47e4-ff0c-3482fb47bede"
      },
      "source": [
        "# https://www.kaggle.com/c/whiskey-reviews-ds20/overview\n",
        "\n",
        "import pandas as pd\n",
        "import re\n",
        "from collections import Counter\n",
        "import spacy\n",
        "\n",
        "nlp = spacy.load('en_vectors_web_lg')"
      ],
      "execution_count": 1,
      "outputs": [
        {
          "output_type": "error",
          "ename": "OSError",
          "evalue": "ignored",
          "traceback": [
            "\u001b[0;31m---------------------------------------------------------------------------\u001b[0m",
            "\u001b[0;31mOSError\u001b[0m                                   Traceback (most recent call last)",
            "\u001b[0;32m<ipython-input-1-d64ea8c4fc40>\u001b[0m in \u001b[0;36m<module>\u001b[0;34m()\u001b[0m\n\u001b[1;32m      6\u001b[0m \u001b[0;32mimport\u001b[0m \u001b[0mspacy\u001b[0m\u001b[0;34m\u001b[0m\u001b[0;34m\u001b[0m\u001b[0m\n\u001b[1;32m      7\u001b[0m \u001b[0;34m\u001b[0m\u001b[0m\n\u001b[0;32m----> 8\u001b[0;31m \u001b[0mnlp\u001b[0m \u001b[0;34m=\u001b[0m \u001b[0mspacy\u001b[0m\u001b[0;34m.\u001b[0m\u001b[0mload\u001b[0m\u001b[0;34m(\u001b[0m\u001b[0;34m'en_vectors_web_lg'\u001b[0m\u001b[0;34m)\u001b[0m\u001b[0;34m\u001b[0m\u001b[0;34m\u001b[0m\u001b[0m\n\u001b[0m",
            "\u001b[0;32m/usr/local/lib/python3.6/dist-packages/spacy/__init__.py\u001b[0m in \u001b[0;36mload\u001b[0;34m(name, **overrides)\u001b[0m\n\u001b[1;32m     28\u001b[0m     \u001b[0;32mif\u001b[0m \u001b[0mdepr_path\u001b[0m \u001b[0;32mnot\u001b[0m \u001b[0;32min\u001b[0m \u001b[0;34m(\u001b[0m\u001b[0;32mTrue\u001b[0m\u001b[0;34m,\u001b[0m \u001b[0;32mFalse\u001b[0m\u001b[0;34m,\u001b[0m \u001b[0;32mNone\u001b[0m\u001b[0;34m)\u001b[0m\u001b[0;34m:\u001b[0m\u001b[0;34m\u001b[0m\u001b[0;34m\u001b[0m\u001b[0m\n\u001b[1;32m     29\u001b[0m         \u001b[0mdeprecation_warning\u001b[0m\u001b[0;34m(\u001b[0m\u001b[0mWarnings\u001b[0m\u001b[0;34m.\u001b[0m\u001b[0mW001\u001b[0m\u001b[0;34m.\u001b[0m\u001b[0mformat\u001b[0m\u001b[0;34m(\u001b[0m\u001b[0mpath\u001b[0m\u001b[0;34m=\u001b[0m\u001b[0mdepr_path\u001b[0m\u001b[0;34m)\u001b[0m\u001b[0;34m)\u001b[0m\u001b[0;34m\u001b[0m\u001b[0;34m\u001b[0m\u001b[0m\n\u001b[0;32m---> 30\u001b[0;31m     \u001b[0;32mreturn\u001b[0m \u001b[0mutil\u001b[0m\u001b[0;34m.\u001b[0m\u001b[0mload_model\u001b[0m\u001b[0;34m(\u001b[0m\u001b[0mname\u001b[0m\u001b[0;34m,\u001b[0m \u001b[0;34m**\u001b[0m\u001b[0moverrides\u001b[0m\u001b[0;34m)\u001b[0m\u001b[0;34m\u001b[0m\u001b[0;34m\u001b[0m\u001b[0m\n\u001b[0m\u001b[1;32m     31\u001b[0m \u001b[0;34m\u001b[0m\u001b[0m\n\u001b[1;32m     32\u001b[0m \u001b[0;34m\u001b[0m\u001b[0m\n",
            "\u001b[0;32m/usr/local/lib/python3.6/dist-packages/spacy/util.py\u001b[0m in \u001b[0;36mload_model\u001b[0;34m(name, **overrides)\u001b[0m\n\u001b[1;32m    167\u001b[0m     \u001b[0;32melif\u001b[0m \u001b[0mhasattr\u001b[0m\u001b[0;34m(\u001b[0m\u001b[0mname\u001b[0m\u001b[0;34m,\u001b[0m \u001b[0;34m\"exists\"\u001b[0m\u001b[0;34m)\u001b[0m\u001b[0;34m:\u001b[0m  \u001b[0;31m# Path or Path-like to model data\u001b[0m\u001b[0;34m\u001b[0m\u001b[0;34m\u001b[0m\u001b[0m\n\u001b[1;32m    168\u001b[0m         \u001b[0;32mreturn\u001b[0m \u001b[0mload_model_from_path\u001b[0m\u001b[0;34m(\u001b[0m\u001b[0mname\u001b[0m\u001b[0;34m,\u001b[0m \u001b[0;34m**\u001b[0m\u001b[0moverrides\u001b[0m\u001b[0;34m)\u001b[0m\u001b[0;34m\u001b[0m\u001b[0;34m\u001b[0m\u001b[0m\n\u001b[0;32m--> 169\u001b[0;31m     \u001b[0;32mraise\u001b[0m \u001b[0mIOError\u001b[0m\u001b[0;34m(\u001b[0m\u001b[0mErrors\u001b[0m\u001b[0;34m.\u001b[0m\u001b[0mE050\u001b[0m\u001b[0;34m.\u001b[0m\u001b[0mformat\u001b[0m\u001b[0;34m(\u001b[0m\u001b[0mname\u001b[0m\u001b[0;34m=\u001b[0m\u001b[0mname\u001b[0m\u001b[0;34m)\u001b[0m\u001b[0;34m)\u001b[0m\u001b[0;34m\u001b[0m\u001b[0;34m\u001b[0m\u001b[0m\n\u001b[0m\u001b[1;32m    170\u001b[0m \u001b[0;34m\u001b[0m\u001b[0m\n\u001b[1;32m    171\u001b[0m \u001b[0;34m\u001b[0m\u001b[0m\n",
            "\u001b[0;31mOSError\u001b[0m: [E050] Can't find model 'en_vectors_web_lg'. It doesn't seem to be a shortcut link, a Python package or a valid path to a data directory."
          ]
        }
      ]
    },
    {
      "cell_type": "code",
      "metadata": {
        "id": "7bfAVODpWI3h"
      },
      "source": [
        "# Loading in the data from the Kaggle webpage\n",
        "\n",
        "train = pd.read_csv('train.csv')\n",
        "test = pd.read_csv('test.csv')"
      ],
      "execution_count": 31,
      "outputs": []
    },
    {
      "cell_type": "markdown",
      "metadata": {
        "id": "aV_bk8Ihn77N"
      },
      "source": [
        "First, let's dive into the data:"
      ]
    },
    {
      "cell_type": "code",
      "metadata": {
        "id": "JdO_paieWlw9"
      },
      "source": [
        "# Splitting into our three ratings in order to compare text data\n",
        "\n",
        "mask1 = train['ratingCategory'] == 0 # excellent\n",
        "mask2 = train['ratingCategory'] == 1 # good\n",
        "mask3 = train['ratingCategory'] == 2 # poor"
      ],
      "execution_count": 32,
      "outputs": []
    },
    {
      "cell_type": "code",
      "metadata": {
        "id": "2xrdsljbWwhV"
      },
      "source": [
        "excellent_df = train[mask1]\n",
        "good_df = train[mask2]\n",
        "poor_df = train[mask3]"
      ],
      "execution_count": 33,
      "outputs": []
    },
    {
      "cell_type": "code",
      "metadata": {
        "id": "v242yaf_XDCR"
      },
      "source": [
        "def tokenize(text):\n",
        "  tokens = []\n",
        "  for item in (text.replace('\\n', '').lower().replace('-', ' ').split()):\n",
        "    tokens.append(re.sub('[^a-z ]', '', item))\n",
        "  \n",
        "  return tokens"
      ],
      "execution_count": 34,
      "outputs": []
    },
    {
      "cell_type": "code",
      "metadata": {
        "colab": {
          "base_uri": "https://localhost:8080/"
        },
        "id": "ISlsmHtKXW7s",
        "outputId": "a80a857f-ab1d-455c-8eb1-5281854676d5"
      },
      "source": [
        "# Cleaning and tokenizing text data for each rating dataframe\n",
        "# using the above function\n",
        "\n",
        "excellent_df['tokens'] = excellent_df['description'].apply(tokenize)\n",
        "good_df['tokens'] = good_df['description'].apply(tokenize)\n",
        "poor_df['tokens'] = poor_df['description'].apply(tokenize)"
      ],
      "execution_count": 35,
      "outputs": [
        {
          "output_type": "stream",
          "text": [
            "/usr/local/lib/python3.6/dist-packages/ipykernel_launcher.py:4: SettingWithCopyWarning: \n",
            "A value is trying to be set on a copy of a slice from a DataFrame.\n",
            "Try using .loc[row_indexer,col_indexer] = value instead\n",
            "\n",
            "See the caveats in the documentation: https://pandas.pydata.org/pandas-docs/stable/user_guide/indexing.html#returning-a-view-versus-a-copy\n",
            "  after removing the cwd from sys.path.\n",
            "/usr/local/lib/python3.6/dist-packages/ipykernel_launcher.py:5: SettingWithCopyWarning: \n",
            "A value is trying to be set on a copy of a slice from a DataFrame.\n",
            "Try using .loc[row_indexer,col_indexer] = value instead\n",
            "\n",
            "See the caveats in the documentation: https://pandas.pydata.org/pandas-docs/stable/user_guide/indexing.html#returning-a-view-versus-a-copy\n",
            "  \"\"\"\n",
            "/usr/local/lib/python3.6/dist-packages/ipykernel_launcher.py:6: SettingWithCopyWarning: \n",
            "A value is trying to be set on a copy of a slice from a DataFrame.\n",
            "Try using .loc[row_indexer,col_indexer] = value instead\n",
            "\n",
            "See the caveats in the documentation: https://pandas.pydata.org/pandas-docs/stable/user_guide/indexing.html#returning-a-view-versus-a-copy\n",
            "  \n"
          ],
          "name": "stderr"
        }
      ]
    },
    {
      "cell_type": "code",
      "metadata": {
        "id": "AxSnq9VSgSLi"
      },
      "source": [
        "excellent_df = excellent_df.reset_index().drop(columns='index')\n",
        "good_df = good_df.reset_index().drop(columns='index')\n",
        "poor_df = poor_df.reset_index().drop(columns='index')"
      ],
      "execution_count": 36,
      "outputs": []
    },
    {
      "cell_type": "code",
      "metadata": {
        "id": "xb4IvBxgl1NA"
      },
      "source": [
        "# Feature engineering a column that is simply a count of the tokens \n",
        "# in each row\n",
        "\n",
        "def token_count(token_list):\n",
        "  return len(token_list)\n",
        "\n",
        "\n",
        "excellent_df['num_of_tokens'] = excellent_df['tokens'].apply(token_count)\n",
        "good_df['num_of_tokens'] = good_df['tokens'].apply(token_count)\n",
        "poor_df['num_of_tokens'] = poor_df['tokens'].apply(token_count)"
      ],
      "execution_count": 37,
      "outputs": []
    },
    {
      "cell_type": "code",
      "metadata": {
        "colab": {
          "base_uri": "https://localhost:8080/",
          "height": 97
        },
        "id": "ZRyqfQLJrSE5",
        "outputId": "fa7e3226-c2a9-4f7e-979f-dd502fdbfdd3"
      },
      "source": [
        "excellent_df.head(1)"
      ],
      "execution_count": 38,
      "outputs": [
        {
          "output_type": "execute_result",
          "data": {
            "text/html": [
              "<div>\n",
              "<style scoped>\n",
              "    .dataframe tbody tr th:only-of-type {\n",
              "        vertical-align: middle;\n",
              "    }\n",
              "\n",
              "    .dataframe tbody tr th {\n",
              "        vertical-align: top;\n",
              "    }\n",
              "\n",
              "    .dataframe thead th {\n",
              "        text-align: right;\n",
              "    }\n",
              "</style>\n",
              "<table border=\"1\" class=\"dataframe\">\n",
              "  <thead>\n",
              "    <tr style=\"text-align: right;\">\n",
              "      <th></th>\n",
              "      <th>id</th>\n",
              "      <th>description</th>\n",
              "      <th>ratingCategory</th>\n",
              "      <th>tokens</th>\n",
              "      <th>num_of_tokens</th>\n",
              "    </tr>\n",
              "  </thead>\n",
              "  <tbody>\n",
              "    <tr>\n",
              "      <th>0</th>\n",
              "      <td>3861</td>\n",
              "      <td>\\nAn uncommon exclusive bottling of a 6 year o...</td>\n",
              "      <td>0</td>\n",
              "      <td>[an, uncommon, exclusive, bottling, of, a, , y...</td>\n",
              "      <td>82</td>\n",
              "    </tr>\n",
              "  </tbody>\n",
              "</table>\n",
              "</div>"
            ],
            "text/plain": [
              "     id  ... num_of_tokens\n",
              "0  3861  ...            82\n",
              "\n",
              "[1 rows x 5 columns]"
            ]
          },
          "metadata": {
            "tags": []
          },
          "execution_count": 38
        }
      ]
    },
    {
      "cell_type": "code",
      "metadata": {
        "id": "d9hV5BRtp6Kb"
      },
      "source": [
        "excellent_ave_token_count = sum(excellent_df['num_of_tokens']) / len(excellent_df['num_of_tokens'])\n",
        "good_ave_token_count = sum(good_df['num_of_tokens']) / len(good_df['num_of_tokens'])\n",
        "poor_ave_token_count = sum(poor_df['num_of_tokens']) / len(poor_df['num_of_tokens'])"
      ],
      "execution_count": 39,
      "outputs": []
    },
    {
      "cell_type": "code",
      "metadata": {
        "colab": {
          "base_uri": "https://localhost:8080/"
        },
        "id": "sCKEKf-5qhN6",
        "outputId": "0bad8e76-f597-428f-bceb-19b8d7f1dba5"
      },
      "source": [
        "# So, no clear difference in number of tokens in relation to ratings, but \n",
        "# will check again once stopwords are removed..\n",
        "\n",
        "print(excellent_ave_token_count)\n",
        "print(good_ave_token_count)\n",
        "print(poor_ave_token_count)"
      ],
      "execution_count": 40,
      "outputs": [
        {
          "output_type": "stream",
          "text": [
            "71.35144609991235\n",
            "71.82367233599444\n",
            "72.03076923076924\n"
          ],
          "name": "stdout"
        }
      ]
    },
    {
      "cell_type": "code",
      "metadata": {
        "id": "8h28Cz-Ld_gE"
      },
      "source": [
        "def count(df):\n",
        "  counts = {}\n",
        "  for i in range (len(df)):\n",
        "    for key,val in dict(Counter(df['tokens'][i])).items():\n",
        "      if key in counts:\n",
        "        counts[key] += val\n",
        "      else:\n",
        "        counts[key] = val\n",
        "  \n",
        "  return counts"
      ],
      "execution_count": 41,
      "outputs": []
    },
    {
      "cell_type": "code",
      "metadata": {
        "id": "LZynfhX6hXLS"
      },
      "source": [
        "# Counting the amount of times each INDIVIDUAL token shows up in each dataframe\n",
        "# using the above function.  Can use this to find more accurate stopwords for \n",
        "# this dataset\n",
        "\n",
        "excellent_count = count(excellent_df)\n",
        "good_count = count(good_df)\n",
        "poor_count = count(poor_df)"
      ],
      "execution_count": 42,
      "outputs": []
    },
    {
      "cell_type": "code",
      "metadata": {
        "colab": {
          "base_uri": "https://localhost:8080/"
        },
        "id": "Emat_mlHovWK",
        "outputId": "d7126c27-345e-48a8-81ac-252dd0c04d5e"
      },
      "source": [
        "print(len(excellent_count))\n",
        "print(len(good_count))\n",
        "print(len(poor_count))"
      ],
      "execution_count": 43,
      "outputs": [
        {
          "output_type": "stream",
          "text": [
            "7336\n",
            "11089\n",
            "1363\n"
          ],
          "name": "stdout"
        }
      ]
    },
    {
      "cell_type": "code",
      "metadata": {
        "id": "mznQL7cdiOca"
      },
      "source": [
        "excellent_count = sorted(excellent_count.items(), key=lambda x: x[1], reverse=True)\n",
        "good_count = sorted(good_count.items(), key=lambda x: x[1], reverse=True)\n",
        "poor_count = sorted(poor_count.items(), key=lambda x: x[1], reverse=True)"
      ],
      "execution_count": 44,
      "outputs": []
    },
    {
      "cell_type": "code",
      "metadata": {
        "colab": {
          "base_uri": "https://localhost:8080/"
        },
        "id": "vuxLcDmwhSlR",
        "outputId": "4375ab97-dc89-48ab-d3f6-d299b6ed80b6"
      },
      "source": [
        "excellent_count[:10]"
      ],
      "execution_count": 45,
      "outputs": [
        {
          "output_type": "execute_result",
          "data": {
            "text/plain": [
              "[('and', 3936),\n",
              " ('the', 3900),\n",
              " ('a', 2895),\n",
              " ('of', 2271),\n",
              " ('with', 1611),\n",
              " ('is', 1284),\n",
              " ('in', 1227),\n",
              " ('', 1178),\n",
              " ('to', 934),\n",
              " ('this', 910)]"
            ]
          },
          "metadata": {
            "tags": []
          },
          "execution_count": 45
        }
      ]
    },
    {
      "cell_type": "code",
      "metadata": {
        "id": "XCi0viziftM-"
      },
      "source": [
        "def standardize(dictionary):\n",
        "  total = 0\n",
        "  new_dict = {}\n",
        "  for key,val in dictionary:\n",
        "    total += val\n",
        "  \n",
        "  for key,val in dictionary:\n",
        "    new_dict[key] = val/total\n",
        "  \n",
        "  return new_dict"
      ],
      "execution_count": 46,
      "outputs": []
    },
    {
      "cell_type": "code",
      "metadata": {
        "id": "RjZvAvnPhmTG"
      },
      "source": [
        "excellent_count = sorted(standardize(excellent_count).items(), key=lambda x: x[1], reverse=True)\n",
        "good_count = sorted(standardize(good_count).items(), key=lambda x: x[1], reverse=True)\n",
        "poor_count = sorted(standardize(poor_count).items(), key=lambda x: x[1], reverse=True)"
      ],
      "execution_count": 47,
      "outputs": []
    },
    {
      "cell_type": "code",
      "metadata": {
        "colab": {
          "base_uri": "https://localhost:8080/"
        },
        "id": "C6LYiRbvufM4",
        "outputId": "1758663e-a341-443c-9245-85693eb3c7db"
      },
      "source": [
        "# Example (top 10 words with rating of excellent, standardized):\n",
        "\n",
        "excellent_count[20:30]"
      ],
      "execution_count": 54,
      "outputs": [
        {
          "output_type": "execute_result",
          "data": {
            "text/plain": [
              "[('notes', 0.005576573478111335),\n",
              " ('for', 0.005539723873630423),\n",
              " ('vanilla', 0.005011546209404019),\n",
              " ('that', 0.004839581388493097),\n",
              " ('more', 0.0046430501645949),\n",
              " ('from', 0.004606200560113988),\n",
              " ('fruit', 0.0043482533287476045),\n",
              " ('an', 0.003942907679457574),\n",
              " ('as', 0.0037955092615339263),\n",
              " ('whiskey', 0.003697243649584828)]"
            ]
          },
          "metadata": {
            "tags": []
          },
          "execution_count": 54
        }
      ]
    },
    {
      "cell_type": "code",
      "metadata": {
        "colab": {
          "base_uri": "https://localhost:8080/"
        },
        "id": "5FxmpUNV6ohz",
        "outputId": "28dcbbde-00b3-4d2d-f9f2-2945eba3344f"
      },
      "source": [
        "good_count[10:20]"
      ],
      "execution_count": 52,
      "outputs": [
        {
          "output_type": "execute_result",
          "data": {
            "text/plain": [
              "[('to', 0.009723376698691307),\n",
              " ('finish', 0.009298099785428466),\n",
              " ('oak', 0.0077564709748506695),\n",
              " ('palate', 0.007026734453229205),\n",
              " ('nose', 0.006379153698942607),\n",
              " ('vanilla', 0.006364655622354101),\n",
              " ('notes', 0.006161682550115018),\n",
              " ('it', 0.005876553710541068),\n",
              " ('its', 0.0058427248651678875),\n",
              " ('sweet', 0.00579923063540237)]"
            ]
          },
          "metadata": {
            "tags": []
          },
          "execution_count": 52
        }
      ]
    },
    {
      "cell_type": "code",
      "metadata": {
        "colab": {
          "base_uri": "https://localhost:8080/"
        },
        "id": "TcMRHnl46rvu",
        "outputId": "9924c80c-748e-4296-886f-6b5697c14ebd"
      },
      "source": [
        "poor_count[20:30]"
      ],
      "execution_count": 55,
      "outputs": [
        {
          "output_type": "execute_result",
          "data": {
            "text/plain": [
              "[('palate', 0.006407518154634771),\n",
              " ('more', 0.005766766339171294),\n",
              " ('that', 0.005553182400683468),\n",
              " ('as', 0.005553182400683468),\n",
              " ('whiskey', 0.005339598462195643),\n",
              " ('hot', 0.005339598462195643),\n",
              " ('like', 0.004912430585219991),\n",
              " ('old', 0.004698846646732166),\n",
              " ('notes', 0.004698846646732166),\n",
              " ('an', 0.004698846646732166)]"
            ]
          },
          "metadata": {
            "tags": []
          },
          "execution_count": 55
        }
      ]
    },
    {
      "cell_type": "code",
      "metadata": {
        "id": "HkigzvPUp2Pm"
      },
      "source": [
        "def create_stopwords(dictionary):\n",
        "  stopwords = []\n",
        "  for key,val in dictionary:\n",
        "    if val > 0.001:\n",
        "      stopwords.append(key)\n",
        "    else:\n",
        "      continue\n",
        "  \n",
        "  return stopwords"
      ],
      "execution_count": 21,
      "outputs": []
    },
    {
      "cell_type": "code",
      "metadata": {
        "id": "7cfiUESXqZc1"
      },
      "source": [
        "stop_words = create_stopwords(excellent_count) + create_stopwords(good_count) + create_stopwords(poor_count)"
      ],
      "execution_count": 22,
      "outputs": []
    },
    {
      "cell_type": "code",
      "metadata": {
        "id": "bydV922nrcNY"
      },
      "source": [
        "stop_words = set(stop_words)"
      ],
      "execution_count": 23,
      "outputs": []
    },
    {
      "cell_type": "code",
      "metadata": {
        "id": "eKa17JaIuqge"
      },
      "source": [
        "def find_anomalies(dictionary, percent_of):\n",
        "  common = []\n",
        "  for key,val in dictionary[:percent_of]:\n",
        "      common.append(key)\n",
        "  \n",
        "  return common"
      ],
      "execution_count": 24,
      "outputs": []
    },
    {
      "cell_type": "code",
      "metadata": {
        "id": "m_lEzcRGvSje"
      },
      "source": [
        "top_excellent = find_anomalies(excellent_count, int(len(excellent_count)*1))\n",
        "top_good = find_anomalies(good_count, int(len(good_count)*1))\n",
        "top_poor = find_anomalies(poor_count, int(len(poor_count)*1))"
      ],
      "execution_count": 25,
      "outputs": []
    },
    {
      "cell_type": "code",
      "metadata": {
        "id": "FqBsD0p0z2Oz"
      },
      "source": [
        "# Lists of unique words in each rating category:"
      ],
      "execution_count": 26,
      "outputs": []
    },
    {
      "cell_type": "code",
      "metadata": {
        "id": "b9skAi0nyTiG"
      },
      "source": [
        "unique_excellent = list(set(top_excellent) - set(top_good) - set(top_poor))\n",
        "unique_good = list(set(top_good) - set(top_excellent) - set(top_poor))\n",
        "unique_poor = list(set(top_poor) - set(top_excellent) - set(top_good))"
      ],
      "execution_count": 27,
      "outputs": []
    },
    {
      "cell_type": "code",
      "metadata": {
        "colab": {
          "base_uri": "https://localhost:8080/"
        },
        "id": "p8c9Mekb0qht",
        "outputId": "a0d01c07-42f7-4b93-8fdb-090fd0909225"
      },
      "source": [
        "print(unique_excellent)\n",
        "print(unique_good)\n",
        "print(unique_poor)"
      ],
      "execution_count": 28,
      "outputs": [
        {
          "output_type": "stream",
          "text": [
            "['waited', 'bounds', 'floridas', 'precipitously', 'oilbut', 'bolt', 'grapey', 'fusty', 'pigskin', '190500', 'custodians', 'chassagne', 'theft', 'selecting', 'dump', 'buoyed', 'screech', 'montana', 'woozy', 'cave', 'options', 'calmed', 'dissolving', 'riposte', 'gilead', 'gelephu', 'refreshes', 'sloe', 'expand', 'pewaukee', 'refuse', '1870', 'vinhos', 'standpoint', 'constricted', 'honeyedtoffee', '1221', 'smoothest', 'voce', 'proportioned', 'suduiraut', 'curaao', 'darkroom', 'forays', 'kgb', 'presumably', 'throughbaked', 'wheelbarrow', 'harry', 'hurdle', 'bagels', 'tugs', 'maids', 'smoothly', 'sprigs', 'trophy', 'gingko', 'proximity', 'baguette', 'freesia', 'nicknamed', 'newfies', 'flowersstems', 'latent', 'reimagined', 'schramm', 'mangoemerging', 'soaking', 'c40375', 'voice', 'sushi', 'chf89', 'piled', 'movie', 'willies', 'cringe', 'father', 'powdering', 'nostalgic', 'voices', 'omoray', 'alley', 'enterprising', '2018s', 'erodes', 'kate', 'mineraly', 'merits', 'pretend', 'montrose', 'fruitypear', 'pigeon', 'occupants', 'thai', 'stags', 'broader', 'ringing', 'dig', 'langside', 'scattering', 'likes', 'ruining', 'compares', 'survives', 'schoolroom', 'cheesy', 'plaudits', 'reckon', 'citrusorange', 'reacquaint', 'alexandria', 'hewn', '3542', 'papery', 'apogee', 'excite', 'orchestrated', 'clevelands', 'conservatively', 'belong', 'prodigies', 'singing', 'taghtagaelic', 'ski', 'vermonts', 'chinato', 'tortilla', 'rabbits', 'feints', 'unbaked', 'elementsspring', 'cutrer', 'onlyc24', 'ennis', 'ords', 'dilemma', 'brutish', 'bespeak', 'casknot', 'unnamed', 'brennes', 'cruiserweight', 'cerealnot', 'vernon', 'inner', 'hotbrings', 'legos', 'performs', 'saddlebags', 'rusticity', '4750', 'nant', 'havoc', 'absent', 'yips', 'lapping', 'minus', 'harveys', 'gush', 'affected', 'ignorant', 'greenery', 'patchy', 'jordon', 'rubs', 'nixed', 'greenherbaceous', 'dant', 'janssen', 'buster', 'example12000', 'seckel', 'intoxicated', 'wrecked', 'evaporative', 'vegetation', 'loosened', 'polypropylene', '540', 'fruitwood', 'platter', 'visions', 'bain', '270', '82', 'lunchtime', 'mollified', 'endive', 'miraculous', 'ripsnorter', 'palatenotably', 'flamed', 'tongues', 'brashness', 'greenish', 'greek', 'flax', 'dealing', 'sack', 'operative', 'denying', 'southeast', 'unmodified', 'onlyc26', 'struggling', 'seedless', 'bulky', 'intrigued', 'deglazed', 'luc', 'porticus', 'derives', 'lightning', 'nervy', 'price31', 'ponder', 'neutralizer', '10328', 'tectonic', 'tanked', 'juras', 'inward', 'sodas', 'tendrils', '103', 'soupy', 'engulfed', 'maggie', 'crashing', 'stiff', 'sec', 'kilkenny', 'file', 'woodstones', 'contributor', '725', 'pitches', '66gilead', 'reflect', '1347', 'doors', 'telltale', '381', 'reasserting', 'anthocyanins', 'duff', 'begonelet', 'irresistible', 'helmsman', 'doused', 'hunk', 'risks', 'wasp', 'legally', 'toronto', 'repeat', 'collections', 'fares', 'awareness', 'funds', 'eveningand', 'glenallachie', 'clamor', 'deeside', 'midway', 'ripper', 'taliskermore', 'cinnamona', 'maybeand', 'dum', 'radical', 'effusiveness', 'palateamazingly', 'radermacher', 'processed', 'clingingly', 'wreak', 'pearlaced', 'nutmegvalue', 'keening', 'gang', 'spicyslicey', 'balearics', 'specials', 'hive', 'rod', 'blaue', 'detrimental', 'bottoms', 'oozed', 'reopening', 'thunder', 'sorry', 'halfway', 'cloyingly', '1824', 'psa3', 'springtime', 'joints', 'hardness', 'traits', 'minds', 'fiesta', 'tins', 'compression', 'bushels', 'dehydrated', 'newbies', 'ceilidh', 'newspapers', 'edrington', 'pitlochry', 'expectsbetter', 'maltsand', 'candlewicks', 'spirited', 'object', 'swifts', 'congenial', 'fir', 'simpler', 'pledge', 'withat', 'spiritbut', 'foretell', 'enthusiast', 'xo', 'unadventurous', 'cornand', 'perplexingly', 'stretching', 'tailgaters', 'agreeably', 'bittering', 'convention', 'sulphur', 'inevitable', '126', 'yuzuas', 'c37', 'mascarpone', '13000', 'eunson', '377', 'hellyers', 'footsteps', 'publication', 'amberruby', 'interlaced', 'windsor', 'shyness', 'bayswater', 'wallet', 'alight', 'wheatrye', 'shattering', 'stalls', 'husky', 'rank', 'gig', '649', 'underpriced', 'crockett', 'woodpile', 'bergamot', 'granada', 'elicits', 'tokyo', 'stalky', 'kernel', 'lancaster', 'alcalde', 'yeah', 'oatcake', 'anvil', 'dunkbut', 'exploration', 'invasion', 'spin', 'solvents', 'underdeveloped', 'wilds', 'weasel', 'spots', 'cacophonic', 'stifled', 'backboard', 'pomerol', 'chronicles', 'raspberryand', 'madeis', 'loam', 'biltongpemmican', 'bobby', 'cucumbers', 'candiedbut', 'toledo', 'muesli', 'magical', 'otherwiseits', 'garner', 'burny', 'spicelight', '1958', '320', 'waterloo', 'silkies', 'lovell', 'yep', 'tough', 'artisans', 'bracing44', 'sited', 'butyric', 'potions', 'insipid', 'merciless', 'jem', 'focal', 'economical', 'magnum', 'c90', 'spotlighting', '388', 'rafting', '20th', 'international', 'items', 'triggers', 'likesweet', 'tangine', 'diminuendo', 'formulated', 'brewerys', 'intensify', '18221913', 'persistence', 'fairytale', 'sotto', 'stubble', 'dearg', 'voralberg', 'mentholcamphor', 'inoffensive', 'firstnotes', 'weirdly', 'permeates', 'placidity', 'wallys', 'sent', 'punnet', 'hedgerows', 'grin', 'lawnmower', 'appealed', 'suety', 'noseful', 'leatheriness', 'chichibus', 'justgood', 'bryson', 'sawmill', 'consigned', 'woodlands', '100ml', 'chive', 'oneness', 'inklings', 'graingolden', 'transformed', 'handsome', 'winkle', 'upbeat', 'penn', 'basics', 'trapped', 'saved', 'pressing', '6600', 'muddled', 'applauded', 'captain', 'springy', 'minor', 'conn', 'letdown', 'distraction', 'talented', '1900s', 'wildest', 'plushy', 'stroopwafel', 'appenzeller', 'frail', 'hurtin', 'reeses', 'elemental', 'nuttiest', 'burbling', 'fault', 'darek', '262', 'polarize', 'sliabh', 'ashtray', 'tails', 'sentimental', 'amalgam', 'pablum', 'peeks', 'quarterfinalist', 'stranahans', 'brink', 'ambulatory', 'horrific', 'tagging', 'embellish', 'sensual', 'motor', 'unabashed', 'drubbing', '112', 'oneis', 'lucerne', 'suffers', 'rm263', 'buttermilk', 'quicker', 'reputable', 'shortish', 'flatness', 'movement', '953', 'caoran', 'threat', 'perennial', 'putters', 'competitor', 'narrow', 'contradicts', '237', 'seminar', 'ts', 'witch', 'mellowing', 'dividends', 'blazer', 'scattered', 'hartford', 'revived', 'sediment', 'whyte', '761', 'calledsmoky', 'fruitinesswhite', 'puget', 'robustness', 'marble', 'iain', 'template', 'wineyness', 'tintin', 'steeliness', 'roasty', 'nearby', 'lowest', 'unseeded', 'decanted', 'akashi', 'cigarettes', 'attune', 'reduce', '170th', 'respond', 'exiting', 'ridgewood', '267', 'rear', 'lengthening', 'arme', 'mute', '2266', 'townships', '15ppm', 'abates', 'foubert', 'mini', 'heftier', 'franciscan', 'dishes', 'unintegrated', 'disappoints', 'borrowed', 'respite', 'dampened', 'errragricultural', 'pittsburgh', '490', 'nz95', 'germanys', '964', 'mixable', 'discernible', 'overture', 'rosewood', 'remit', 'vapor', 'skailk', 'aperitifhighball', 'adjacent', 'smoothed', '18121911', 'initiative', 'offensive', 'razaqpur', 'concerns', 'slap', 'deveron', 'saucers', 'slivered', 'raft', 'papier', 'adopts', 'loud', 'cred', 'shots', 'buffers', 'svein', 'hatfield', 'strip', 'claimed', '1014', 'revisiting', 'pronouncements', 'bernsteinopened', 'shining', 'roughness', 'mainline', 'bubbly', 'w', 'flyweight', '3145', 'pappy', 'snapped', 'phc', 'indistinctive', 'genoise', 'tenant', 'descriptors', 'candiesspicy', 'whoda', 'tho', 'founder', 'committed', 'meanwhile', 'kinsmans', 'marvelous', 'descends', 'synch', 'mutton', 'debased', 'rumors', 'cc', 'cardhus', 'translating', 'ruined', 'splits', 'macnamara', 'pining', 'verdes', 'enliven', 'drunk', 'braes', 'corks', 'redeems', 'logo', 'mouthnot', 'speysides', 'skips', 'bombs', 'cloth', 'abrupt', 'brigade', 'charter', 'shakespearean', 'folklore', 'freezer', 'douse', 'treaclemolasses', 'indicates', 'nakedly', 'rosebanks', '2554', 'chewed', 'periphery', 'unloved', 'attenuationbut', 'offend', 'claretbordeaux', 'swampy', 'veecont', 'opinions', 'agileaccompanied', 'blockbusters', 'tubby', 'territories', 'fumabat', 'jumbled', 'completists', 'flambed', 'markvardsen', 'cordials', 'orchestrate', 'lustrous', 'telephone', 'fluff', 'dreadful', 'loosen', 'inchmurrin', 'tool', 'seeing', 'footwork', 'jokey', 'riverweeds', 'millefeuille', 'rehabilitation', 'fruitbowlapple', 'conjure', '2892', 'wl', 'sending', 'dalliance', 'frontal', 'tyler', 'cardhufor', 'ofcanadian', 'cornpone', 'reunion', 'yowser', 'drapes', 'shimmer', 'staggs', 'advanced', 'cleaned', 'minnesota', 'nourishment', 'fry', 'mellowest', 'hulls', 'farls', 'deflect', 'picard', 'ibu', 'gullet', 'resounds', 'rubbing', 'seemed', 'dryhouse', 'alt', 'stripe', 'surupy', 'bough', 'hullabaloo', 'liechtenstein', 'door', 'englands', 'chose', 'mosbys', 'oxtail', 'hooked', '1919', 'breadflour', 'angus', 'roaming', 'ordered', '511', 'tastya', 'firms', 'gutsier', 'noises', 'outbuilding', 'vindication', 'ohio', 'matador', 'sweeten', 'auri', 'placeholder', 'smoker', 'undiluted', '519', 'bunny', 'wham', 'unlimited', 'balluinluig', 'baker', 'plight', 'distinction', 'sinking', 'icy', 'sneak', 'limeburners', 'aluminum', 'luthiers', 'seized', 'bourbonsa', 'convincing', 'unfocused', 'centuries', 'abiding', 'tussle', 'bloodbath', 'auto', 'realized', 'chieftain', 'rider', 'trip', 'europes', 'barlow', 'doc', 'joust', 'nodule', 'scaled', 'brashly', 'refills', 'intro', 'woodwhich', 'filaments', 'trampled', 'stealth', 'twang', 'assessed', 'loganberry', 'praised', 'replicated', 'bin', 'smearing', 'existed', 'satisfied', 'blink', 'louis', 'b1986', 'breakfasty', 'nz85', 'regard', 'kidding', 'bourneville', 'longed', 'hallucinatory', 'fieriest', 'depending', 'average', 'flipping', 'brazils', 'projects', 'obahn', 'tokaji', 'lusty', 'punks', 'bouncy', 'japans', 'block', 'mound', 'coarse', 'prophesizes', '10699', 'teeters', 'chemically', 'miles', 'mashbillcorn', 'rights', 'staying', 'rebuilding', 'refuses', 'delaware', 'ekes', 'proven', 'mush', 'exact', 'frisky', 'swapped', 'sometime', 'curried', 'elapsed', 'ko', '10439', 'suburbs', 'rudely', 'alba', 'flake', 'sourbitter', 'notoriety', 'roskrow', 'rechristened', 'nuttybiscuity', 'donegal', 'roberti', 'experimentations', 'resonance', 'suffered', 'radish', 'nuttyburnt', 'prop', 'grandfather', 'errors', 'highballs', 'tomes', 'nz126', '833', 'discern', 'feed', 'spaghetti', '494', 'pushy', 'rendered', 'pandan', 'parker', 'maplewood', 'bath', 'destination', 'fuss', 'sooner', 'shopstems', 'popularity', 'hokkaido', 'imbalanced', 'tamped', 'steeping', '1810', 'approx', 'bands', 'smarter', 'presentations', 'packet', 'organized', 'dryer', 'landing', 'regularly', 'lucy', 'gulp', 'musters', 'basement', 'detailed', 'principality', 'wolfburn', 'tear', 'borage', 'nicest', 'populated', 'extinct', 'inauspicious', 'filliers', 'planning', 'continuation', 'willie', 'lunn', 'hermetic', 'benedictine', 'oatsthis', 'redeem', 'punchier', 'cheaper', 'apposite', 'clansman', 'belies', '2520', 'areas', 'powderl', 'devastating', '373', 'kosher', 'debuted', 'petticoat', 'goldlime', 'predominant', '1960', 'authenticity', 'explorers', 'athlete', 'montrachet', 'splurge', 'tastiness', 'stood', 'groves', 'harsher', 'stretched', 'c250', 'coopered', 'sippers', 'procession', 'overpriced', 'perfumery', 'dadenong', 'bam', 'chaser', 'purchasing', 'shifted', 'license', 'skiing', 'trebor', 'discovered', 'airs', 'ownership', 'pantazi', 'inconsistencies', 'dosed', 'leastmeans', 'forbidding', 'traders', 'newcomer', 'empress', 'benachie', 'converges', 'whipping', '40s', 'rootsiness', 'loosely', 'memorize', 'exclusive70', 'taps', 'islaya', 'pineappleplus', 'flight', 'bc', 'unending', 'crooked', 'gns', 'c26', 'sheaves', 'probing', 'snowy', 'banoffie', 'jenever', 'characterized', 'ludens', 'tearing', 'caramelon', 'embedded', 'representation', 'pedestrian', 'lethargic', 'interfering', 'rumscreech', 'screaming', 'similarities', 'handrails', 'bulb', 'fearless', 'prods', 'submissive', 'item', 'credibility', 'cornryemalted', 'contemporaries', 'whoo', 'collins', 'nothingness', 'whims', 'skate', 'bletted', 'sb2rw', 'inevitably', 'martiniquaise', 'sr', 'impacts', 'vermouth', 'barrelhouse', 'foretells', 'laich', 'hogsheadsone', 'us280', 'quest', 'lifts', 'hotburst', 'plates', 'youbut', 'unexceptional', 'district', 'sacrificing', 'punky', 'mackintosh', 'shiny', 'fruitpineapple', 'couplebut', 'enlightenment', 'aussie', 'cellars', 'breathtaking', 'peapod', 'ably', 'schizophrenia', 'invented', 'acerbity', 'mildest', 'rusheswet', '633', 'record', 'lys', 'ellington', 'tiddler', 'plainly', 'unchanged', 'tentative', 'strolling', 'groundcracked', '10227', 'clusters', 'dair', 'isscary', 'terrifying', 'tasmania', 'einar', 'treasured', 'misleading', 'pickup', 'bitor', 'petite', '60th', 'firewater', 'duo', 'basel', 'quetsch', 'palmetto', 'tiffin', 'rains', 'hayloft', 'flavorson', 'metallic', 'dubble', 'ticklish', 'kobe', 'mouse', 'farmstock', 'curious', 'goesuntil', 'compromisesa', 'kraft', 'brandyaromatic', 'stilled', 'recognizing', 'swear', 'debatable', '31428', 'beaty', 'pagan', 'gills', 'brackengrass', 'wedged', 'selections', 'exploits', 'vellum', 'barrysstein', '70s', 'calmer', 'barleywine', 'corncob', 'herethis', 'het', 'amalfi', 'residue', 'whiskeywhite', 'reanimation', 'impart', 'anoraks', 'hesbay', 'magnus', 'turnips', 'oilyspicy', 'justodd', 'honorary', 'navel', 'pinching', 'mch', 'toasting', 'concede', 'mindedly', 'rinsed', 'excepting', 'crunching', 'damage', 'braeburn', 'loudly', 'irishness', 'decimates', 'notea', 'merchants', 'bargaining', 'clearer', 'penalties', 'sugarplum', 'enzymes', 'formulation', 'testing', 'unseasoned', 'revenge', '721810', 'sally', 'duly', 'winners', 'liqueury', 'sintering', 'stomps', 'finnish', 'dramand', 'teenager', 'drumguish', 'countries', 'orangeamber', 'whooshes', 'laphroaigreviewing', 'squeezins', 'chiffonade', 'extends', 'irreverence', 'fatness', 'thickening', 'firelighters', 'tortillas', 'titular', 'cooks', 'pouring', 'succeeding', 'pinkish', 'meatynew', 'consumes', 'slip', 'salon', 'grindstone', 'entrysmooth', 'eradicate', '117', 'pattern', 'procure', 'employing', 'verdant', 'boathouses', 'glendaloughs', 'orvw', 'downside', 'application', 'ingeniously', 'financier', 'opus', 'pretender', 'shallow', 'variability', 'fashionand', 'unrecognizable', 'woman', 'rapturously', 'housed', 'sauerkraut', 'bunnahabhains', 'prefers', '10042', 'grasshay', 'demanding', 'acerbic', 'beloved', 'krone500', 'fragility', 'daybreak', 'starch', '1800s', 'birds', 'hebridean', 'stillroot', 'cavil', 'orangerie', 'lent', 'shavingscedar', 'philadelphia', '1838', 'civility', '1296', 'barest', 'caramelize', 'enjoyableif', 'discovery', 'saga', '1926', 'bacalhoa', 'extent', 'thicken', 'growling', 'summons', 'factors', '505', 'straps', 'homerun', 'counteracted', 'poitin', 'bier', 'bemused', 'hotsweet', 'flighty', 'sat', 'growl', 'prismatically', 'abhainn', 'donuts', '168', 'ideas', '924', 'maceration', 'stiireadair', 'medicinalherbal', 'ideally', 'dilapidated', 'whining', 'undertaken', 'rm247', 'turfy', 'corner', 'cloy', 'purely', 'angeles', 'bourbonits', 'achingly', 'soco', 'crackerjack', 'justify', 'whistlepigs', 'penetrates', 'riebel', 'gloopiness', '415', 'freshener', 'dampens', 'hothead', 'flimsy', 'beets', 'beckoning', 'bronze', 'cocked', 'chutzpah', 'dabbed', 'seafood', 'lochnagar', 'grooviest', 'privus', 'gardens', 'stitched', 'airiness', 'accident', 'contracting', 'a165', 'incomparable', 'pitaya', 'cooling', 'eldest', 'debonair', 'suffering', 'breadboard', 'modernist', 'rightat', 'aud150', 'sophia', 'auchnagie', 'ledgers', 'bullied', 'shuts', 'jd', 'coppery', 'lambertus', 'saskatchewan', 'istypicallysweet', 'converts', 'maus', 'nervous', 'revised', 'endearing', 'tobaccocedarpine', 'saves', 'smallest', 'peartopped', 'visitors', 'indicated', 'carl', 'guests', 'decking', 'midwestern', 'chops', 'boxer', 'instructive', 'vociferously', 'shelfer', 'versed', 'hopper', 'oakor', 'hoped', 'buyers', 'austerity', 'preludium', 'goo', 'secures', 'compensate', 'elevating', 'collective', 'unrestrained', 'artisan', 'immense', 'tantalizingly', 'sweetsmooth', '132', 'obediently', 'alternating', 'rushing', 'congeners', 'desire', 'clubs', 'duller', 'tucking', 'craiglodge', 'poems', 'clues', 'thunk', 'survive', 'transcend', 'desk', 'charre', 'exclusives', 'pips', 'lemonlime', 'extinguish', 'squabble', 'helmsmans', 'fingertips', 'onionskin', 'fallback', 'segueing', 'civilized', 'tincture', 'overshadowing', 'arsenal', 'tarnishes', 'prescribes', 'grassyminty', 'turnip', 'pasta', 'stoutthink', 'loss', 'conservation', 'enormously', 'seorita', 'enthusiasm', 'coull', 'amherst', 'bicycle', 'pipeline', 'winsome', 'reduction', 'ivory', 'wishing', 'aura', 'dwindles', 'sounds', 'ascendancy', 'mildew', 'c35', 'tank', 'armory', 'sleeve', 'mystique', 'extracted', 'sirah', 'kaiapoi', 'popped', 'deconstructed', 'zappy', 'geographical', 'vo', 'butterycreamy', 'cradles', 'dominate40', '0473', 'quicky', '2927', '60500', 'ghaelach', 'descriptor', 'shakes', 'overlooks', 'wheres', 'switch', 'aud180', 'needle', '349', 'lawn', 'cunning', 'specialized', 'scuttles', 'halibut', 'palmettos', 'opted', 'disrupting', 'idyllic', 'u', 'hitter', 'smootherstill', 'flexes', 'alibi', 'limestone', '863', 'oilier', 'studied', 'rollercoaster', 'diamond', 'julep', 'logic', 'hegemony', 'texturally', 'veins', 'compressed', 'sloppy', 'basis', 'maison', 'epicurean', 'menu', 'wilderen', 'linebacker', 'fruitapple', 'jar', 'miscues', 'woodruff', 'gundeli', 'prominently', 'sources', 'lido', 'macqueens', 'haymow', 'fusel', 'haze', 'oath', 'cornwheat', 'rawness', 'dine', 'collides', 'frill', 'marie', 'department', 'delicatessen', 'buzzing', 'printer', 'weirdo', 'fruitsapples', 'apricottangle', 'markers', 'refilled', '102', 'caught', 'sly', '8500', 'sipwhich', 'hitripe', 'reeds', 'nibbling', 'bouillon', 'kinchie', 'ol', 'lovelyid', 'faithful', 'nerve', 'feintyvegetal', 'willetts', 'sucks', 'hasten', 'unkilned', 'fruitabounds', 'shochu', 'kilning', 'veil', 'glenkeir', 'surrounded', 'loves', 'rectifying', 'releasericher', 'armorik', 'highlighted', 'drawback', 'slapper', 'bewildering', 'dunkelweizen', 'refreshingly', 'vaporub', 'myer', 'slackens', 'bluebell', 'hanyus', 'rescues', 'mason', 'commission', '238', 'haunting', 'wigle', 'generic', 'bubbling', 'eggnog', 'chewiest', 'conversely', 'ling', 'maltiest', 'koolau', 'comus', 'bell', 'precociously', '860677', 'puttyplay', 'dumb', 'giants', 'barbeito', 'adorns', 'balloons', 'newfoundland', '305', 'hundred', 'crick', 'hoodlum', 'waltz', 'flavenoids', 'midpoint', 'weightapple', 'outfit', 'daddy', 'demonstrative', 'fruitiness67', 'university', 'liag', 'creamyoaty', 'demonstrable', 'sick', 'soloists', 'pharmacy', 'proofand', 'scuttle', 'royalty', 'tipping', 'prohibited', 'chenin', 'omg', 'coagulates', 'milestone', 'empower', 'pizzelles', 'buckie', 'corncakes', 'honeybee', 'deconstruction', 'ricotta', 'comparisons', 'drybut', '2700', 'tranquil', 'lighted', 'bottles65', 'malt20', 'inducing', 'hone', 'flattens', 'jesse', 'feud', 'amongst', 'pries', 'beechwood', 'para', 'wi', 'human', '634', 'blunts', 'liar', 'flawed', 'santis', 'edging', 'diverted', 'berkshires', 'succulence', 'equation', 'holiday', 'taunted', 'sapped', 'compose', 'schmidt', 'tilts', 'courses', 'moch', 'porcelain', 'compensated', 'learned', 'carrollton', 'fingernail', 'stickythe', 'willowbank', 'monks', 'restless', 'haul', 'wrappers', 'gotten', 'bunched', 'r5', 'hola', 'gear', 'oblivion', 'brio', 'tonka', 'hazel', 'fellows', 'description', 'perception', 'perplexed', 'peal', 'los', 'helpful', 'terribly', 'glasses', 'accumulated', 'inhaler', 'flames', 'laddies', '157', 'infamous', 'sticking', 'maneuver', 'superficially', 'calvert', '478', 'argues', 'pineyness', 'fringed', 'pat', '1295', 'c25', 'overdosing', 'whispers', 'mineralic', 'glencraig', 'sippingit', 'tasmanias', 'softies', 'limey', 'bloomswith', 'borderwhile', 'hoping', 'anti', 'thornproof', 'abrasive', 'confusing', 'trumps', 'dawn', 'itching', 'rejuvenating', 'toowith', 'hunting', 'rosenstiel', 'forced', 'gentlemanly', 'suicidal', 'glenfddich', 'displaced', 'concannon', 'berkshire', 'absorbed', 'wowthe', 'rm329', 'tobermorys', 'assemble', 'agenda', 'undergrowth', 'tastier', 'understates', 'underscore', 'gatorade', 'branching', 'fringe', 'decimation', 'squirt', 'spains', 'facile', 'tepeztate', 'nicelyuntil', 'shooters', 'activity', 'astonishing', 'relenting', 'puzzling', 'undisputed', 'gymnastics', 'untildarn', 'tends', 'drank', 'crash', 'weaknesses', 'ringer', 'sign', 'dulse', 'dunkel', 'library', 'whiskybut', 'curmudgeon', 'zealands', 'duoro', 'ceremony', 'fruitinessfollowed', 'roman', 'flame', 'mansion', 'gateaux', 'huntly', 'santo', 'boats', 'yeastiness', 'kills', 'insubstantial', 'resultant', 'marionberry', 'keaton', 'sawdusty', 'murky', 'cerealy', 'chlorine', 'chimera', 'raging', 'kanes', 'blocking', 'nicer', 'mackay', 'foray', '35500', 'deliberate', 'scrunched', 'gambled', 'illegally', 'greatly', 'groveside', 'stressful', 'glenkinchies', 'plumes', 'aus', 'drillingly', 'elfingen', 'refreshers', 'agreement', 'careens', 'lumberyard', 'upmango', 'leafiness', 'eponymous', 'peregrina', 'punchesbut', 'silkyyoud', 'alloa', 'affords', 'schnapps', 'teachers', 'nuttynougat', 'belgium31', 'spicebox', 'glenburgie', 'poitn', 'bug', 'warp', 'unruly', 'differencein', 'topples', 'mushroomy', 'doomed', 'sazeracs', 'perthshires', 'uppermost', 'mintvanilla', 'splendor', 'germanic', 'zapping', 'injecting', 'dumber', 'unguents', 'forefathers', 'vietnamese', 'doublewood', 'guide', 'madison', 'predict', 'medlars', '10804', 'picnics', 'orangessoft', 'kansas', 'persevered', 'graphic', 'justified', 'pervasive', 'barnburner', 'grassybacony', 'terrapin', 'henderson', 'reels', '75th', 'shopping', '854', 'mozart', 'cometh', 'clippings', 'taming', 'wimped', 'tastings', 'tricky', 'robertsons', 'jamesons', 'pitchy', 'evaporate', 'deliverys', 'rests', 'shocking', 'proportionally', 'africas', 'dish', 'detecting', 'peachbut', 'pete', 'nutsand', 'ridgemont', 'jaune', 'screams', 'coaxing', 'jericho', 'milford', 'pearcoming', 'tootsie', 'ploom', '1698', 'latour', 'refresher', 'supplys', 'rotting', 'c17', 'branched', 'resolution', 'slicker', 'cheers', 'crinkling', 'infusion', 'spirituous', 'lactic', 'commendable', 'bulked', 'bodies', 'orkneyinga', 'lifes', 'illustrating', 'moresweet', 'liberal', 'underneathbut', 'acdc', 'proffers', 'palatethe', '10229', 'dominic', 'glowingly', 'linseeds', 'ferry', 'widens', 'outboard', 'risen', 'inchmurrins', 'text', 'felled', '1420', 'emergelike', 'showered', 'scooped', 'glendronachs', 'whim', 'cobby', 'rm481', 'etc', 'saxtons', 'bass', 'easier', '24000700', 'carolina', 'dusky', 'drastically', 'pearsas', 'crisping', 'heats', 'fitzgerald', 'dour', 'hitherto', 'resilient', 'broth', 'victorious', 'enrich', 'definitions', 'dustiest', 'cv', 'wadding', 'admit', 'pierre', 'ticks', '749', 'flavorsoak', 'robusta', 'neglected', 'billionth', 'recapitulates', 'myers', 'spoonbread', 'whiskeyoak', 'shearing', 'h', 'unser', 'countrys', 'breakout', '1282', 'rumtopf', 'damask', '46it', 'informed', 'undiscovered', 'vicks', 'guitarist', 'woodland', 'finishand', 'mgpldi', 'liftshellfish', 'issurprisehot', 'licks', '2944', 'paupers', 'thomson', '6040', 'parisian', 'pomace', 'whoever', 'granted', 'glutinous', 'nz148', 'cantelope', 'spins', 'micro', 'fasque', 'injected', 'overgrow', '53liter', 'poolside', 'cornattic', 'corryvreckan', 'massed', 'squished', 'chf79', 'terminal', 'pumped', 'andwhat', 'crisis', 'rolltreacle', 'cornstalk', 'habit', 'weedy', 'junior', 'plucked', 'pantheon', 'sweetalmost', 'reign', 'canterbury', 'shoulders', 'a130', 'bulldog', '50500', 'imply', 'siren', 'doughiness', 'viscount', 'rattlesnake']\n",
            "['beveridge', 'firecracker', 'finishwhere', 'dumont', 'turbocharged', 'relating', 'stubbornly', '5922', 'generates', 'traditionally', 'seek', 'skewed', 'racy', '898', 'whod', 'smuckers', 'guitar', 'cornmeala', '7800', '1987', 'unshelled', 'autumnal', 'ring', 'walked', 'riper', 'heaving', 'pulpy', 'swath', 'loaves', 'kinahans', 'scores', 'nod', 'unleashing', 'fail', 'inventive', 'thirties', 'insinuating', 'staff', 'sizeable', 'danville', 'gumballs', 'lusciously', 'markets', 'installments', 'chapel', 'unimpeachable', 'mare', '456', 'innocently', 'penetration', 'sean', 'tournament', 'grooves', '102f', 'rapier', 'augment', 'shoelaces', 'developments', 'jellybeans', 'shades', 'dang', '1276', 'noseyoung', 'conflict', 'mandarins', 'potting', 'jpy', 'generating', 'hospital', 'badge', 'boasted', 'pub', 'luca', 'fairhair', 'sexy', '969', 'tolerant', '3516', 'ramps', 'expedition', 'trade', 'woefully', 'boisterous', 'withered', 'scrum', 'sixth', '39', 'negates', 'muscovado', 'valkyrie', 'buildings', 'a164', 'c75', 'imbue', 'russet', 'fainthearts', '837', 'mulgrew', 'slit', 'lounge', 'clasps', 'crag', 'bready', 'bourbonsweet', 'demanded', 'mavens', 'observe', 'vestiges', 'petes', 'reaches', 'ridley', 'mouthcinnamon', 'uncharred', 'quantity', 'lexington', 'longtime', 'innovations', 'economically', 'cassis', 'cares', 'evidentboth', 'palomino', 'interpretation', 'morays', 'granary', 'orris', 'profundity', 'venue', 'stampede', 'dylans', 'melds', 'confectionscaramel', 'enjoyment', 'funkiest', '792', 'catching', 'smokinessmore', 'shoppers', 'curving', 'floundering', 'strop', 'finessing', 'bookers', 'ladyburn', 'halvah', '5352', 'tints', 'gingeron', 'louvire', 'bonticou', '350ml', 'delectably', 'obscures', 'rebel', 'matthew', 'reallyperhaps', 'specified', '950', 'deepened', 'tarte', 'clift', 'props', '1180', 'interior', 'overproof', 'terrine', 'peps', 'foursquare', 'endures', 'macmillans', 'memphis', 'friskier', 'perfumedfragrant', 'sketched', 'jobs', 'swaggering', 'm', 'futuristic', 'milder', 'aboard', 'knowing', 'condense', 'observant', 'juxtaposing', 'cleaning', 'importer', 'perkiness', 'gingerresolves', 'skew', '4394', 'encounter', 'fiendishly', '1048', 'tyrconnell', 'tummy', 'c99', 'obscured', 'barbershop', '2293', '474', 'warehousemans', 'touching', 'fjderholmarna', 'posts', '2580', '20000', 'sinatra', 'bock', 'pathway', 'edward', 'stopped', 'requires', 'noncolored', 'oth', 'refinement', 'dragging', 'swish', 'parties', 'inconsistent', 'melding', 'dabble', 'slug', 'millstone', 'headed', 'caressing', 'kilkerran', 'editionare', 'zestin', 'ebony', 'xop', 'drifter', 'ingredient', 'christie', 'haunted', 'counsel', 'attempts', 'grips', 'jose', 'blemish', '1080', 'mount', 'candles', 'brilliancy', 'unforgettable', 'pursuing', 'similarity', 'bluntness', 'greets', 'llandudno', 'bravado', 'partial', 'wellingtons', '8291', 'invaded', 'beguiling40', 'garryana', 'plumper', 'reserves', 'egg', 'quirky', 'herbalmedicinal', 'culminating', 'maceas', 'monolith', 'backwoods', 'attendant', 'strained', 'cotswolds', 'expansion', 'spritely', 'descending', 'undergirds', 'barrelsin', 'sacrificed', 'blemishes', 'saw', 'awaits', 'underpin', 'hopped', 'waterand', 'dainty', 'lagoon', 'operate', 'punchiness', 'screen', 'slender', 'arctic', 'attendance', 'mollusk', 'adheres', 'denied', 'defies', 'savored', 'bask', 'soccer', 'fruitcakes', 'sequel', 'bunsen', 'devotees', '650', 'heartwood', 'straits', 'bowmans', 'entertainment', 'otter', '477', 'spoonfuls', 'contributed', 'vibrance', 'delicateadd', 'kilbeggan', 'comparably', 'dee', 'checking', 'dung', 'teased', '216', 'pittyvaich', 'backpack', 'technicolorblueberries', 'contemptuous', 'chlorophyll', 'demure', 'traffic', 'campbeltowns', 'horned', '171', 'epic', 'twes', 'replication', 'nt8800', 'preservative', 'defiance', 'fascinatingly', 'muscly', 'rejoice', 'flashy', 'tango', 'mixers', 'cicely', '288', 'heralding', 'handling', 'darn', 'platform', 'chic', 'sparky', 'marinus', 'soleo', 'supercharged', 'span', 'revelation', 'ledespecially', 'gas', 'granitic', 'pia', 'boiledcherry', 'captures', 'crust', 'gauze', 'flirtatious', 'aromasthe', 'undergoes', 'tightens', '592', 'drums', 'customize', 'nt2500', '13140', 'concentrates', 'explain', 'lognan', 'pounds', 'allsorts', 'manic', 'drained', 'blockbuster', 'anglaise', 'extensions', 'reeling', 'demonstration', 'connacht', 'whoevers', 'arbroath', 'adventurous', 'train', 'knit', 'merlot', 'bushes', 'hitoyoshi', 'touchdown', 'chiffon', 'modicum', 'width', 'presses', 'trawlers', 'symphonious', 'formulas', 'emits', 'pc5', 'floppy', 'masquerading', 'balloonsthere', 'retail30', 'sundae', '732', 'sagedried', 'deluge', '1862', 'fleshier', 'joyful', 'laps', 'minced', 'navalino', 'planned', 'genuine', 'magnifies', 'maclean', 'grenadine', 'ebbing', 'sizzles', 'unadulterated', 'overlaying', 'dewy', 'gianduja', 'barroom', 'louisville', '3500', 'specialty', 'earthen', 'rediscover', 'commercially', 'tayberry', 'slicing', 'rollicking', 'assuaged', 'mirroring', '006', 'sneakers', 'innocent', 'satans', 'factor', 'bourbonesque', 'crabapple', 'caringly', 'raisons', 'permeated', 'fingered', 'crepes', 'kintyre', 'compliment', 'willy', 'primeval', 'linlithgow', 'exemplifies', 'serpent', 'signatorys', 'lucia', 'extraordinary', 'accurately', 'dovetailed', 'fuse', 'windsors', 'discover', 'sulfury', 'paradise', 'marron', 'frangipani', 'fruitwoods', 'backdraft', 'jp3800', 'dupic', 'harmonizing', 'bourbonbut', 'x', 'unused', 'depletes', 'hillrocks', 'bizarrely', 'bonfirelike', 'a133', 'befits', 'hey', 'ginseng', 'parrying', 'reminders', 'cherriesthey', 'jacket', 'haunt', 'embracing', 'gotemba', 'behaves', 'aplenty', 'skerries', 'prandial', 'beaters', 'capable', 'emanate', 'plunges', 'deceive', 'jif', 'touted', 'franc', 'diminishes', 'closing', 'northwest', 'satsumasand', 'weaker', 'groundswell', 'wintery', 'escape', 'nosed', 'jp', '1448', 'vibe', 'frosty', 'blossoming', 'palatepepper', 'mcnallys', 'cte', 'signal', 'mashbillsone', 'wheel', 'loop', 'peerless', '2500', 'freddie', 'speakeasies', 'consumers', 'resisting', 'ricard', 'rate', 'inspection', 'discouraging', 'walmart', 'rebounding', 'feedback', 'distributed', 'bourboned', 'fahrenheit', 'comfortingly', 'revel', 'pioneering', 'workshopbut', 'accent', 'cipher', 'integrates', 'oa', 'prunesbefore', 'attractively', 'tenderness', 'cachaa', 'knickerbocker', 'dearly', 'seventh', 'luxuriantly', 'aftermath', 'caldenby', '25f', 'disconnected', 'grandiose', '16000', 'lowlander', 'sorghums', 'ghost', 'worse', 'sashays', 'flecked', 'tiger', 'margadale', 'mountaineers', 'braided', '1994', 'boot', 'intermingle', 'ageat', 'photograph', 'vendor', 'emerald', 'wings', 'gilbert', 'magdalene', 'budding', 'sustains', 'pockets', 'gibson', 'tying', 'huggable', 'kyloe', 'swarms', 'necessarily', 'naysayers', 'flitting', 'artein', 'grinders', 'shocked', 'costs', 'afterward', 'ii', 'trifecta', 'mastersons', 'swamped', 'douro', 'gem', 'greet', 'forgets', 'souls', 'tenacious', 'translates', 'moot', '80th', 'credit', 'currents', 'raunchy', 'native', 'gillian', 'deduce', '334', 'sharper', 'underway', 'dining', 'teethand', 'grits', 'booker', 'prides', 'report', 'mushed', 'mouthvery', 'hedonism', 'elegantly', 'jaw', 'presided', 'placid', 'recasked', 'complex105', 'languid', 'coopers', '1898', 'crests', 'freshwater', '3750', 'involves', 'unintentional', 'scored', '155not', 'distllery', 'detonation', 'list', 'subdue', 'hedonismspiconism', 'spike', 'piscine', 'wreathed', 'sourdough', 'correspond', 'goopy', 'regions', '5200', 'animal', 'atlantic', '263', 'wriggling', 'friendship', 'aoc', 'jawbreaker', 'essays', 'bathing', 'francesco', 'croissantwith', 'affect', 'heights', 'lushest', '25000700', 'rhone', 'joseph', '737', 'poteen', 'saffron', 'coo', 'uppers', 'bainbridge', 'kilderkins', 'distortion', 'methodical', 'balsamico', 'holes', 'sweetorange', 'preparing', 'splitting', 'reverts', 'noteshere', 'creamyas', 'discreetly', 'rested', 'independently', 'skidding', 'bearing', 'million', '981', 'arcs', 'blackberriescomes', 'keel', 'discarded', 'waffle', 'hairy', 'belated', 'waterblueberry', 'tube', '115', 'femme', 'summit', 'prevails', 'leaning', 'printers', 'draped', 'crisped', 'stroopwafels', '3954', 'smokiest', '1858', 'geek', 'tunes', 'emanates', 'partnered', 'barbecuing', 'climate', 'headily', 'westland', 'weariness', 'sizesfrom', 'marsh', 'countys', 'broom', 'defiant', 'darkness', 'distillerie', 'homemade', 'progresses', 'considerable', 'sepulchral', '2200', 'dabricot', 'enters', 'milka', 'showpiece', '646', 'rampur', 'freemasons', 'shelf', 'accommodate', 'velvet', 'terroir', 'resourceful', 'ran', '434', 'coconuts', 'habaero', 'iterations', 'clods', 'coconutplus', 'spiceits', 'paid', 'malcolm', 'idle', 'liveliness', 'latakia', 'tossed', 'interacted', 'foil', 'benevolent', 'shellac', 'chinese', 'counterproductive', 'depend', 'granularity', 'ger', 'raffia', 'unlacquered', 'pistachios', 'fewer', 'slathered', 'wallows', 'radiating', 'coiling', 'pured', 'puffy', 'whimsy', 'recedes', 'downwind', 'clutching', 'macho', 'thermidor', 'unsure', 'balm', 'cobs', 'cordite', 'fruitsapple', 'amped', 'trifle', 'reset', 'fruitguava', 'pinesap', 'bernard', 'dorazio', 'liza', 'allspiceblooms', 'proposed', 'chimeric', 'yew', 'transferring', 'stirks', 'fattening', 'themselvesin', 'fold', 'briney', 'detects', '5300', 'comin', 'writers', 'sunflower', 'une', 'hidalgo', 'warmly', 'travelers', 'challenges', 'buttons', 'qu', 'heading', 'bacardi', 'maltynutty', 'halo', 'brinebut', 'beggars', 'meditative', 'surviving', 'hiatus', 'soothingly', 'smokies', 'angela', 'chapeau', 'remnants', 'emptied', 'scratched', 'walks', 'pastel', 'fatale', 'sneaky', 'scion', '55500', '224', 'victor', 'murmuring', 'nathan', 'whitehorse', 'doorways', 'palateraspberries', 'disarmingly', 'licoriceand', 'lacing', 'unlock', 'fruitymore', 'besides', 'responds', 'peppy', 'hides', 'shame', 'bootstraps', 'cointreau', 'motions', 'argentine', '287', 'devils', 'yum', 'trait', 'unattended', 'strapped', '3600', 'oddly', 'vista', 'indulgently', 'hunger', 'paves', 'pumping', 'notice', 'nova', 'dalwhinnie', 'seawater', '3060', 'ante', 'lla', 'toes', 'defer', 'skates', 'us450', 'blueberriessassafras', 'importance', 'lighthouse', 'densedried', 'berger', 'riff', 'precision', 'sprinklings', 'excitingly', 'overstates', 'panamanian', '1260', 'a115', 'redress', '446', 'drooling', '625', 'squeezes', 'accomplishes', 'skeletal', 'prospect', 'warmer', 'perpetual', 'glinting', 'janes', 'wk209', 'abunadhs', '280', 'lava', 'reprise', '101751', 'weighted', 'grumble', 'scarily', 'differenthot', 'mans', 'ushered', 'handpicked', 'buddy', 'sleigh', 'c40', 'fleetingly', '90th', 'mischief', 'mcdavid', 'cavorts', 'throated', 'excursions', 'stealing', 'globally', 'ability', 'pier', 'distillations', '285', 'belle', 'nordic', 'jello', 'niche', 'presages', 'balance382', 'laurels', 'relationship', 'thirty', 'lunchbox', 'plan', 'skillfully', 'oakspice', 'churrascaria', 'australias', 'welcoming', 'pommes', 'upping', 'classical', 'dispenses', 'riesling', 'vigor', 'shelves', 'sark', 'addressing', 'approaches', 'northerly', 'seizes', 'machinery', 'ugly', 'diced', 'multifaceted', 'charcoally', 'sub', 'sixthand', 'chiles', 'libation', 'malevolently', 'shingle', 'steep', 'grassesnow', 'anemic', 'diluting', 'snuffbox', 'ludicrously', 'njoy', 'brasher', 'nudge', 'efficient', 'intensifies', 'oldwith', 'sowith', 'sacking', 'contact', 'dutch', 'connoisseurs', 'gunned', 'pumpernickel', 'distillings', 'fruitkiwi', 'smoothing', 'finishtherapeutic', 'enchantingly', 'rapid', 'hatozaki', 'mainly', 'chocolatebut', 'weightiness', 'reed', 'creature', 'penchant', 'ties', 'surrounding', 'masterwork', 'personalities', 'puzzle', 'fruitspeaches', 'unreciprocated', 'ristras', 'adam', 'musky', 'leanest', 'contemplation', 'lyles', 'stateside', 'pacified', 'caldera', 'robitussin', 'oldbut', 'vaults', 'fantastically', 'heels', 'breathing', 'tap', 'blushes', 'compromises', 'deceptively', 'spades', '169', '1969', 'astounding', 'founders', 'afraid', '254', 'floors', 'reflection', 'liquefy', 'flatter', 'heavyweight', 'licoricepeppermint', 'uplifting', 'everybody', 'underappreciated', 'winemaker', 'ego', 'viennoiseries', 'turmoil', 'discordant', 'squabbling', 'supplies', 'daring', 'recede', 'lump', 't2035', 'underripe', 'cohere', 'cherished', 'cochran', 'proffered', 'vat', 'des', 'cryptic', 'daddies', 'fizzes', 'defying', 'circling', 'shelled', 'meditating', 'jeans', 'alike', 'descent', 'toulouse', 'gretzky', 'elmers', 'pricequality', 'delicacy', 'reopened', '600500', 'accessibility', 'taiwanese', 'strawhoney', '286', '243', '4606', 'bulleit', 'killed', 'dieseland', 'strawflower', 'nibble', 'heaviest', 'forests', 'scotland', 'syrupon', 'skillet', '12240', 'vehicle', 'gallus', 'dissolve', 'soul', 'eifels', 'rosey', 'whiskymade', 'struggled', 'overlap', 'floralspice', 'pearse', 'charts', '1812', 'noggy', 'favorites', 'brabazon', 'vying', 'glenkinchie', 'gentlemans', 'beckon', 'linlithgows', 'promoted', 'startlingly', 'route', 'vinyl', '889', 'boots', 'holler', 'strangely', 'brute', 'resulting', 'approval', 'dickels', 'earthiest', 'chicorycoffee', 'peninsula', 'moscato', 'suitably', 'warenghems', 'tie', 'promisingly', 'excites', 'magnums', 'prized', 'exhausted', 'meyer', 'sugarsweet', 'pessac', 'humble', 'cairdeas', 'coasts', 'valhalla', 'narcissism', 'ledaigthe', 'sweeping', 'enveloped', 'unwrapping', '339', 'snarl', 'authenticus', 'encounters', 'kindness', 'chunks', 'perhapsand', 'georgia', '61', 'watching', '620', 'clovedancing', 'julios', 'uncolored', 'peaks', 'toothpaste', 'nimble', 'portly', 'graduate', 'mediocre', 'crumbling', 'maturating', 'massively', 'geeks', '5604', 'fusillade', 'recipes', 'redcurrants', 'knappogues', 'shouts', 'extension', 'creamplus', 'baba', 'boom', 'sumac', 'expunged', 'bottler', 'fur', 'myrtle', 'carpentry', 'shortchange', 'compantagaelic', 'committee', 'suppler', 'asserts', 'momentum', 'wreathes', 'shire', 'glynnevan', '8544', 'oppressed', 'machrimore', 'puncheons', 'pc7', 'concert', 'goat', 'heilan', 'peacheswhite', 'sinead', 'rioja', 'reverberate', 'oxymoron', 'showstopper', 'gimli', 'nicole', 'thief', 'silveroak', '186', 'brier', 'daisen', 'predates', 'intensitylike', 'beachiness', 'tache', '1401', 'gks', 'adelphis', 'spinach', 'inver', 'topping', 'fox', 'barbed', 'germinating', 'groove', 'powering', 'sacrifice', 'tamale', 'exoticsavorysweet', 'user', 'reigns', 'attracted', 'scratch', 'cohesive', 'adaptation', 'performances', 'buddies', 'hype', 'serieswhich', 'deter', 'calorific', 'twilight', '1853', 'oreo', '354', 'brim', 'separately', 'to12', 'butters', 'squarely', 'thefamousgrousecom', '233', 'runts', 'lats', 'hottest', 'simmering', 'seafaring', 'barleyeverything', 'cute', 'confinement', 'applepear', 'signatory', 'manner', 'molassesas', 'wedge', 'grate', 'spicyaccompanied', 'bodegas', 'secure', 'taciturn', '504', 'frothy', 'keg', 'enthusiastic', 'skull', 'armchair', 'comice', 'signatures', 'metaphorically', 'cragganmores', 'successive', 'slang', 'funkier', 'beefy', 'flooded', 'rubberiness', 'c45', 'caramely', '5689', 'shift', 'ballpark', 'disposition', 'race', 'medicinalfollowed', 'bara', 'vattings', 'chile', 'grenade', 'inexplicably', 'mouthashy', 'incarnation', 'enables', 'pleasantness', 'triumph', 'symphony', 'gentlest', 'unlikely', 'v', 'unfurled', 'hungrily', 'visit', 'hens', 'dirt', 'potentially', 'pm', 'shade', 'dispelled', 'vivid', 'demonstrate', 'reproduction', 'morphs', 'reverie', 'customary', 'seal', 'drenching', 'irascible', 'toned', 'rhne', 'zestier', 'julien', 'demonstrates', 'farmyardy', 'aficionados', 'plows', 'glistening', 'liquorous', 'conforms', 'counterbalancing', 'overweight', 'elchies', 'unrelentingly', 'washbacks', '635', 'perfumes', 'prowess', 'yeastydough', 'divulge', 'unrepentant', 'pureed', 'fueled', 'nevis', 'swallowthen', 'polarizing', 'champion', 'upward', 'particles', 'boullion', 'nt1560', 'pc6', 'satisfies', 'greedy', 'invited', 'province', 'harbors', 'vanillafrosted', 'trickles', 'italy', 'uttar', 'faith', 'squeals', 'leighton', 'smelled', 'pairs', 'sensory', 'whirlpool', 'digest', 'interrupted', 'sigurd', 'netscomes', 'whiskeynot', 'skye', '675', '164', 'nutsa', '875', 'mara', 'message', 'placecorn', 'windmill', 'surly', 'flintiness', 'misses', 'haydens', 'playful', 'oilysticky', '12s', 'figthat', 'therefore', 'squeaky', 'reactor', 'competition', 'spelling', 'bretons', 'decadence', 'moine', 'rouses', 'code', 'assuming', 'formans', 'cushions', 'rise', 'bringle', 'undergirded', 'agreeable', 'disrobe', 'thrum', 'bear', 'alsatian', 'landmark', 'sutcliffe', 'bullishly', 'mckennas', 'minerals', 'sensibilities', 'holstein', 'sliver', 'taliskers', 'sutherland', 'gentian', '310865', '209', 'maned', 'hug', '79', 'octomore', 'twigsmingle', 'emergent', '8196', 'trendy', 'parliament', 'smiles', 'terrific', 'enhancing', 'sudden', 'redskin', 'markerdrying', 'dragonfruit', 'grill', 'ensnares', '312', 'languages', 'spectators', 'goose', 'spiffing', 'ballad', 'marketing', 'attached', 'embarrassingly', 'preceded', 'reliability', 'problems', 'descend', 'fury', '24000', 'alligator', 'dapper', 'nt3500', 'counters', 'afterglow', 'enfolded', 'polo', 'charring', 'characterful', 'arcane', 'hardback', '4500', 'cryle', 'mistakenly', 'plasticine', 'hardest', 'creativity', 'connection', 'cornryemalt', 'booth', 'melt', 'sweltering', 'ranger', 'underground', 'ringmaster', 'macchiato', 'prolific', 'stewarts', 'intimidate', 'gloomily', 'nt19800', 'colossus', 'temples', 'encountered', 'originaryis', 'immaturity', 'subside', 'grittier', '5196', 'rears', 'balcones', 'talcum', '1876', 'croissant', 'glove', 'practice', 'willamette', 'unsurprisingly', 'tramples', 'louth', 'garments', 'terminology', 'lotion', 'suffocating', 'liters', 'gift', 'grabbed', 'guard', 'cavort', 'dialogue', 'dallas', 'wilting', 'phinney', 'seasonings', 'chita', 'pond', 'jump', 'discovering', 'scot', 'toffeecrme', 'paving', 'amaranthine', 'jb', 'recommended', 'seattles', 'sweep', 'mercifully', 'dryly', 'allison', '8888', 'companies', 'collide', 'surely', 'resulted', 'rumbles', '2096', 'quieter', 'mariage', 'diffuse', 'smooths', 'interlace', 'ailsa', 'gathers', 'sniffing', 'quaff', 'imperial38', 'introductory', 'chord', 'charms', 'marbuzet', 'myits', 'submit', 'mackenzie', 'riding', 'repository', 'ominous', 'tumbling', 'chalkiness', 'charlotte', 'galician', 'aromatically', 'rekindles', 'multitude', 'soars', 'experiences', 'brilliance', 'smokehouse', 'opulence', 'renaissance', 'tables', 'thirteen', 'convincingly', 'exuberance', 'winters', 'dateswith', 'quaffable', 'gate', 'confederation', 'dissipate', 'salts', 'bluebells', 'jill', 'tailors', 'invergordons', '75700', 'willingness', 'invergordon', 'bowling', 'candiesbanana', 'vaccaros', '7030', 'kikori', 'odin', 'laying', 'prepares', 'glengyle', 'shack', 'czechoslovakia', 'tempting', 'bang', 'crackles', 'deft', 'complaining', 'rainwater', 'tucked', 'decay', 'ranges', 'lined', 'lacked', 'tub', 'thoroughly', 'littlemills', 'yorks', 'tarlogan', 'swathes', 'musk', 'reconsider', 'vessels', 'implacable', 'hedonistic', 'ceti', 'fundamental', 'excellence', 'papayathough', 'noe', 'wineberries', 'oysters', 'silkyoily', 'scotias', 'sidles', 'stinting', 'rumbling', 'paddy', 'apply', 'characterizes', 'songs', 'unrelenting', 'swan', 'conjures', 'legends', 'liqueured', '4890', 'nows', 'saltysweet', 'drinkim', 'armstrong', 'progressively', 'target', 'cuve', '299', 'studiously', 'circulates', 'darryl', 'toare', 'transit', 'aerosol', 'winklesand', 'mortlachs', 'carole', 'breakers', 'tatin', 'honeycrisp', 'yilan', 'kill', 'storage', 'liquids', 'wort', 'soak', 'blisteringly', 'mallow', 'overlook', 'remedies', 'cascade', '10th', 'penetratingly', 'slab', 'denoting', 'pinhead', 'inventory', 'signify', 'carbon', 'sink', 'upholstery', 'resemble', 'elder', '464', 'malloy', 'bourboncorn', 'satisfaction', 'tiramisu', 'kindle', 'povitica', 'vendome', 'link', 'spoiled', 'universal', 'brith', 'triumphant', '23rd', 'bung', 'zero', 'postprandial', 'pulses', 'sooth', 'economy', 'attacks', 'yuzu', '60000', 'peeps', 'stadler', 'sortilge', 'thingsin', 'mirror', 'stirlingshire', 'vintage620', 'boss', 'floury', 'commercial', 'oozes', 'cones', 'bleeds', 'glenisla', 'complemented', 'garnheath', 'precedes', 'outrun', 'sum', 'hemp', 'balancedtravel', 'evolved', 'saying', 'boxing', 'kids', '155', 'freely', 'mashbills', 'bleed', 'tickles', 'tellicherry', 'rozelieures', 'sizeused', 'us85', 'muldoon', 'festooned', 'perfumy', '6028', 'juntas', 'entrapment', 'spiceallspice', '532', 'lightmedium', 'valued', 'warmed', 'lichtenstein', 'candle', 'unlucky', 'aerated', 'indefinitely', 'writhes', '711', '46liter', 'imparting', '8000', 'obsf', 'wallowing', 'pretensions', 'tick', 'pervades', 'floaty', 'handsomely', 'hence', '395set', 'assimilated', 'dennis', 'daucourt', 'ctes', 'wisdom', 'oilskins', '2021', 'rudtledges', 'candyclove', 'quietly', 'confirmed', 'aux', 'whistle', 'exhibit', 'replacement', 'amorik', 'torn', 'moroccan', '6f', '498', 'grasshayloft', 'namely', 'hyslop', '328', 'briskly', '5443', 'sacrifices', 'continents', 'vitality', '3462', '345', 'distinguish', 'crackling', 'tinted', 'propel', 'sant', 'sd', 'inish', 'lifting', 'sparkles', '1600', 'deserve', 'mellows', '144', 'oaksweet', 'bearer', 'hotel', 'banner', 'dearth', '11332', 'nilla', 'acquainted', 'tun', 'skirt', 'distells', 'noseand', 'saddles', 'insofar', 'unpacks', 'traveling', 'accidental', 'averages', 'furiously', 'endangered', 'crimea', 'waffles', '10897', 'glenugies', 'drown', '1971', '2946', 'mchardy', '5588', 'koval', 'askaig', 'acme', 'inch', 'public', 'toddler', 'engaging', '96', 'twix', '1013', 'hannetts', 'hours', 'sullivan', 'coxs', 'momentary', 'orbit', 'grandmas', 'inherent', 'twister', 'skeptics', 'pentland', 'sell', 'tracking', 'stephanie', 'depicting', 'devotion', 'augmented', 'carried', 'meatybut', 'sliding', 'addiction', 'eleventh', 'covers', 'cannot', 'davidson', 'spray', 'sizes', 'mourned', 'egans', '39000', 'zinginess', 'overdressed', 'casked', 'ranged', 'telling', 'meadowsweet', 'astar', 'redwood', 'venture', 'dhu', '7th', 'ninety', 'instances', 'sun', 'imbibe', '124', 'collaborated', 'chanterelle', 'gelatinous', 'crimson', 'kiln396', 'wardhead', 'cornerstone', 'okinawan', 'farmers', 'ninth', 'enjoyedit', 'spey', 'crimped', 'fizzle', 'quintessence', 'flaunting', 'freshfloral', 'resonating', 'kipperiness', '1195', 'heretical', 'marcil', 'galoreshelled', 'diverse', 'assume', 'bo', 'andin', 'exports', 'tertiary', 'magine', 'evans', 'corecoal', 'assembly', 'lapels', '114', 'elixir', 'unorthodox', 'judicious', 'arduous', 'midsummer', 'itchocolate', 'unleashed', 'astray', 'lines', 'cleanser', '7908', 'quinta', 'namedit', 'glenlossie', 'patron', 'proofing', 'flecks', 'diving', 'stripped', 'asunder', '2nd', 'smokes', 'pristine', 'georges', 'carnival', '2018', 'technique', 'currently70', 'portrays', 'numb', 'glimpsed', 'madagascan', 'tone', '1020', 'bludgeoning', 'bolgheri', 'yuzutingling', 'hurriedwith', '594', 'batting', 'festival', 'homebrewers', 'crew', 'requisite', 'bounces', '330', 'darkest', 'bagged', 'oldfrom', 'baptism', 'weakness', 'underrated', 'flanking', 'flavorsome', 'provokes', 'beech', 'slapped', '136', 'effusive', 'jock', 'savers', 'farming', 'gables', '3900', 'circumstances', 'whistlepig', 'hanger', 'ofyou', 'sluggish', 'rattles', '344', 'honors', 'haut', 'rally', 'completes', 'existence', 'soapiness', '1962', 'auteur', 'searches', 'bowls', 'beetroot', 'listening', 'swerve', 'promoting', 'paired', 'seduction', 'resonant', 'section', 'boundless', 'granite', 'chaperoned', 'punctures', 'untried', 'charting', 'lovable', 'crusty', 'caledonia', 'rifle', 'temperate', 'esteryfloral', 'clackmannanshire', 'related', 'turf', 'sorghum', 'favoring', 'verges', 'massing', 'dwell', 'adolescent', 'wagonload', '160', 'cylinders', 'southwold', 'translate', 'rings', 'corners', 'coils', 'gleefully', 'finely', 'canteiro', 'incontrovertibly', 'conspicuously', 'clatters', 'duel', 'inquisitive', 'surround', 'ramping', 'saucer', 'manassas', 'hankey', 'selective', 'stacked', 'tipped', 'fishnets', 'springing', 'vines', 'fremont', 'solsken', 'brisket', 'conducted', 'leftover', 'quayside', 'flavorscaramel', 'prod', 'commemorate', 'flaxseed', 'particulars', 'hearkens', 'malmsey', 'though36', 'mimics', 'god', 'arouse', 'macleods', 'papillion', 'tim', 'marrons', 'curiositas', 'lowlands', 'subtleness', '50000', 'pleases', '1979', 'magnifique', 'headlong', 'droves', '8585', '268', 'stretch', 'beginner', 'weaving', 'dimensionally', 'solist', 'toffeed', 'deals', 'underbed', 'hoisin', 'ben', 'tumbles', 'whoosh', 'caskmates', 'tomintouls', 'alas', 'debated', 'bottlingtheres', 'luxuriates', 'towiemores', 'declare', 'conviction', 'introductions', 'decaying', 'crystalized', 'benrinnesdominates', 'twisted', 'hobarts', 'fermentations', 'mutt', 'educating', 'phenomenally', '70264', 'wake', 'kan', 'balkenende', 'patties', 'valinch', 'marginally', 'fairground', 'somersaulting', 'minimalist', 'aberlour', 'moulin', 'predecessors', 'savoriness', 'commendably', '315', 'radio', 'brimful', '7500', 'imminent', 'droppingso', '1980', 'meatybovril', 'dichotomy', 'khaitan', 'candieswill', 'limit', 'rudd', 'cavernous', 'anymore', 'umeboshi', 'bib', 'bouquets', 'cherrywood', 'edgethink', 'horsemen', 'paradoxically', 'slave', 'lengthened', 'squeezing', 'anywaymeeting', 'survivalist', 'eruption', 'scotia', 'exhaling', 'dying', 'entertainingly', 'oregons', 'scotts', 'appreciation', 'counteract', '5083254', 'honed', 'heightening', 'chastisingly', '139', 'mitchell', 'frys', 'advance', 'respectable', 'dor', 'scotched', '613', 'javanese', 'resurrectionist', 'spengler', 'fukuyo', 'radiates', 'deliberately', 'granny', 'spell', 'conditioning', 'sweetit', 'meatier', 'aunties', 'knifepoint', '25th', 'worried', 'mouthfeeleven', 'intrusive', 'bathes', '3000', 'blazes', 'strawberrywith', 'despise', 'replacing', 'gvle', 'sinewy', 'jet', 'squidgy', 'smack', 'nipping', '322', 'cinnamons', 'brawny', 'burbles', 'antarctic', 'reviews', 'meyers', 'ramped', '1913', 'buy792', 'shortcake', 'mightier', 'oeso', 'racing', 'teapot', 'grallet', 'henric', 'weekend', 'entombed', '1881', 'raymond', 'numbed', 'mintoes', 'nagano', 'luxuriously', 'claus', 'gardenias', 'places', 'fuji', 'e', 'lacquered', 'pikesville', 'bills', 'rainbow', 'san', '512', 'kuma', 'glowering', 'globe', 'pyrenean', '3888', 'rowan', 'kraken', 'preceding', 'laser', 'rectangular', 'ardnahoe', 'selectionand', 'send', 'syropiasta', 'cars', 'skilled', 'halloween', 'blade', 'universally', 'gluttony', '3rd', 'indulgence', 'caused', '3883', 'provoking', 'infinity', 'pernod', 'alarms', 'appended', 'shore', 'bouron', '45cad', 'overlays', '54000', 'lay', 'domineering', 'glossier', 'league', 'justerini', '71', 'inhabitants', 'emphasized', 'strathmore', 'freshens', '1895', 'finishor', 'colleagues', '337', 'harmonize', 'leaner', 'dare', 'obtrusive', 'prolonged', 'unchallenging', 'pounces', 'instigates', 'joie', 'abruptly', 'scuzzier', 'lambic', 'storm', 'unwinds', '291', 'gods', 'fatty', 'discharges', 'veg', 'medical', 'cluster', 'sawnwith', 'fray', 'sandwich', 'nagging', 'lambay', 'elderflower', 'oodles', 'followers', '4th', '13th', 'carryover', 'filler', 'ldi', 'pretzels', 'rule', 'vinaigrette', 'applied', 'hanging', 'lipsan', 'hesitantly', 'mcconaughey', 'couldnt', 'prefix', 'jekyll', 'pr', 'suspicious', 'absorbing', 'elaborate', 'soleras', 'pecking', 'spooning', 'cherryade', 'meath', 'tightening', 'cornwheatmalt', 'austrian', 'distantly', 'steed', 'a700', 'widening', 'dignity', 'broken', 'tatamidry', 'derry', 'pinpoint', 'sport', 'shrimp', '2490', 'boasting', 'malting', 'replicant', 'tansy', 'indicating', 'aspiration', '154', 'whitmanesque', 'musician', 'flintily', 'midwinters', 'guessed', 'confirm', 'boding', 'optic', 'regulations', 'jasmin', 'tain', 'shifting', 'exercise', 'newmarket', 'seattle', 'impishly', 'snickerdoodles', 'tilt', 'filteredwhich', 'confined', 'lenexa', 'recognize', 'approved', 'tapioca', 'mashes', 'alasdair', 'quench', 'actively', 'cautiously', 'pervade', 'tullibardines', 'sail', 'push', 'induced', 'rightly', 'notions', 'friendshipis', 'pilfering', 'petitgrain', 'phoenix', 'ramsay', 'enhancer', 'symbol', 'emit', 'coax', 'revels', 'birdie', 'shinshu', 'floorboard', 'mother', 'honeycombed', 'grabbing', 'harbinger', 'dexterity', 'fences', 'bartlett', 'impex', 'weed', 'warned', '3524', 'submerged', 'scrub', 'chai', 'diligently', 'casktemptations', 'preview', 'explorer', '752', 'lucid', 'sewn', 'challenged', 'driest', 'langsides', 'vegetative', 'knob', 'boldness', 'ezras', 'releasejust', 'alpine', 'edradours', 'ceci', 'hellhound', 'card', 'tastefully', 'cappuccino', 'thisdrink', 'inferno', 'generosity', 'elite', 'strathislas', 'undercurrents', 'geraniums', 'diesel', 'disgorge', 'jimmy', '4000', 'detectable', 'shimmers', 'whammy', 'vault', 'drills', 'inhibited', 'chilly', 'altered', 'whizz', 'starta', 'flintstones', 'graced', 'angry', '5995', 'hundreds', 'saturates', 'soursweet', 'vivacious', 'ridiculously', 'angoulme', 'wrinkling', 'hopi', 'jawline', 'garde', 'authority', 'enigmatically', '005', 'won', 'entwine', 'liberally', 'exist', 'elevate', 'sizzler', 'bere', 'fashionable', 'dart', 'cloths', 'bosc', 'boston', 'artistry', 'varieties', '1745', 'palatesweeter', 'daylight', '2980', 'ancestor', 'icingand', 'washy', 'zings', 'us340', 'superimposed', 'silkier', 'cohering', 'linkwoods', 'trolley', '393', 'listen', 'machine', '720', 'cherryall', 'sounding', '576', 'unwraps', 'flavorfulbathed', 'bump', 'dreamily', 'unknown', 'jackfruit', 'monkey', 'wider', 'majesty', 'discernibly', 'kombu', 'wise', 'property', 'taylorits', '1076', 'poppy', '960', 'codes', 'croony', 'converge', 'lombards', 'austin', 'sustained', '1644', 'rick', 'echelon', '40ppm', 'kilns', 'stunner', 'ilaand', 'leatherdark', 'valentine', 'turk', 'margaret', 'porkers', 'chasing', 'ashiness', 'dissect', 'shower', '7000', 'fusion', '2964', 'floyd', 'unearth', 'experiential', 'swirling', 'seacoast', 'punctuate', 'portlands', 'mothers', 'guy', 'races', 'rowanberry', 'spiritthe', 'patterns', '278', 'arrans', 'objections', 'pradesh', 'argument', 'categorizing', '1964', 'dropping', 'a135', 'unparalleled', 'a170', 'knock', 'plucky', 'casket', 'assemblage', 'driftwood', 'doughnut', 'iii', 'duckling', 'designs', 'shootin', 'loiter', 'tsailapparently', 'centurythat', 'thruster', 'thyme', 'kickass', 'detonate', 'kilned', 'floordried', 'replace', 'ethereally', 'newish', 'unhurried', 'patient', 'imperceptibly', 'constant', '5675', 'contado', 'proofs', 'grapeshows', 'conference', 'springhurst', 'discernable', 'encouraged', 'whoathis', 'predicts', 'exploratory', 'vancouver', 'fluttering', 'fit', '534', '165', 'pike', 'prophecy', 'cloved', '531', 'canters', 'ogd', 'firmer', '729', 'creme', 'fenugreek', 'disrupted', 'kiwialong', 'czech', 'emollient', 'cassia', 'knows', 'differs', '1952', 'pearalong', 'stopper', 'refilling', 'amoroso', 'driftless', '63500', 'shuttered', 'fought', 'discriminating', 'operating', 'factorybut', 'supersizing', 'regauged', 'meadowgrass', 'pruniness', 'likable', 'distance', 'bumped', 'tasmanians', 'amberchestnutcrimson', 'cartwright', 'ness', 'excelling', 'gewrztraminer', 'partly', 'manazanilla', 'peeked', 'widespread', 'succession', 'saint', 'unity', 'creeks', 'gains', '1700', '36000', 'cemented', 'energizing', 'stomp', 'chocolatetobacco', 'cad125', 'handled', 'expose', 'bespoke', 'strikingly', 'knead', 'cutter', 'purrs', 'gulf', 'peas', 'lyons', 'echoing', 'duty', 'moody', 'nuggets', 'whiskeyits', 'wheels', 'spicesa', '75500', 'magic', 'rebranding', 'wolves', 'grahams', 'creations', 'jams', 'sundowner', 'beneficially', 'shall', 'patented', 'met', 'themed', 'reruns', 'wakes', 'effortlessly', 'paced', 'virtues', 'strains', 'truffles', '480', 'zenith', 'denver', 'noseplums', 'robs', 'numbered', 'bladderwrack', '888', 'nuttyappetite', 'ignoring', 'mr', 'paradox', 'archipelago', 'jungfraujoch', 'oaxacan', 'attest', 'max', 'fond', 'relaxes', 'boann', 'pitmasters', 'fulfilling', 'pitcher', 'retreat', 'buzzy', 'buoyant', 'brilliant', 'roared', '555', 'assures', 'confluence', 'highwoods', 'surfs', 'seats', 'obsv', 'ensues', 'texa', 'depths', '2984', 'consistently', 'connemara', 'freshen', 'hhandy', '152', 'yamazakis', 'seam', 'sophomore', 'ripping', 'succinct', 'fake', 'streaks', 'florentines', 'unlocks', 'measured', 'spicypepper', 'faircandy', 'sister', 'caramelizing', 'battenburg', 'pimply', 'nashville', 'plantain', 'convalmore', 'curtains', 'patrick', 'spiceshot', 'easter', 'avuncular', '1352', 'lest', 'yesterday', 'molin', 'metallica', 'classically', 'president', 'mewing', 'scharffen', 'tagine', 'brass', 'precious', 'surging', '1440', 'fogwatt', 'rechar', 'environmental', 'slopes', 'therapeutic', 'caperdonich', 'woodiest', 'notion', 'rebound', 'alter', 'wealth', 'august', 'morilla', 'lindenprivet', 'sek747', 'ensuring', 'sausages', 'stature', 'maplebut', 'confirmation', 'flavorsfloral', 'icon', 'negatively', 'occupies', '18th', 'accommodates', 'shaped', 'contributions', 'oldestlimited', 'serpentins', 'underpowered', 'satiating', 'breuckelen', 'evoke', 'orbiting', 'peeking', 'assert', 'revolving', 'austrias', 'beveridges', 'notesjelly', 'personal', 'dorus', 'livermore', 'a88', 'mat', 'merging', 'sty', 'brouhaha', '10206', 'rustling', 'fruitgreen', 'coinciding', 'billowing', 'attests', 'channels', 'teddy', 'whenever', 'creatures', 'cl', 'bowmorecapable', 'vasyma', 'flush', 'dribbles', 'loaf', 'unfold', 'manse', 'savvy', 'classed', 'republic', 'members', 'reverence', 'fukano', 'gratification', 'seared', 'engineering', 'kaine', 'incidentally', 'caliber', 'wrote', 'manuka', 'newer', 'smudged', 'ernest', 'rooftops', 'timid', 'bisected', 'contemplate', 'hinted', 'extravagantly', 'diesely', 'best250', 'meting', 'moon', 'sachet', 'faustinelli', '975', 'disappointments', 'churned', 'reward', '223', 'goodies', '13800', 'repertoire', 'todays', 'slightest', 'dramatic', 'plate', 'sierra', 'sultry', 'effortless', 'almacenista', 'rusk', 'speared', 'unsmoked', 'deploys', 'prevailing', 'barretts', 'umber', 'samsaras', 'oppressively', 'messing', 'deserves', 'noseoak', 'torchbearer', 'tastebuds', 'emulsion', 'knuckle', 'eigashimas', 'overstay', 'unexpected', 'parsnips', 'shaft', 'telicherry', 'smothering', 'aromaspeach', 'unperturbed', 'trigger', 'norway', 'ferndale', 'homes', 'chivass', 'alsace', '1232', 'muster', 'mulling', 'coincidentally', 'amplifying', 'halves', 'seductively', 'lushthe', 'tennis', 'prairie', 'dismantled', 'barons', 'stripes', 'tread', '113', 'crab', 'perfecting', 'forsyths', 'trawler', 'boar', 'seaweedmingles', 'engineered', 'renewed', 'smolderingand', 'mistaken', 'centres', 'app', 'featured', 'plans', 'evoking', 'tiresome', 'curing', 'nougatcommingle', 'applejack', 'wrapper', 'tuile', 'pictured', 'citrusclementine', 'bashful', 'ah', 'ardbeggian', 'cornucopia', 'strident', 'beholder', 'capital', 'moistened', 'frontiers', 'tuscan', 'finishlots', 'imbiber', 'revisited', 'imperials', 'sliceswith', 'forgiven', 'scully', 'diffusing', 'wellin', 'recording', 'nobody', 'visited', 'mold', 'fruitespecially', 'discuss', 'occurred', 'belfast', 'oconnors', 'ranks', 'overseas', 'food', 'cope', 'cooleys', 'sing', 'sweetsavory', 'steaming', 'coup', 'enter', 'beeswaxhoneycomb', 'pickerell', 'versailles', 'abandoned', 'cooled', 'duthac', 'aceto', 'relates', 'boxed', 'cubeb', 'spotlights', 'notorious', 'deceptive', 'worcestershire', 'renowned', 'reckless', '591', 'intertwine', 'reliable', 'annually', 'edamame', 'conjunction', 'a95', 'overfed', 'funded', 'sideways', 'roundedwhich', 'concerted', 'themes', 'warengheim', 'squares', 'patently', 'prizes', 'spiceclove', 'coulis', 'talked', 'salvaging', 'mistaking', '340', 'erh', '2713', 'glamorous', 'zinging', 'timbers', 'notable', 'tevasa', 'watertake', '10800', 'bookshelves', 'cedarnutmeg', 'howard', 'oxbridge', 'statements', 'outset', 'hearken', 'bridges', 'ruggedness', 'stamina', 'sensuous', 'individual', 'aejo', 'speysidebut', '782', 'cleans', 'yacht', 'stylishly', 'language', '3456', '173', 'recognition', '479', 'babiesplus', 'ashinessthe', 'mountains', 'shanghai', 'crazily', '637', 'flooding', 'lessens', 'mesquite', 'qmongolica', 'adorned', 'maduro', 'believed', 'metal', 'lovage', 'lebanese', 'madagascar', 'angels', 'registration', 'brews', '30th', 'dublins', 'negligible', 'atop', 'emilio', '18000', '1490', 'understandably', 'meatysweet', 'anyhoo', 'salute', 'diurachs', 'steamed', 'seller', 'jazzed', 'discussing', '1943', 'bannister', 'intelligent', 'glendronach', 'exemplar', 'laws', 'relinquish', 'whirling', 'grandten', 'clincher', 'magrittes', 'reinforced', 'grungiest', 'applesheaped', 'kelvin', 'title', 'pressed', 'hiram', '1966', 'colada', 'peeling', 'gusts', 'rems', 'anyones', 'midletons', 'horchata', 'marmajam', 'writer', 'undercutting', 'mangos', 'toffees', 'foster', 'fear', 'cromartie', 'cannon', 'humdinger', 'solidly', 'fruitsto', 'grease', 'inverleven', 'cobnuts', 'originated', 'became', 'goldenrod', 'cavorting', 'cheerfully', '702010', 'seething', 'hardywood', 'twinkling', 'gripe', 'readily', 'sami', 'detail', 'fruitpapaya', 'veiled', 'admirable', 'imperfections', 'gut', 'stockpiling', 'snappiness', '1902', 'pc', 'improvement47', 'cored', 'maltings', 'impossible', 'speckled', 'untapped', 'pocket', 'porch', '342', 'pleaser', 'exude', 'thousands', 'consumption', 'spicescloves', 'intensifying', 'undergird', 'smarties', 'transmigrated', 'gammon', 'necessity', 'synergy', 'ridiculous', 'counting', '2958', 'g', 'recesses', 'phial', 'cantillion', 'silkiness', 'lashings', 'affinity', 'glhwein', 'inverness', 'choleric', 'dissipating', 'typesboth', 'hampshire', '276', 'gardenone', 'acknowledge', 'hung', 'heaping', 'oldie', 'slumbering', 'stag', 'delilahs', 'gummies', 'desirable', 'supernova', 'cobnut', 'flushes', 'nationalist', 'quebec', 'bounce', 'valleys', 'epitome', 'tuned', 'jamminess', 'entices', '2017', 'supersede', 'rampant', 'fifteenth', 'courage', 'experimentation', 'unravels', 'twin', '360', 'fruitblueberry', 'flapjack', 'overstated', 'assets', 'wedges', 'crossing', 'gourd', 'utah', 'tamnavulin', 'cleanse', 'utilizes', 'outing', 'ghosted', 'masterpiece', 'payday', 'rutter', 'strolls', 'overcoat', 'inhaling', 'spencerfield', 'haystacks', 'controversy', 'liberallythe', 'leaping', 'flop', 'regarded', 'enigmatic', 'tipple', 'gust', 'bourbonsone', 'uigeadail', 'cigars', 'frangipane', 'prickle', '260', 'rife', 'madeleines', 'vapors', 'aplomb', 'discrete', 'portuguese', 'hurry', 'slipperiness', 'society', 'venison', 'rebounds', 'undernotes', 'enlivened', 'ignited', 'maureen', 'grimsby', 'rudds', 'werthers', 'blanched', 'firmed', 'galia', 'dashes', 'succulently', 'impressively', 'gunkiest', 'razzle', 'eyebrows', 'mia', 'wed', 'redistilled', 'instrument', 'mole', '3756', 'unbound', 'cadbury', 'highlight', 'whiskyprobably', 'strand', 'mangothough', 'cassoulet', 'fascadale', 'nay', 'insight', 'eleuthera', 'nutter', 'mile', 'arriving', 'meats', 'sparse', 'comeback', 'art', 'chibidaru', 'ricards', 'remembera', 'opensprincipally', 'parallel', 'bore', 'attic', 'tandem', 'deau', 'maltand', 'beefs', 'buzzes', 'july', 'onward', 'scandinavia', 'tullys', 'maisanos', 'chokingly', 'italian', 'comment', 'effectgiving', 'palatecurious', 'c95', 'reunions', 'pole', 'beverages', 'fitting', 'term', 'shuffling', 'tucker', '210', '743', 'multigrain', 'brownies', 'harmonizes', '1710', 'sweetie', 'beerand', 'blocks', 'standout', 'oxfords', '325', 'frapin', 'sips', 'admission', 'norse', 'sufficiently', 'thumps', 'northeast', 'sucking', 'height', 'registered', 'acts', 'bonanzaraspberry', 'kalamata', 'liquorice', 'seabreeze', 'woodfords', 'brunch', 'frustratingly', 'yesdistilleries', 'minelli', 'adhered', 'rawhide', 'timing', 'beefier', 'retiring', 'currantsl', 'encore', '1740', 'fluxing', 'reviewer', 'personified', 'encompass', 'fell', 'guarantee', 'proofbut', 'spicedcinnamon', 'preserves', 'elmer', 'thoroughbred', 'contenders', 'conquers', 'rivers', 'crumbled', 'approximate', 'triad', 'wildness', 'aiming', 'bank', 'potrero', 'tacky', '264', 'acquiring', 'cube', 'kicker', 'outstays', 'doubles', 'biscuity', 'scorching', 'walls', 'mvr', 'tipp', 'studded', 'timea', 'simplecaramel', 'cheek', 'laphroaigs', 'transcends', 'spicechilis', 'afterburner', 'climb', 'hedgerowshawthorn', 'novel', 'holy', 'bourbonis', 'handles', 'bartender', 'coddle', 'twenty', 'ministers', 'earnest', 'afghanistan', 'shred', 'offsetting', 'containednot', 'incorporating', 'synthesized', 'albertabritish', 'pippin', 'importers', 'inclusion', 'paneled', 'oversweet', 'bleak', '90liter', 'staple', 'duncansby', 'modestly', 'weddings', 'gooey', 'matched', 'barrelthe', 'hombo', 'pound', 'denser', '4200', 'bargains', '769', 'braunstein', 'knocked', 'margins', 'str', 'constrained', 'carpet', 'competitive', 'determination', 'deliciousness', 'wobbling', 'thwack', 'damn', 'sky', 'extractives', 'beefeaters', '525', 'sync', 'loathe', 'iwais', 'tapering', 'kornogs', 'playfulness', '28000', 'stores', 'accustomed', 'mcgregors', 'tan', 'springsteen', 'sweeps', 'developed', 'pointedly', 'advertises', 'montgomery', 'no1', 'kinsman', 'rolo', 'crest', 'morton', 'vineyard', 'morph', 'masataka', 'protagonists', 'surrealist', 'growls', 'jimmies', '1890', 'lannister', '4411', 'cowshed', 'edited', 'chillfiltered', 'trilogy', 'mcivor', 'gravy', 'matchsticks', 'aced', 'amc', '55liter', 'freya', 'summery', 'sitsappropriately', 'purposeful', 'rubbery', 'collie', 'betcha', 'genteel', 'perfumealong', 'wrestled', 'scone', 'rages', 'chunk', 'burgeoning', 'igniting', 'signals', 'emphasis', 'laudanum', 'casey', 'enriching', 'ewe', 'spicesginger', 'interweaves', 'mallorcan', 'ubiquitous', 'fleshthis', 'awesome', 'gems', 'teriyaki', 'weird', 'wm', '795', 'perilous', 'legaret', '2346', 'reined', 'linked', 'sams', 'darken', 'grog', 'juxtaposed', 'lieutenant', 'rectifies', 'strengths', 'reformulation', 'connotations', 'weapons', 'mental', 'flipped', 'don', 'doesand', 'thump', 'empire', 'restrain', 'classics', 'selects', 'generousfull', 'honoring', 'uberbach', 'toe', 'caskquarter', 'illicit', 'graton', 'generated', 'shimmering', 'blown', 'delicateness', 'lochranza', 'attentions', 'jambefore', 'splashed', '118', 'tempranillo', 'macnish', 'washed', 'forethe', 'talia', 'palateroasted', 'dipper', '571', 'infiltrated', 'jaunty', 'appalling', 'barns', 'daybut', 'bumper', 'tempestuous', 'allowed', 'stimulate', 'dive', 'faced', 'consensus', 'dunnageleatheriness', 'hart', 'paraffin', 'furs', 'fiddich', 'dazzle', 'accelerated', 'discussion', 'reformulated', 'trinity', 'evaporating', 'stray', '1905', 'grippiness', 'teacakes', 'sanguine', 'recognized', '15th', 'cowsheds', '4992', 'parchment', 'hessian', 'insights', 'salinitythink', '395', 'canadians', '1884', 'earned', 'slivers', 'lying', '05', 'schools', 'hermitage', 'cranked', 'repose', 'shackleton', 'lineage', 'closures', 'aud', 'ribs', 'fourteen', 'trapeze', 'unobtrusive', 'tandoori', 'nassau', 'permanently', 'sight', 'skip', 'barleys', 'paraphernalia', 'sutcliffes', 'constellation', 'vitamins', 'auchroisk', 'a190', 'smolders', 'spicesclove', 'binding', '1945', 'trepidation', 'devote', 'colliding', 'predictably', 'ancnocs', 'elsass', 'harkens', 'tangible', 'strathcolm', '141', 'relish', 'spellings', 'overbearing', 'disturb', 'stallion', 'spikier', 'asap', 'pfeffernsse', 'moorland', 'tyrell', '191', 'arrowroot', 'shuzo', 'cirdeas', 'a125', 'intensified', 'facility', 'smacks', 'gentility', 'endpredominantly', 'spicesnotably', 'karuizawa', '1124', 'plentiful', 'straddles', 'spicessage', 'exclusive33', 'distell', 'doug', 'fruitand', 'junipero', 'week', 'maguire', 'timer', 'feelings', 'smugglers', 'bowman', 'creative', 'donut', 'delectable', 'bonnie', 'learning', 'festive', 'agustn', 'pu', 'johns', 'gingerplus', 'fathers', 'curiosity', 'passes', 'stillmans', 'egan', 'sustain', '10668', 'calls', 'pulteneys', '128', 'frustrating', 'enveloping', 'soothed', 'pegged', 'wintertime', 'debut', 'kurayoshi', 'masochism', 'collingwood', 'borne', 'differently', 'spicestantalizingly', 'corsair', 'va', 'bunsall', 'screamer', 'doses', 'pasada', 'torfa', 'preference', 'unrivalled', 'poise', '1475', 'ashtrays', 'throwback', 'begun', 'peatiest', 'sappiness', 'wells', 'gateau', 'crackerbread', 'larch', 'expectand', 'aligned', 'lives', 'darmor', 'crystal', 'winemakers', 'kiwifruit', 'liability', 'shortly', 'artfully', 'exuding', 'proffering', 'barrie', 'mug', 'cabinetmakers', 'battenberg', 'crayons', 'kirins', 'arm', 'juicier', '370', 'resurrected', 'berentzens', 'panel', 'peonies', 'deceivingly', 'belched', 'curated', 'exceeding', 'neighbor', 'stepping', 'reminiscence', 'promotional', '8850', 'stew', 'saucepans', 'false', '5060', 'blacks', 'jerez', '110l', 'pedantic', 'medjool', 'lingonberry', 'wardrobe', 'molenberg', '309', 'tricks', 'convoluted', 'shoulder', 'wad', 'fortify', 'brock', 'smoking', 'presentation', 'ancestral', 'f', 'slant', 'calloway', 'sizzle', 'bowl', 'creates', '914', 'spending', 'eliminate', 'jerry', 'seals', 'maris', 'springer', 'thrill', 'influencewas', 'fronts', 'marred', 'radico', 'illuminating', 'affably', 'bananitos', 'oft', 'appropriately', 'layering', 'filters', 'packed', 'kipper', 'united', 'perpetually', 'jamon', '181', 'bernstein', '502', 'lagavulins', 'cloaking', 'hat', 'invading', 'nightcap', 'exception', 'succeeds', 'entirety', 'harshness', 'te', 'pausedbecause', 'liqueur80', 'clan', 'designation', 'undersold', 'recognizable', 'initiallytheres', 'thud', 'spanning', 'quirks', 'cardinal', 'jukneviciute', 'giveaway', 'invade', 'dumped', '310110', 'crispingly', 'relaxing', 'thor', 'envelop', '506', 'cause', 'values', 'farmed', 'chamois', 'rethink', 'ballsiness', 'kerrygold', 'enda', 'woodworking', 'reestablished', 'heating', 'forested', 'blow', 'ashburn', 'deftly', 'situation', 'teasy', '351', 'saltines', 'alienating', 'phobics', 'unanimously', 'plug', 'rendering', 'bracingly', 'defiantly', 'tastewise', 'calistoga', 'response', 'trailed', 'successively', 'pineappleon', 'serenity', 'dabs', '1250', 'weighs', 'joyces', 'zin', 'gretzkys', 'legacy', 'shellfish', 'fogging', 'sunrise', 'centenary', '1906', 'kirby', 'snarling', 'saltier', 'sassicaia', 'imprint', 'unveils', 'insanely', 'curtain', 'ether', 'giver', 'periods', 'devastatingly', 'idyll', 'ryebut', 'shadow', 'ignite', 'eel', 'downright', '111', 'unpack', 'gw', 'wyo', 'spinoff', 'outclasses', 'crossword', 'glint', 'sample', 'perennially', 'cone', 'coumarin', 'canes', 'illustrated', 'numbing', 'thrones', 'hail', 'jewel', 'await', 'astars', 'skittles', 'acknowledges', 'reduces', 'expansive', 'priceand', 'kapow', 'cultivated', 'jab', 'perceptibly', 'blacken', 'fireplaces', 'inclined', 'typified', '425', '261', '491', '90500', 'sprinkle', 'nails', 'swiftly', 'bowler', 'sword', 'americas', 'executing', 'muscled', 'ovaltine', 'engulfs', 'retailers', 'spills', 'suitcases', 'tay', 'ok', 'peatier', 'exterior', '3700', 'count', 'toonot', 'onion', 'cutty', 'ngoiant', 'rvolution', 'mariano', 'brushed', 'bloody', 'rundlets', 'chain', 'convert', 'dragons', 'wacky', 'ga', 'identifiable', 'rindo', 'fiercely', 'freshest', 'aka', 'thirst', 'whoppers', 'accord', 'articulate', 'blemished', 'boughs', 'enlivening', 'workers', '308', 'subsidiary', 'columbias', 'imax', 'entanglement', 'calling', 'loganberries', 'linctus', 'myopically', 'goldilocks', '440', 'eifel', 'gargling', 'ladle', 'cameronbridge', '255available', 'sephora', 'cakeheres', 'leaky', '2491', 'retro', 'hven', 'espousing', 'chaste', 'peatburning', 'grandmothers', 'stygian', 'quintas', 'scorched', 'blooms', 'accentuating', 'mankind', 'akutos', 'attaining', 'indulge', 'fl', 'brackla', 'handys', 'sparking', 'homage', 'elizabeth', 'notesoverripe', 'backwash', 'tennessees', 'fishy', 'subtracts', 'unit', 'insouciant', '1803', 'brae', 'jettisoning', 'beatles', 'fruityhints', 'stump', 'blander', 'tamarind', '70500', 'tartan', 'mainstream', 'pa', 'nearest', 'guild', 'devouring', 'rigor', '30ppm', 'crowding', 'ryed', 'wishy', 'stuffthat', 'deserts', 'bevy', 'extroverted', 'prove', 'besting', 'boyd', 'turkeys', 'kiichiro', '180', 'straws', 'haider', 'himalayan', 'management', 'sampling', 'brutal', 'tradeoff', 'energized', '904', 'jumping', '1982', 'inky', 'boyne', 'overhaul', 'noisier', 'bundle', 'pas', 'formidably', 'uninhibited', 'glansa', 'storms', 'muddiness', 'trinidad', 'guns', 'hitters', 'bakes', 'a195', 'jumps', 'maltier', 'hesitation', 'outdoorsy', 'metheglin', 'ambitious', 'wrinkled', 'plumpness', 'armagnacprune', 'andres', 'boldest', 'song', 'ameliorated', 'merchant', 'butteriness', 'chf', 'emphatic', 'colorado', 'sleeper', '120th', '15050', 'elastoplast', 'walkers', 'ocean', 'glemorangie', 'lhermitage', 'authoritative', 'molins', 'barred', 'alpha', 'miguel', 'd', 'hollerin', '123', 'filet', 'chicory', 'anges', 'enchanting', 'drool', 'craigellachies', 'console', 'vessel', 'combustible', '100000', 'tuthilltown', 'cherryberry', 'disappointsmoldering', '17000', 'casksthis', 'terms', 'fruitoverripe', 'lumberjack', 'waltzing', 'detroit', 'outlet', 'wisharts', 'seekers', 'survived', 'firework', 'claws', 'barterhouse', 'pin', 'cape', 'racehorse', 'superstition', 'aromasred', 'semblance', 'barrique', 'twenties', 'whittled', 'nest', 'jota', 'knockout', 'gelato', 'glories', 'boundaries', 'epically', 'belter', 'jeffersons', 'northernmost', 'stockthen', 'underplayed', 'tarred', 'sashimi', 'harangue', 'sickly', 'blossomare', 'flavorscinnamon', 'unpleasing', 'supersedes', 'planed', 'stickers', 'sequential', 'belying', 'physical', 'metallicas', 'junction', 'sharing', 'eloquent', 'granular', 'consuming', 'dimming', '12500', 'chorus', 'kumesen', 'witha', '4530', 'densely', 'franciscos', 'alcohols', 'chutney', 'confession', 'yukon', 'dovetailing', '4446', 'eyedropper', 'concocted', 'spicecinnamon', 'deployed', 'celt', 'suppresses', 'juiced', 'musical', 'syrah', 'nonsense', '26th', 'lee', 'hum', 'meade', 'punts', 'oakand', '1476', 'elote', 'voyage', 'smokelike', 'slams', 'ushering', 'prestigious', '2049', 'serviced', 'malaga', 'outline', 'mcvities', 'flannel', 'silenced', 'kisses', 'blaze', 'ballygrant', 'dancing', 'bcs', 'rachel', 'twinge', 'zabaglione', 'packages', 'retired', 'bubbles', 'lubricating', 'jamaica', 'oakbut', 'phoned', 'unheated', 'thereby', 'rewardingly', 'unreleased', 'indicative', 'enjoys', 'saloon', 'proofed', 'nary', 'zombies', 'norm', 'stretches', '1882', 'divinely', 'dentists', 'wander', '55cad', 'grenache', 'oesk', 'union', 'vetiverremain', 'twists', 'throb', 'sootiness', 'starter', 'summers', 'detractors', 'filteringis', 'speysiders', 'archive', 'exported', 'unpretentiously', 'arrow', 'beet', 'crossed', 'viola', 'garni', 'ballsiest', 'innocence', 'meandering', 'banging', 'budget', 'absorption', 'uber', 'abunadh', 'loki', 'mentions', 'casksfour', 'forms', 'physalis', 'andor', 'quinoa', 'essential', 'daenerys', 'vigilance', 'diego', 'rouge', 'amarone', 'tower', '1965', 'softest', 'intriguingly', 'madly', 'chewer', 'crush', '1868', 'blustery', 'mere', '245', 'resembles', 'qualify', 'stranded', 'avoid', 'thrusts', 'craftsmanship', 'genres', 'marnier', 'clambake', 'same40', 'wasnt', 'enable', 'firmness', 'finessed', 'swirls', 'sad', 'floralgrassy', 'thumb', 'swinging', 'cadenheads', 'fern', 'pieand', 'spiraling', 'mutes', 'forthright', 'guysborough', 'lorne', 'lincoln', 'flourishes', 'labyrinth', 'brimstone', 'chatting', 'staggering', 'restful', 'rocky', 'havana', 'specs', 'solution', 'uncharted', 'potted', 'ferments', 'distilerie', 'citrusbut', '2489', 'jinks', 'ruin', 'tweaking', 'obsess', '47500', 'spooky', 'concluding', 'flock', 'fanatics', 'rip', '2117', 'shout', 'patagonia', 'gloopy', 'regime', 'sensibly', 'cow', 'countered', 'pourri', 'macleod', 'anchors', 'bound', 'conor', 'belief', 'seeming', 'commitment', 'niro', 'simnel', 'finish47', '2070', 'maryland', 'rotates', 'approached', '1100', '4802', 'hakushus', 'pitmaster', 'cartoon', 'overdrive', 'chewier', 'geisha', 'weary', 'gunpowdery', 'gateway', 'shovel', 'lusher', '687', 'paul', '6151', 'spicesallspice', 'contrary', 'spotty', 'varnished', 'deceased', 'load', 'coincide', 'satchel', 'undated', 'cassistinged', 'en', 'drythe', 'devil', 'empts', '42000', '1140', 'annulled', 'directors', 'harder', 'merely', 'attics', 'spanned', 'bartenders', 'tookiwi', 'stars', 'resonate', 'adela', 'bushel', 'merest', 'tales', 'fruitgrapes', 'amazes', 'arugula', 'undercut', 'bruce', 'whatsoever', 'secrets', 'terrys', 'divided', 'trailing', 'matting', 'grassmint', 'slows', '17th', 'bladnoch', 'exploding', 'basking', 'feathers', 'briar', 'oloros', '1428', 'disagree', 'spotlight', 'exhibiting', 'hickok', 'yetbut', 'outlawed', 'swollen', 'nineteen', 'chewiness', 'nowbut', '657', 'c', 'multilayered', 'avarice', 'specter', 'recreation', 'dingle', 'gravitas', 'hair', 'expressively', 'ancnoc', 'drowning', '13500', 'coddled', 'nourished', 'represented', '6660', 'plethora', 'culloden', 'hipflask', '329', 'packing', 'liveliest', 'pumps', 'breaths', 'parallels', 'crozes', 'slaty', 'zigzag', 'oldmeldrum', 'tempts', 'techniques', 'balms', 'toblerone', 'broadened', 'pocketful', 'dregs', 'distinguishes', 'mors', 'signs', 'kirklands', 'breadiness', 'lie', 'sculpted', 'windswept', 'inimitable', 'fragrantly', 'everyones', 'arch', 'gap', 'hesitant', 'keith', 'unfolds', 'scott', 'elk', 'minutes', 'londons', 'engulf', 'faceful', 'blushing', 'blenders', 'clos', '726', 'pats', 'peatcreosote', '219', 'publican', 'invades', 'enthralls', '1266', 'frustrated', '8937', 'mackmyras', 'candidate', 'tangelo', 'eccles', 'targaryen', 'peatheads', 'positively', 'pistachio', 'approaching', 'gasp', 'yeched', 'blackens', 'dryish', 'charlies', 'blandness', 'sprig', 'gracing', 'blunting', 'sells', 'sturdy', 'liqueurs', 'deco', 'installed', 'praise', 'flagon', 'sends', 'savage', 'vive', 'explosions', 'nj', 'flower', 'rootier', 'c34', 'ode', 'topic', 'receding', 'underside', 'invites', 'colombian', 'luxe', 'kavalan', 'vestigial', 'thickest', 'moreish', 'fiends', 'sebastian', 'swansea', 'allspicecharms', 'tartin', 'devoid', 'elijah', 'finish822', 'detected', 'upgrades', 'village', 'locked', 'enabling', 'napa', 'benromachs', 'woodsplit', 'succeeded', 'smorgasbord', 'dampening', 'southwest', 'trend', 'paris', 'disquiet', 'chased', 'pendleton', 'chypre', 'carey', 'granulated', 'flagrantly', 'deck', 'frank', '1566', 'sweethearts', 'duels', 'chart', 'dodges', 'glossy', 'causing', '9420', 'carrot', 'nosefollowed', 'indianapolis', 'blotting', 'obey', 'similarheaven', 'amalgamation', 'harmonized', 'chocolates', 'aerosmith', 'fainthearted', 'aspire', '1487', 'rosehips', 'anjou', 'nairn', 'glasers', 'reservations', 'bristling', 'wallflower', 'fumes', 'unlocking', 'sensational', 'denny', 'achieved', 'dome', 'china', 'nelsons', '22000', 'unleash', 'irelands', 'soldiers', 'iwai', 'cinder', 'seducing', 'whistles', 'cinders', 'kheer', '107', 'ensured', 'amaretto', 'ferny', 'pimento', 'mistake', 'stopping', 'auchentoshans', 'arthur', 'laces', 'crowning', 'boosts', 'tuns', 'juicily', 'meditation', 'suntory', 'steer', 'peterhead', 'semiannual', 'sixteen', 'pricy', 'tanaka', 'emitting', 'contrasted', 'slickly', 'gorm', 'expressed', 'muzzle', 'orangey', 'sphagnum', 'reprising', 'hammer', 'hiball', 'protest', 'kickstarter', 'willingly', 'collapsing', 'maybeyes', 'ozonespiciness', 'dozens', 'smeared', 'greens', 'marcus', 'throwers', 'jean', 'undercarpet', 'choc', '104', 'nevada', 'reeks', 'plot', 'overeems', 'dredging', 'superlative', 'tapestry', 'timey', 'unbalance', 'monomaniacal', 'fibrous', 'icons', '499', '458', 'corbys', 'envy', 'reappear', 'neglect', 'bruiser', '475', 'questions', 'hoggiesfrom', 'loire', 'unfurling', 'decently', 'enigma', 'enoughbetween', 'alternately', 'passing', 'datesis', 'simpleif', 'tune', 'nc2', 'sneaks', '195', 'bing', 'arizona', 'retailing', 'bins', 'refreshment', '310', 'stages', 'mollify', 'explanation', 'essences', 'supremely', 'pepperbold', 'guarded', 'unfolding', 'radiant', 'merges', 'bystanders', 'congratulations', 'kininvie', 'oiliest', 'frontier', 'entrance', 'grizzled', 'oola', 'chief', 'craisins', 'dazzling', 'pickled', 'martinquaise', 'actualized', 'deadwood', 'nugget', 'dials', 'rowans', 'castles', 'sepia', 'imposing', 'bestowed', 'waring', 'distilleryuses', 'maltesers', 'revving', 'otay', 'ought', '2020', '391', 'taut', 'tack', 'spoon', 'inducingand', 'ponderous', 'jubilance', 'delicioso', 'unpredictability', 'possesses', 'asset', '290', 'vise', 'leg', 'audacious', 'launch', 'persona', 'burntwith', 'chf179', 'bloomed', 'carrageen', 'grassinessherbal', 'valrhona', 'copes', 'surfacing', 'ealanta', 'joys', 'ingredients', 'immersive', 'carpenters', 'gratifying', 'overwater', 'extensive', 'releasecomprising', 'amps', 'ultimate', 'scenting', 'gonzalez', 'gravybeef', '92', 'purposes', 'inception', 'exhibits', 'excess', 'glints', 'intermittently', 'inestimable', 'undiminished', 'leafier', 'african', 'torment', 'uniting', 'prepare', '74', '396', '11400', 'repose88', 'erupts', 'grandson', 'perceived', 'realm', 'ragnvald', 'dank', 'pedals', 'thanksgiving', 'jubilee', 'entertained', '7638', 'irishman', 'recognizably', 'predominating', 'goodwood', 'napoleon', 'transparency', 'panna', 'cedarwood', '1483', 'intersects', 'disciplined', 'shoe', 'stonehaven', 'fruitblack', 'clonakilty', 'harks', 'cheerwine', 'angular', 'fairy', 'sweetnessthis', 'intimidating', 'welling', 'vaguest', 'post', 'starboard', 'il', 'connoisseur', 'butits', '3282', 'centers', 'commanding', 'hugh', 'answers', 'asian', 'trimming', 'glance', 'watchers', 'jellied', 'missive', 'resurrect', 'principles', 'situations', 'roughly', 'onset', 'perfected', 'smokin', 'assertively', 'flaw', 'oz', 'mintgrass', 'bounty', 'gentleman', 'orleans', 'fortuna', 'unsalted', 'evidenced', 'voluntary', 'reverberates', 'croze', 'pursed', 'fishiness', 'taffyare', 'ironed', 'glenugie', 'lock', 'purview', 'abate', 'bods', 'temporis', 'rtie', 'neighbors', 'campbeltown', 'rubyantique', 'exemption', 'peatwafts', 'suggested', 'jangling', 'sparkle', 'afternoonor', 'burners', 'beachy', 'perpetuum', 'sublimely', 'decline', 'combinations', 'latitude', 'riddle', 'characters', 'floss', 'complexand', 'colheita', 'exquisitely', 'retronasal', '178', 'gusto', 'di', 'setup', 'unobtrusively', 'swedens', 'sweetwith', '10000', 'reticence', 'oaka', 'counterparts', 'hyde', 'stocky', 'impenetrable', 'whispering', 'knuckled', 'rosin', '8200', 'acacia', 'ldimgp', 'baratheon', 'mealiness', 'ventures', 'insistently', 'recommendedus', 'glengarriff', 'doo', 'energize', 'perfused', 'barrelwarehouse', 'string', 'colum', 'sketch', 'imho', 'northumberland', 'indianas', 'identifies', 'sway', '18s', 'dispensing', 'hearth', 'bundles', 'introduces', 'environment', 'foresters', 'oj', 'tokens', 'advocate', 'cannabis', 'apex', 'dampen', 'salmon', 'bulging', 'dheag', 'flair', 'kavalans', 'deserted', 'limelight', 'kildalton', 'composure', 'summertime', 'kensington', 'slinte', 'massandra', 'ivoire', 'actor', 'teaninich', '65500', 'belonged', 'vengeance', 'hotels', 'caramelbutterscotch', 'sauna', 'cohesion', 'c52', 'sod', '1499', 'chocolat', 'takeover', 'subsequent', 'flares', 'option', 'qualms', 'flavorsbutter', 'pawpaw', 'batching', 'aista', 'tributes', 'remainder', 'docs', 'detriment', 'dunnet', 'broody', 'rums', 'moms', 'beg', 'shadowy', 'closure', 'birnie', 'esque', 'fanatical', '598', 'bones', 'weightier', '21000', 'cheeky', 'brambles', 'scary', 'sowell', 'ptes', 'shatters', 'wildfire', 'patel', '9999', 'manitoba', 'spain', 'uncover', 'caf', 'silver', 'loosens', 'ryan', 'magnificentlyexpressive', 'earthinesssuggestions', 'las', 'crystals', 'nosecinnamon', 'digits', 'eddu', 'discombobulating', 'exit', 'letting', '304', '176', 'seasonhere', 'dip', 'chocolateorange', 'bardstowns', 'clynelishto', 'crystalline', 'holidays', 'assured', 'musing', 'copyright', 'boost', 'oscillates', 'stealthily', 'reduced', 'immaculate', 'orchid', 'prickling', 'sunburst', 'neil', 'shameful', 'buoy', 'berrys', 'hopefully', 'dreamsawww', 'lustau', '182', 'tarmac', 'parting', 'entertains', 'buttressed', 'flicks', 'cinnamonwhile', 'slimmed', 'medicated', 'votre', 'snout', 'hopping', 'dm', 'lilies', 'trained', 'musica', 'cooney', 'treatment', 'misconception', 'cinnamonwhich', 'cos', 'furthermore', '175th', 'innovation', 'milkshake', '30000', 'goldstraw', 'arching', 'bandage', 'wagging', 'infusing', 'chilton', 'tend', 'trips', 'capturing', 'lorraines', 'transform', 'aultmores', 'millionaires', 'clumsier', 'waver', 'spunk', 'encompassing', '527', '760', 'kelowna', 'turnover', 'pitted', 'nights', 'janitor', 'outperforms', '893', 'smitten', 'upright', 'gentlemens', 'gartbreck', 'freaks', 'clarity', 'purest', 'repay', 'dresser', 'smokeheads', 'missouris', 'rants', 'bogs', 'appellation', 'vocal', 'macdonald', 'pheasant', 'received', 'beanball', '2019', 'contract', 'calm', 'himalayas', '1960s', 'dave', 'virtually', '1920s', 'characteristicsmaritime', '796', 'secale', 'stub', 'pastille', 'lovingly', '1896', 'questionable', 'swarm', 'referring', 'whiskeydried', 'russell', 'completed', 'flinch', 'frogs', 'reflecting', 'wedgesbalanced', 'album', 'excitable', 'seco', 'brandied', 'founded', 'marigolds', 'feast', 'divide', 'gradual', 'fungal', 'suss', 'barrier', 'expressiveness', 'fabulously', 'smashing', 'shelter', 'customers', 'guys', 'flavorsall', 'swooping', 'monongahela', 'ramble', 'harley', 'driving', 'bizarrelyblack', 'citronella', 'goji', 'snapping', 'exclamation', 'vanquishes', 'fetch', 'epsom', 'captivates', 'alambic', '451', 'em', 'abounds', 'amazingly', 'restaurant', 'dj', 'commonality', '807', 'barbecuealong', 'strathspey', 'puddingalong', 'vintners', 'harvesting', 'measuring', 'brain', 'admirably', 'poppers', 'miltonduff', 'noseim', 'champagne', '150th', 'nuttycereal', 'infiltrating', 'draping', 'joyously', 'itand', 'castan', 'quash', 'aberdeen', 'increase', 'frills', 'theyd', 'celestial', 'covering', 'sanded', 'clarke', '230', 'fireplace', 'weeks', 'tremendous', 'smartly', 'greyjoy', 'justifies', 'scoop', 'specifications', 'jacks', 'shaken', 'dribbling', 'sweeteners', 'mine', 'maintained', 'nc', 'horseradish', 'revives', 'stadium', 'fragmented', 'bcan', 'condenseurs', 'morrissey', 'buckley', 'hatted', 'proceeding', 'cab', 'outlier', 'hello', 'tokaj', 'fog', '909', 'paradoxes', 'veritable', 'argentina', 'employed', 'hog', '5514', 'torched', 'holl', 'welsh', 'hokusais', 'ruban', 'granules', 'piano', 'corby', 'utter', 'palatebrisket', '341', 'stein', 'overpower', 'maltssweet', 'seminal', 'downtown', 'prices', 'memorable', 'alliance', 'cements', 'allocated', 'broods', 'repeated', 'resembling', 'endeavor', 'notesthink', 'cotta', 'cowering', 'amplify', '550', 'cravings', 'antiseptictypical', 'unseen', 'sharply', 'unwaxed', 'hp', 'c48', 'portafter', 'matches', 'ristretto', 'advancement', 'branches', 'gorse', 'charmer', 'distribution', 'aims', 'impulsive', 'argan', 'buffed', 'icebox', 'creosoted', 'regulation', 'cru', 'quelling', 'appearances', 'austria', 'overrun', 'chirpy', 'soar', 'choose', '19000', 'wrinkle', 'wonka', 'essentially', 'asyla', 'restorative', 'ruthlessly', 'rebuilt', 'callejo', 'penderyn', 'ignore', 'squishy', 'differentiate', 'indistinct', 'respectively', 'liniment', 'morels', 'encompasses', 'aud220', 'nuanced', 'tickets', 'rhapsody', 'employs', 'glittering', 'sumptuously', 'lowbreaking', 'shinji', 'painted', 'allied', 'prichard', 'plush', 'highwire', 'survivor', 'government', 'tenth', 'penetrated', '1990s', 'cohesiveness', 'cabbage', 'hiroshima', 'lab', 'batched', 'bordeauxs', 'glengoynes', '11th', 'spends', 'eccentric', 'hereyoure', 'oliver', 'miso', 'sears', 'yowza', 'bode', 'retain', '5800', 'mezcalero', 'fitzgeralds', 'frenchs', 'humidity', 'lineupproves', 'linkwood', 'wk217', '13200', '135liter', 'amruts', 'k', 'conceals', 'hep', 'decided', 'maneuvers', 'encased', 'situated', 'vivre', 'moan', 'brighten', 'sustenance', '2988', 'unwind', 'careless', 'spine', 'injects', 'pepperred', 'explode', 'goaded', 'maps', 'squabbles', '137', 'porcini', 'kippered', 'swing', 'dublin', 'pinejuniper', 'moor', 'scarcity', 'kirsteen', 'coltrane', 'behold', 'remain', 'gorgeously', 'maverick', 'mien', 'stubborn', 'contribution', 'golf', 'samsara', 'fizzling', 'navigator', 'saddled', 'potpourrilike', 'guyanan', 'ave', '4680', 'wreathings', 'umami', 'registrations', 'reused', 'spicecloves', 'girvan', 'purporting', 'uplift', 'caramelssome', 'handshake', 'amazed', 'ointment', 'tendencies', 'confections', 'agricultural', 'lately', 'wasabi', 'asterix', 'ribeauvill', 'casually', 'divert', 'verdict', 'sequestration', 'rares', '3372', 'unite', 'suspect', 'picasso', 'wick', 'balsa', 'corsica', 'skeptical', 'telsington', 'velutinous', 'jellies', 'finer', 'herald', 'recorded', 'reverberations', 'stillmen', 'robinsons', 'feint', 'methodically', 'bolsters', 'shaved', 'newton', 'anniversaries', 'coffeecocoa', 'ccs', 'underscoring', 'mate', 'conventional', 'zipping', 'galore', 'cameron', 'bitumen', 'writing', 'donnay', 'seventeen', 'enduring', 'turas', 'cont', 'connects', 'commands', 'freebird', 'drydrying', 'mothballs', 'unbelievably', 'device', 'anywhere', 'conclusive', 'milkhorchata', 'lose', 'lorraine', 'tartlets', 'labrador', 'jammier', 'grunt', 'charles', 'walsh', 'paled', 'teas', 'principal', 'awamori', 'pomelo', 'blackcurrants', 'constructing', 'differing', 'henry', 'passionate', 'nz79', 'comfortably', 'suede', 'retaining', 'sprightly', 'multidimensional', 'shave', 'worms', 'dispensed', 'maltycaramel', 'stack', 'notch', 'basketful', 'accompanying', 'smile', 'surplus', 'discontinuing', 'reds', 'racked', 'subsequently', 'ingest', 'mellowness', 'specifically', 'pepperpots', 'emphasizing', 'graceful', 'muscles', 'submission', 'raisinslaced', 'strive', 'mannochmore', 'ensemble', 'farms', 'midas', 'cajoled', 'charentais', 'forgoes', 'delightedly', 'rob', 'gracefully', 'unforgiving', 'gustier', 'fourteenth', 'satellites', 'panoply', 'sparingly', 'medicinally', 'drips', 'rickhouse', 'altar', 'blowhard', 'gloag', 'diminishing', 'integrity', 'laborious', 'advocates', 'mystery', 'heatherfloral', 'ahh', 'invasive', 'juggles', 'brilliantly', '2976', 'ladys', '6114', 'larue', 'kudos', 'diversion', 'silhouette', 'retronasally', 'sigh', 'trees', 'juxtapositions', 'controlled', 'demand', 'awns', 'breads', 'concern', 'aggression', 'moly', 'bourbona', 'tending', 'numbs', 'wheater', 'isabella', 'brake', 'spiciest', 'smacking', 'fruitinessraisin', 'honeys', 'punching', 'tags', 'n', 'accept', 'tin', 'superhighway', 'gluttonous', 'abc', 'quarters', 'doozie', 'flicker', 'circles', '7586', 'showcasing', 'bravo', 'meticulous', '234', 'purple', 'modena', '900160', 'bottles200', 'frenzy', 'incendiary', 'cinnamonallspice', 'osmanthus', 'brokerage', 'restraint', 'purist', 'archives', 'mossburn', 'hillside', 'pita', 'prettiest', 'farclas', 'spicespepper', 'facing', 'tilled', 'tonneaux', 'output', 'distill', 'standards', '1920', 'orders', 'yell', 'abundant', 'extravaganzas', 'continent', 'courseparticularly', 'teelings', 'plunge', 'egon', 'orangeand', 'overtop', 'aime', 'nudges', 'fruitscherries', 'sequentially', 'senior', 'exclusivec35', 'pride', 'southernmost', 'wormwood', 'comb', 'nicaragua', 'overstating', 'clams', 'distilleryhere', 'brazier', 'primrose', 'reunited', 'scoffed', 'fred', '2488', 'brownie', 'teaspoon', 'evidently', 'trix', 'unshackle', 'bike', 'saturated', 'pads', 'vote', 'spicysweet', 'mhor', 'charmingly', 'britain', 'tide', 'reactivated', 'lettering', 'mead', 'workhorse', '828', 'outdoes', 'odanaher', 'moreisha', 'frothily', 'colossal', 'pallid', 'notesa', 'shieldaig', 'lion', 'advised', 'steal', 'amberchestnut', 'andsomewhat', 'boomerang', 'rushed', 'scant', 'corsairs', 'debating', 'marveled', 'sheets', 'manifested', 'accurate', 'swallowed', 'andes', 'cbwcs', 'piquant', 'factory', 'compartment', 'bleached', 'preferable', 'gariochs', 'michters', 'sucker', 'stems', 'surpasses', 'beldorney', 'unpeated15', 'siege', 'sugarless', 'excelled', 'dunked', 'licoriceon', 'wicks', 'associated', 'skillful', 'looked', 'lynchburg', 'spasm', 'oral', 'rounder', 'brogues', 'melee', 'tlds', 'patiently', 'bestows', 'scotches', 'sigil', 'lombard', 'arid', 'tempers', 'stealthy', 'steak', 'marc', '2860', 'sos', 'ma', 'hookah', 'grounded', 'headlights', 'custardy', 'stacks', 'barrelssimilar', 'harald', 'luxco', 'timorous', '5400', 'dryespecially', 'cupboards', 'jordan', 'rita', 'sugarboiled', '08', 'mcgarry', 'invigoratingly', 'ellens', 'woodwinters', 'breadssourdough', 'rattle', 'baristas', 'outlast', 'consummately', 'confit', 'md', 'fug', 'appreciating', 'darts', '2250', 'baarle', 'infiltrates', 'cauldron', 'stillthere', 'hearty', 'lcbo', 'spicesmint', 'hershey', 'mounds', 'harmoniously', 'grumbling', 'milsean', 'cuvee', 'fruityspicy', 'entangled', 'lepanto', 'bush', '3276', 'whiskyfest', 'ozark', 'persuade', 'goal', 'drammed', 'thickthe', 'foraged', 'culture', 'conclude', 'peatmas', 'charcuterie', 'tarrya', 'glaser', 'inhabits', 'fraying', 'overthrown', 'workbench', 'dignified', 'tormores', 'woodworkers', 'sol', 'quietude', 'midnight', 'shock', 'urge', 'cadre', 'capitulate', '108', 'melody', 'lentil', 'anointed', 'crafting', 'wildflower', 'woven', 'barnacles', 'alchemy', 'lyrics', 'jumper', 'caustic', 'vineyards', 'forego', 'worries', 'elevated', 'volatiles', 'horizons', 'cakes', 'ballindoney', 'voting', 'esoteric', 'fulfill', 'hurts', 'stale', 'columbia', 'everywhere', 'achievement', 'jabs', 'relentless', 'prudent', 'usher', 'fabbri', 'wayne', 'trickling', 'reminding', 'caress', 'gilded', 'fifty', 'additions', 'chicagos', 'promotes', 'mesmeric', 'veering', 'finery', '3972', 'tasters', 'overtime']\n",
            "['quadruple', 'butthats', 'typestwo', 'graces', 'rogues', 'badly', 'sweat', 'incinerating', 'weakened', 'backs', 'certainty', 'ripped', 'whiskey93', 'issues', 'yesteryear', 'overwhelms', 'render', 'fireballs', 'paraphrase', 'navazos', 'guano', 'murderously', 'carafaand', 'hirsch', 'extinguishes', 'fever', 'spelts', 'philosophy', 'shooter', 'pointing', 'baskets', 'severely', 'labelfollowed', 'thriving', 'spoiling', 'craving', 'northeastern', 'robert', 'gelatin', 'flatten', 'farmhouse', '1946', 'freedom', 'oversteeped', 'perk', 'lifeless', 'conceived', 'unsuitable', 'torpid', 'bet', 'redundant', '722', 'truss', 'distracting', 'ammonia', 'glaring', 'duke', 'cavalry', 'artificially', 'puckeringly', 'clashes', 'saggy', 'drab', 'lynne', 'afternote', 'coconutversions', 'stoppered', 'characterless', 'ingesting', 'popsicles', 'failed', 'varnishy', 'regrettably', 'flavoredcinnamon', 'luxardo', 'anoints', 'pains', 'cliff', 'coop', 'pileup', 'cabin', 'carroll', 'stayed', 'veterinarians', 'tailgating', 'nebbiolo', 'fractured', 'pavement', 'sharpening', 'childrens', 'federation', 'bedlam', 'winey', 'highspire', 'unblended', 'aficionado', 'trybox', 'jemima', 'flinching', 'capsules', 'whiskyness', 'potation', 'peers', 'carbonation', 'sailboat', 'poire', 'advertised', 'wb', 'net', 'evasive', 'palazzi', 'usda', 'novelty', 'upgrade', 'crow', 'convince', 'curlingly', 'loyalty', 'sulphury', 'unrefined', 'faux', 'rogue', 'immatureharsh', 'winces']\n"
          ],
          "name": "stdout"
        }
      ]
    },
    {
      "cell_type": "code",
      "metadata": {
        "id": "hjr2piDgwVKe"
      },
      "source": [
        "unique_words = set(unique_excellent + unique_good + unique_poor)"
      ],
      "execution_count": 29,
      "outputs": []
    },
    {
      "cell_type": "code",
      "metadata": {
        "colab": {
          "base_uri": "https://localhost:8080/"
        },
        "id": "Mp4bK1O3womc",
        "outputId": "75eb54d5-ecc9-40ef-8ec6-bc71ab3631b2"
      },
      "source": [
        "len(unique_words)"
      ],
      "execution_count": 30,
      "outputs": [
        {
          "output_type": "execute_result",
          "data": {
            "text/plain": [
              "8301"
            ]
          },
          "metadata": {
            "tags": []
          },
          "execution_count": 30
        }
      ]
    },
    {
      "cell_type": "code",
      "metadata": {
        "id": "Mk4NGQbdAML9"
      },
      "source": [
        "def vectorize(token_list):\n",
        "  vects = []\n",
        "  doc = nlp(str(' '.join(token_list)))\n",
        "\n",
        "  for token in doc:\n",
        "    if token.vector_norm > 0.0:\n",
        "      vects.append(token.vector_norm)\n",
        "    else:\n",
        "      continue\n",
        "  return vects"
      ],
      "execution_count": 140,
      "outputs": []
    },
    {
      "cell_type": "code",
      "metadata": {
        "id": "RTQQc9cEBGx9"
      },
      "source": [
        "excellent_df['vectors'] = excellent_df['tokens'].apply(vectorize)\n",
        "good_df['vectors'] = good_df['tokens'].apply(vectorize)\n",
        "poor_df['vectors'] = poor_df['tokens'].apply(vectorize)"
      ],
      "execution_count": 141,
      "outputs": []
    },
    {
      "cell_type": "code",
      "metadata": {
        "id": "k0gOzU0JNtkz"
      },
      "source": [
        "def ave_vects(vects_list):\n",
        "  return sum(vects_list) / len(vects_list)"
      ],
      "execution_count": 142,
      "outputs": []
    },
    {
      "cell_type": "code",
      "metadata": {
        "id": "pMplSMt2Ou76"
      },
      "source": [
        "excellent_df['vects_ave'] = excellent_df['vectors'].apply(ave_vects)\n",
        "good_df['vects_ave'] = good_df['vectors'].apply(ave_vects)\n",
        "poor_df['vects_ave'] = poor_df['vectors'].apply(ave_vects)"
      ],
      "execution_count": 143,
      "outputs": []
    },
    {
      "cell_type": "code",
      "metadata": {
        "colab": {
          "base_uri": "https://localhost:8080/",
          "height": 131
        },
        "id": "mjnQcQpqOnxu",
        "outputId": "02a484a2-ddc3-4449-d78e-ff702c7de557"
      },
      "source": [
        "excellent_df.head(1)"
      ],
      "execution_count": 144,
      "outputs": [
        {
          "output_type": "execute_result",
          "data": {
            "text/html": [
              "<div>\n",
              "<style scoped>\n",
              "    .dataframe tbody tr th:only-of-type {\n",
              "        vertical-align: middle;\n",
              "    }\n",
              "\n",
              "    .dataframe tbody tr th {\n",
              "        vertical-align: top;\n",
              "    }\n",
              "\n",
              "    .dataframe thead th {\n",
              "        text-align: right;\n",
              "    }\n",
              "</style>\n",
              "<table border=\"1\" class=\"dataframe\">\n",
              "  <thead>\n",
              "    <tr style=\"text-align: right;\">\n",
              "      <th></th>\n",
              "      <th>id</th>\n",
              "      <th>description</th>\n",
              "      <th>ratingCategory</th>\n",
              "      <th>tokens</th>\n",
              "      <th>num_of_tokens</th>\n",
              "      <th>vectors</th>\n",
              "      <th>vects_ave</th>\n",
              "    </tr>\n",
              "  </thead>\n",
              "  <tbody>\n",
              "    <tr>\n",
              "      <th>0</th>\n",
              "      <td>3861</td>\n",
              "      <td>\\nAn uncommon exclusive bottling of a 6 year o...</td>\n",
              "      <td>0</td>\n",
              "      <td>[an, uncommon, exclusive, bottling, of, a, 6, ...</td>\n",
              "      <td>82</td>\n",
              "      <td>[5.5624833, 4.9866605, 5.9754963, 7.040095, 4....</td>\n",
              "      <td>5.951116</td>\n",
              "    </tr>\n",
              "  </tbody>\n",
              "</table>\n",
              "</div>"
            ],
            "text/plain": [
              "     id  ... vects_ave\n",
              "0  3861  ...  5.951116\n",
              "\n",
              "[1 rows x 7 columns]"
            ]
          },
          "metadata": {
            "tags": []
          },
          "execution_count": 144
        }
      ]
    },
    {
      "cell_type": "code",
      "metadata": {
        "colab": {
          "base_uri": "https://localhost:8080/"
        },
        "id": "Sb_GqhCeO-FJ",
        "outputId": "54e6020b-9d68-49b0-8203-2bcca2983fa2"
      },
      "source": [
        "print(sum(excellent_df['vects_ave']) / len(excellent_df['vects_ave']))\n",
        "print(sum(good_df['vects_ave']) / len(good_df['vects_ave']))\n",
        "print(sum(poor_df['vects_ave']) / len(poor_df['vects_ave']))"
      ],
      "execution_count": 145,
      "outputs": [
        {
          "output_type": "stream",
          "text": [
            "5.982035087103118\n",
            "6.080487899267268\n",
            "5.879506043032742\n"
          ],
          "name": "stdout"
        }
      ]
    },
    {
      "cell_type": "markdown",
      "metadata": {
        "id": "1HhjTrXUHMfa"
      },
      "source": [
        "Alright, let's apply all of this to the training data!"
      ]
    },
    {
      "cell_type": "code",
      "metadata": {
        "id": "e0pkV3AquA6Q"
      },
      "source": [
        "# Adding anomalies to tokenize function\n",
        "\n",
        "def tokenize(text):\n",
        "  tokens = []\n",
        "  for item in (text.replace('\\n', '').lower().replace('-', ' ').split()):\n",
        "    tokens.append(re.sub('[^a-z 0-9]', '', item))\n",
        "  \n",
        "  unique_words\n",
        "  cleaned_tokens = []\n",
        "\n",
        "  for word in tokens:\n",
        "    if word not in unique_words:\n",
        "      cleaned_tokens.append(word)\n",
        "    else:\n",
        "      continue\n",
        "\n",
        "  return cleaned_tokens"
      ],
      "execution_count": 146,
      "outputs": []
    },
    {
      "cell_type": "code",
      "metadata": {
        "id": "Ooytn5slHS6U"
      },
      "source": [
        "def wrangle(df):\n",
        "  df['tokens'] = df['description'].apply(tokenize)\n",
        "  df['num_of_tokens'] = df['tokens'].apply(token_count)\n",
        "  df['vectors'] = df['tokens'].apply(vectorize)\n",
        "  df['vects_ave'] = df['vectors'].apply(ave_vects)\n",
        "\n",
        "  return df"
      ],
      "execution_count": 147,
      "outputs": []
    },
    {
      "cell_type": "code",
      "metadata": {
        "id": "1gAkJhGlJQXX"
      },
      "source": [
        "train = wrangle(train)"
      ],
      "execution_count": 148,
      "outputs": []
    },
    {
      "cell_type": "code",
      "metadata": {
        "colab": {
          "base_uri": "https://localhost:8080/",
          "height": 131
        },
        "id": "_cdx_wM5udF_",
        "outputId": "8c16b6c6-feb2-4e26-85d8-382db13b424e"
      },
      "source": [
        "train.head(1)"
      ],
      "execution_count": 149,
      "outputs": [
        {
          "output_type": "execute_result",
          "data": {
            "text/html": [
              "<div>\n",
              "<style scoped>\n",
              "    .dataframe tbody tr th:only-of-type {\n",
              "        vertical-align: middle;\n",
              "    }\n",
              "\n",
              "    .dataframe tbody tr th {\n",
              "        vertical-align: top;\n",
              "    }\n",
              "\n",
              "    .dataframe thead th {\n",
              "        text-align: right;\n",
              "    }\n",
              "</style>\n",
              "<table border=\"1\" class=\"dataframe\">\n",
              "  <thead>\n",
              "    <tr style=\"text-align: right;\">\n",
              "      <th></th>\n",
              "      <th>id</th>\n",
              "      <th>description</th>\n",
              "      <th>ratingCategory</th>\n",
              "      <th>tokens</th>\n",
              "      <th>num_of_tokens</th>\n",
              "      <th>vectors</th>\n",
              "      <th>vects_ave</th>\n",
              "    </tr>\n",
              "  </thead>\n",
              "  <tbody>\n",
              "    <tr>\n",
              "      <th>0</th>\n",
              "      <td>1321</td>\n",
              "      <td>\\nSometimes, when whisky is batched, a few lef...</td>\n",
              "      <td>1</td>\n",
              "      <td>[sometimes, when, whisky, is, a, few, barrels,...</td>\n",
              "      <td>74</td>\n",
              "      <td>[5.4366913, 4.824553, 7.2341533, 4.890306, 5.3...</td>\n",
              "      <td>6.010289</td>\n",
              "    </tr>\n",
              "  </tbody>\n",
              "</table>\n",
              "</div>"
            ],
            "text/plain": [
              "     id  ... vects_ave\n",
              "0  1321  ...  6.010289\n",
              "\n",
              "[1 rows x 7 columns]"
            ]
          },
          "metadata": {
            "tags": []
          },
          "execution_count": 149
        }
      ]
    },
    {
      "cell_type": "code",
      "metadata": {
        "colab": {
          "base_uri": "https://localhost:8080/"
        },
        "id": "2lhMSPLuKSaT",
        "outputId": "281a6fe5-e6cd-479b-eb45-c61bea26ac48"
      },
      "source": [
        "# Split into target and feature matrix\n",
        "\n",
        "X = train.drop(columns=['id','description','ratingCategory','tokens','num_of_tokens','vectors'])\n",
        "y = train['ratingCategory']\n",
        "\n",
        "print(X.shape)\n",
        "print(y.shape)\n",
        "\n",
        "assert len(X) == len(y)"
      ],
      "execution_count": 150,
      "outputs": [
        {
          "output_type": "stream",
          "text": [
            "(4087, 1)\n",
            "(4087,)\n"
          ],
          "name": "stdout"
        }
      ]
    },
    {
      "cell_type": "code",
      "metadata": {
        "colab": {
          "base_uri": "https://localhost:8080/",
          "height": 204
        },
        "id": "HCst8pGtVSWt",
        "outputId": "20bc12c2-5da9-4576-a580-59e5e80a8864"
      },
      "source": [
        "X.head()"
      ],
      "execution_count": 151,
      "outputs": [
        {
          "output_type": "execute_result",
          "data": {
            "text/html": [
              "<div>\n",
              "<style scoped>\n",
              "    .dataframe tbody tr th:only-of-type {\n",
              "        vertical-align: middle;\n",
              "    }\n",
              "\n",
              "    .dataframe tbody tr th {\n",
              "        vertical-align: top;\n",
              "    }\n",
              "\n",
              "    .dataframe thead th {\n",
              "        text-align: right;\n",
              "    }\n",
              "</style>\n",
              "<table border=\"1\" class=\"dataframe\">\n",
              "  <thead>\n",
              "    <tr style=\"text-align: right;\">\n",
              "      <th></th>\n",
              "      <th>vects_ave</th>\n",
              "    </tr>\n",
              "  </thead>\n",
              "  <tbody>\n",
              "    <tr>\n",
              "      <th>0</th>\n",
              "      <td>6.010289</td>\n",
              "    </tr>\n",
              "    <tr>\n",
              "      <th>1</th>\n",
              "      <td>5.951116</td>\n",
              "    </tr>\n",
              "    <tr>\n",
              "      <th>2</th>\n",
              "      <td>5.978484</td>\n",
              "    </tr>\n",
              "    <tr>\n",
              "      <th>3</th>\n",
              "      <td>6.258276</td>\n",
              "    </tr>\n",
              "    <tr>\n",
              "      <th>4</th>\n",
              "      <td>6.261551</td>\n",
              "    </tr>\n",
              "  </tbody>\n",
              "</table>\n",
              "</div>"
            ],
            "text/plain": [
              "   vects_ave\n",
              "0   6.010289\n",
              "1   5.951116\n",
              "2   5.978484\n",
              "3   6.258276\n",
              "4   6.261551"
            ]
          },
          "metadata": {
            "tags": []
          },
          "execution_count": 151
        }
      ]
    },
    {
      "cell_type": "code",
      "metadata": {
        "colab": {
          "base_uri": "https://localhost:8080/"
        },
        "id": "SaSFdnQdK6Ne",
        "outputId": "13f88838-b007-4c08-a378-f1c41236fd70"
      },
      "source": [
        "from sklearn.ensemble import RandomForestClassifier\n",
        "\n",
        "clf = RandomForestClassifier(random_state=42)\n",
        "\n",
        "clf.fit(X, y)"
      ],
      "execution_count": 152,
      "outputs": [
        {
          "output_type": "execute_result",
          "data": {
            "text/plain": [
              "RandomForestClassifier(bootstrap=True, ccp_alpha=0.0, class_weight=None,\n",
              "                       criterion='gini', max_depth=None, max_features='auto',\n",
              "                       max_leaf_nodes=None, max_samples=None,\n",
              "                       min_impurity_decrease=0.0, min_impurity_split=None,\n",
              "                       min_samples_leaf=1, min_samples_split=2,\n",
              "                       min_weight_fraction_leaf=0.0, n_estimators=100,\n",
              "                       n_jobs=None, oob_score=False, random_state=42, verbose=0,\n",
              "                       warm_start=False)"
            ]
          },
          "metadata": {
            "tags": []
          },
          "execution_count": 152
        }
      ]
    },
    {
      "cell_type": "code",
      "metadata": {
        "id": "alstg_LLLme1"
      },
      "source": [
        "test1 = wrangle(test).drop(columns=['id','description','tokens','num_of_tokens','vectors'])"
      ],
      "execution_count": 153,
      "outputs": []
    },
    {
      "cell_type": "code",
      "metadata": {
        "colab": {
          "base_uri": "https://localhost:8080/",
          "height": 204
        },
        "id": "BvRmyc5_bwQW",
        "outputId": "cd70cd7d-6417-4663-8c04-3876a6a20f55"
      },
      "source": [
        "test1.head()"
      ],
      "execution_count": 154,
      "outputs": [
        {
          "output_type": "execute_result",
          "data": {
            "text/html": [
              "<div>\n",
              "<style scoped>\n",
              "    .dataframe tbody tr th:only-of-type {\n",
              "        vertical-align: middle;\n",
              "    }\n",
              "\n",
              "    .dataframe tbody tr th {\n",
              "        vertical-align: top;\n",
              "    }\n",
              "\n",
              "    .dataframe thead th {\n",
              "        text-align: right;\n",
              "    }\n",
              "</style>\n",
              "<table border=\"1\" class=\"dataframe\">\n",
              "  <thead>\n",
              "    <tr style=\"text-align: right;\">\n",
              "      <th></th>\n",
              "      <th>vects_ave</th>\n",
              "    </tr>\n",
              "  </thead>\n",
              "  <tbody>\n",
              "    <tr>\n",
              "      <th>0</th>\n",
              "      <td>6.351125</td>\n",
              "    </tr>\n",
              "    <tr>\n",
              "      <th>1</th>\n",
              "      <td>5.972300</td>\n",
              "    </tr>\n",
              "    <tr>\n",
              "      <th>2</th>\n",
              "      <td>6.172125</td>\n",
              "    </tr>\n",
              "    <tr>\n",
              "      <th>3</th>\n",
              "      <td>6.406283</td>\n",
              "    </tr>\n",
              "    <tr>\n",
              "      <th>4</th>\n",
              "      <td>6.042514</td>\n",
              "    </tr>\n",
              "  </tbody>\n",
              "</table>\n",
              "</div>"
            ],
            "text/plain": [
              "   vects_ave\n",
              "0   6.351125\n",
              "1   5.972300\n",
              "2   6.172125\n",
              "3   6.406283\n",
              "4   6.042514"
            ]
          },
          "metadata": {
            "tags": []
          },
          "execution_count": 154
        }
      ]
    },
    {
      "cell_type": "code",
      "metadata": {
        "id": "UXzcDscjLVEI"
      },
      "source": [
        "pred = clf.predict(test1)"
      ],
      "execution_count": 155,
      "outputs": []
    },
    {
      "cell_type": "code",
      "metadata": {
        "colab": {
          "base_uri": "https://localhost:8080/"
        },
        "id": "Ogjlry_pVvA4",
        "outputId": "b79e5cfa-3f60-41cd-869b-2ce8102a0b9d"
      },
      "source": [
        "pred"
      ],
      "execution_count": 156,
      "outputs": [
        {
          "output_type": "execute_result",
          "data": {
            "text/plain": [
              "array([1, 1, 1, ..., 1, 1, 1])"
            ]
          },
          "metadata": {
            "tags": []
          },
          "execution_count": 156
        }
      ]
    },
    {
      "cell_type": "code",
      "metadata": {
        "id": "ZBKD_uEFRPfH"
      },
      "source": [
        "test_id = pd.read_csv('test.csv')"
      ],
      "execution_count": 157,
      "outputs": []
    },
    {
      "cell_type": "code",
      "metadata": {
        "id": "xIyHIsGGQCm_"
      },
      "source": [
        "submission = pd.DataFrame({'id': test_id['id'], 'ratingCategory':pred})\n",
        "submission['ratingCategory'] = submission['ratingCategory'].astype('int64')"
      ],
      "execution_count": 158,
      "outputs": []
    },
    {
      "cell_type": "code",
      "metadata": {
        "colab": {
          "base_uri": "https://localhost:8080/",
          "height": 204
        },
        "id": "6V-C-BgPQFVF",
        "outputId": "d110b5d8-6265-4f95-d5d5-8dc773e90ae5"
      },
      "source": [
        "submission.head()"
      ],
      "execution_count": 159,
      "outputs": [
        {
          "output_type": "execute_result",
          "data": {
            "text/html": [
              "<div>\n",
              "<style scoped>\n",
              "    .dataframe tbody tr th:only-of-type {\n",
              "        vertical-align: middle;\n",
              "    }\n",
              "\n",
              "    .dataframe tbody tr th {\n",
              "        vertical-align: top;\n",
              "    }\n",
              "\n",
              "    .dataframe thead th {\n",
              "        text-align: right;\n",
              "    }\n",
              "</style>\n",
              "<table border=\"1\" class=\"dataframe\">\n",
              "  <thead>\n",
              "    <tr style=\"text-align: right;\">\n",
              "      <th></th>\n",
              "      <th>id</th>\n",
              "      <th>ratingCategory</th>\n",
              "    </tr>\n",
              "  </thead>\n",
              "  <tbody>\n",
              "    <tr>\n",
              "      <th>0</th>\n",
              "      <td>3461</td>\n",
              "      <td>1</td>\n",
              "    </tr>\n",
              "    <tr>\n",
              "      <th>1</th>\n",
              "      <td>2604</td>\n",
              "      <td>1</td>\n",
              "    </tr>\n",
              "    <tr>\n",
              "      <th>2</th>\n",
              "      <td>3341</td>\n",
              "      <td>1</td>\n",
              "    </tr>\n",
              "    <tr>\n",
              "      <th>3</th>\n",
              "      <td>3764</td>\n",
              "      <td>1</td>\n",
              "    </tr>\n",
              "    <tr>\n",
              "      <th>4</th>\n",
              "      <td>2306</td>\n",
              "      <td>0</td>\n",
              "    </tr>\n",
              "  </tbody>\n",
              "</table>\n",
              "</div>"
            ],
            "text/plain": [
              "     id  ratingCategory\n",
              "0  3461               1\n",
              "1  2604               1\n",
              "2  3341               1\n",
              "3  3764               1\n",
              "4  2306               0"
            ]
          },
          "metadata": {
            "tags": []
          },
          "execution_count": 159
        }
      ]
    },
    {
      "cell_type": "code",
      "metadata": {
        "colab": {
          "base_uri": "https://localhost:8080/"
        },
        "id": "fARP2iViSu2B",
        "outputId": "bd4334e4-e137-4beb-ca96-17db630ef3e4"
      },
      "source": [
        "submission['ratingCategory'].value_counts()"
      ],
      "execution_count": 160,
      "outputs": [
        {
          "output_type": "execute_result",
          "data": {
            "text/plain": [
              "1    715\n",
              "0    288\n",
              "2     19\n",
              "Name: ratingCategory, dtype: int64"
            ]
          },
          "metadata": {
            "tags": []
          },
          "execution_count": 160
        }
      ]
    },
    {
      "cell_type": "code",
      "metadata": {
        "id": "is4UAtB1SVGm"
      },
      "source": [
        "subNumber = 11\n",
        "submission.to_csv(f'submission{subNumber}.csv', index=False)"
      ],
      "execution_count": 161,
      "outputs": []
    }
  ]
}
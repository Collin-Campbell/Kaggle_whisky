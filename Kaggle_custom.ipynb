{
  "nbformat": 4,
  "nbformat_minor": 0,
  "metadata": {
    "colab": {
      "name": "Kaggle_custom.ipynb",
      "provenance": [],
      "collapsed_sections": []
    },
    "kernelspec": {
      "name": "python3",
      "display_name": "Python 3"
    }
  },
  "cells": [
    {
      "cell_type": "code",
      "metadata": {
        "id": "ITvuBbRJ8s9i"
      },
      "source": [
        "from IPython.display import clear_output\n",
        "\n",
        "!python -m spacy download en_core_web_lg\n",
        "clear_output()"
      ],
      "execution_count": 1,
      "outputs": []
    },
    {
      "cell_type": "code",
      "metadata": {
        "id": "9T8BJ0PA9NCc"
      },
      "source": [
        "# https://www.kaggle.com/c/whiskey-reviews-ds20/overview\n",
        "\n",
        "import pandas as pd\n",
        "\n",
        "# You may need to change the path\n",
        "train = pd.read_csv('https://raw.githubusercontent.com/Collin-Campbell/Kaggle_whisky/main/train.csv')\n",
        "test = pd.read_csv('https://raw.githubusercontent.com/Collin-Campbell/Kaggle_whisky/main/test.csv')"
      ],
      "execution_count": 393,
      "outputs": []
    },
    {
      "cell_type": "code",
      "metadata": {
        "id": "BQ1H8MFPDNUE"
      },
      "source": [
        "def clean(text):\n",
        "\n",
        "  text = text.replace('\\n', '')\n",
        "\n",
        "  text = text.replace(u'\\xa0', u' ')\n",
        "\n",
        "  text = text.lower()\n",
        "\n",
        "  text = text.strip()\n",
        "\n",
        "\n",
        "  return text"
      ],
      "execution_count": 394,
      "outputs": []
    },
    {
      "cell_type": "code",
      "metadata": {
        "id": "EkTUouvnD1vi"
      },
      "source": [
        "# Applying cleaning function to dfs\n",
        "\n",
        "train['description'] = train['description'].apply(clean)\n",
        "test['description'] = test['description'].apply(clean)"
      ],
      "execution_count": 395,
      "outputs": []
    },
    {
      "cell_type": "code",
      "metadata": {
        "colab": {
          "base_uri": "https://localhost:8080/"
        },
        "id": "4z7AFFx8HiXj",
        "outputId": "b5ceb68b-cafc-4064-9ee7-e0d2e4458731"
      },
      "source": [
        "# A little EDA\n",
        "\n",
        "num_of_Excellent = ((train['ratingCategory'].value_counts()[0]) / (train['ratingCategory'].value_counts().sum())) * 100\n",
        "num_of_Good = ((train['ratingCategory'].value_counts()[1]) / (train['ratingCategory'].value_counts().sum())) * 100\n",
        "num_of_Poor = ((train['ratingCategory'].value_counts()[2]) / (train['ratingCategory'].value_counts().sum())) * 100\n",
        "\n",
        "\n",
        "print('Of the training data: \\n\\n\\t{} percent are rated Excellent or 0 \\n\\t{} percent are rated Good or 1 \\n\\t{} percent are rated Poor or 2'.format(num_of_Excellent,num_of_Good,num_of_Poor))"
      ],
      "execution_count": 396,
      "outputs": [
        {
          "output_type": "stream",
          "text": [
            "Of the training data: \n",
            "\n",
            "\t27.917788108637144 percent are rated Excellent or 0 \n",
            "\t70.49180327868852 percent are rated Good or 1 \n",
            "\t1.5904086126743333 percent are rated Poor or 2\n"
          ],
          "name": "stdout"
        }
      ]
    },
    {
      "cell_type": "code",
      "metadata": {
        "id": "etbgLOluF57y"
      },
      "source": [
        "# Attempting to capture context\n",
        "\n",
        "Excellent = [\"uncommon\",\"exclusive\",\"very flavorful\",\"charming\",\"very impressive\",\"distinctive\",\n",
        "             \"mature profile\",\"irresistible\",\"conspicuous\",\"not overly so\",\"dangerously delicious\",\n",
        "             \"guilty pleasure\",\"a drizzle\",\"bliss\",\"ripe with\",\"is delicious\",\"are delicious\",\n",
        "             \"identity of its own\",\"in balance\",\"unpretentious\",\"quite enjoyable\",\n",
        "             \"lush notes\",\"rich and sappy\",\" soothing\",\"nice balance\",\"exemplary\",\"creamy mouthfeel\",\n",
        "             \"carefully tempered\",\"a luscious\",\"editor's choice\",\" delight\",\" embraces\",\" silky\",\n",
        "             \"smoky finish\", \" accents\", \"accenting\",\"levels of complexity\",\"coveted\",\"undeniable\",\n",
        "             \" classic\",\"and rounded\",\"a bow on\",\" sunset\",\" reveals flavors\",\"inviting nose\",\n",
        "             \"supple on the palate\",\" warming\",\"slightly herbal\",\"resounds\",\"satin smooth\",\"burnt sugars\",\n",
        "             \"roasted lime\",\"ripe harvest\",\"bold and spicy\",\"i'm enjoying\",\"flashes of\",\"creaminess\",\n",
        "             \"without a doubt\",\" pleasant spiciness\",\" assertive\",\"soothe the palate\",\"provide balance\",\n",
        "             \"soothes the palate\",\"provides balance\",\"benchmark\",\"not aggressively\",\" well-made\",\n",
        "             \"not flawed\",\"a zip\",\" brightness\",\"liquid dessert\", \" glorious\",\"quite simply\",\n",
        "             \"great mouthfeel\",\" deepen to\",\" warming\",\" at its best\",\"freshness\",\" a pleasant mix\",\n",
        "             \"clean and intense\",\" has returned\",\"vintage\",\"lingering\",\" meat\",\"rich, dark\",\n",
        "             \"merry mix\",\"stronger\",\"evenly balanced\",\"very fragrant\",\"with vibrant\",\"and subtle\",\n",
        "             \"a gentle\",\"surprising maturity\",\"uncommonly\"]\n",
        "\n",
        "\n",
        "Poor = [\"dull palate\",\"palate is dull\",\"leaves me wondering\",\n",
        "        \"ultimately fails\",\"begs for\",\"wet dog\",\"unfortunately\",\"could benefit\",\n",
        "        \"shorter than expected\",\"leaving me wondering\",\"leaves my mouth parched\",\n",
        "        \"leaving my mouth parched\",\"nasty smell\",\"ammonia\",\"dustiness\",\"woodiness\",\n",
        "        \"more than one problem\",\"more acidic and dry\",\"hotter and drier\",\n",
        "        \"never meant to be consumed\",\"piercing nose\",\"wet corn\",\"bitter and hot\",\n",
        "        \"inappropriate sweetness\",\"wet oak\",\"bad idea\",\"no information\",\n",
        "        \"tobacco juice\",\"lots of pain\",\"past its prime\",\"spoiling\",\"heavy palate\",\n",
        "        \"heavy on the palate\",\"used tea bags\",\n",
        "        \"oversteeped tea\",\"oversteeped mess\",\n",
        "        \"bitter finish\",\"finish is bitter\",\"unpleasant finish\",\"finish is unpleasant\",\n",
        "        \"moonshine\",\"fading\",\"not a lot of substance\",\n",
        "        \"tongue-curlingly\",\"hot finish\",\"finish is hot\",\n",
        "        \"blunt alcohol\",\"pale in color\",\"very green\",\"very ornery\",\"add depth\",\n",
        "        \"too bad\",\"profoundly bitter\",\"reluctantly ingesting\",\"flinching child\",\n",
        "        \"unwelcome spoonful\",\"is unfortunate\",\"not crazy about\",\"somewhat disappointing\",\n",
        "        \"cloying\",\"sadly\",\"sulphury\",\"chewing tobacco\",\"extremely bitter\",\n",
        "        \"like chewing\",\"white bread\",\"that's about all\",\"what is this\",\n",
        "        \"a mess\", \"flabby\",\"characterless\",\"don't work\",\"artificially-flavored\",\n",
        "        \"artificially flavored\",\"bubblegum\",\"clashes with\",\"too dry\",\"too hot\",\"too sour\",\n",
        "        \"pleasant or enjoyable\",\"overly sweet\",\"too sweet\",\"overly dry\",\"overly hot\",\n",
        "        \"overly sour\",\"more distracting than\",\"ginger ale\",\"not a bargain\",\"wet smell\",\n",
        "        \"smelling a wet\",\"watery\",\"puckeringly\",\"bone dry\",\"bone-dry\",\"is thin\",\n",
        "        \"wet barrel\",\"wet wood\",\"resinous\",\"too much oak\",\"no balance\",\n",
        "        \"all over the place\",\"unrefined\",\"solvent-like\",\"harsh\",\"too expensive\",\n",
        "        \"not good enough\",\"bubble gum\",\"tabasco\",\"regrettably\",\"sticky-sweet\",\n",
        "        \"sweet and sticky\",\"which dominates\",\"too dominating\",\"rubber tire\",\n",
        "        \"disjointed\",\"flat finish\",\"finish is flat\",\"it needs more\",\"unaged\",\n",
        "        \"flavors flatten\",\"flat flavor\",\"wood dominates\",\"flatten out\",\"variable\",\n",
        "        \"lifeless\",\"very astringent\",\"too immature\",\"too harsh\",\"one-dimensional\",\n",
        "        \"long way to go\",\"body is lacking\",\"torpid profile\",\"unremarkable\",\n",
        "        \"a bit drab\",\"flavors die\",\"residual flavor\",\"needs ice\",\"veers off\",\"potation\",\n",
        "        \"faux-fruity\",\"popsicles\",\"uninspiring\",\"fleeting finish\",\"finish is fleeting\",\n",
        "        \"red hots\",\"thickly\",\"completely masks\",\"fun shooter\",\"fun cocktail\",\n",
        "        \"long and hot\",\"a bit pulling\",\"mashy\",\"chill it\",\"used bourbon cask\",\n",
        "        \"aggressive and harsh\",\"least favorite\",\"soapy\",\"medicinal\",\"artificial\",\n",
        "        \"yesteryear\",\"spirity\",\"less interesting\",\"not particularly\", \"needs more\",\n",
        "        \"needs a little more\",\"maturing\",\"starburst\",\"feinty\",\"plastic\",\n",
        "        \"rubbery\",\"sulphury\",\"sweaty\",\"young nose\",\"dry hay\",\"dusty grain\",\n",
        "        \"tastes like it\",\"unctuous\",\"baby\",\"children\",\"cereal\",\"jujubes\",\"grape gum\",\n",
        "        \"grain dust\",\"wince\",\"gripping resin\",\"clings to\",\"one-trick pony\",\n",
        "        \"tailgating\",\"barnyard\",\"funk\",\"fractured\",\"there are issues\",\"grainy aftertaste\",\n",
        "        \"mountain dew\",\"couch medicine\",\"unsweetened rhubarb\",\n",
        "        \"mouth-puckering\",\"any redeeming qualities\",\"no redeeming qualities\",\"bland and saggy\",\n",
        "        \"hard to love\",\"out of balance\",\"maple syrup\",\"coke\",\"not to savor\",\"coca-cola\",\n",
        "        \"pepsi\",\"a disappointment\",\"it is thin\",\"it is harsh\",\"paint thinner\",\"maple flavoring\",\n",
        "        \"never was meant\",\"lacks the\",\"mixing bourbon\",\"on the rocks\",\n",
        "        \"murderously\",\"overrides\",\"shooter\",\"oil and water\",\"water and oil\",\"gamey finish\",\n",
        "        \"finish is gamey\",\"do not especially\",\"badly-made\",\"ill-conceived\",\n",
        "        \"overtaken\",\"far from ready\",\"alcohol-centric\",\"short time\",\"...\"]\n",
        "\n",
        "       \n",
        "        # Things I've noticed:\n",
        "        # any comparison to childrens food is negative\n",
        "        # any mention of soda or needing ice is negative\n",
        "        # calling it moonshine is usually negative\n",
        "        # any relation to sugary processed things is negative\n",
        "        # good whisky is serious, not \"fun\" or for partying with\n",
        "        # even punctuation matters, such as '...' vs '!'\n",
        "        # exceptional reviews might not be too positive, but negative reviews are pretty negative"
      ],
      "execution_count": 397,
      "outputs": []
    },
    {
      "cell_type": "code",
      "metadata": {
        "id": "Ac_oOhy-mZdl"
      },
      "source": [
        "# In case of duplicates in manual recording...\n",
        "\n",
        "Excellent = set(Excellent)\n",
        "Poor = set(Poor)"
      ],
      "execution_count": 398,
      "outputs": []
    },
    {
      "cell_type": "code",
      "metadata": {
        "id": "vsWUKSYlm74z"
      },
      "source": [
        "def excellent_test(text):\n",
        "\n",
        "  count = 0\n",
        "  substrings = []\n",
        "\n",
        "  for substring in Excellent:\n",
        "    if substring in text:\n",
        "      substrings.append(substring)\n",
        "      count += 1\n",
        "    else:\n",
        "      continue\n",
        "\n",
        "  return count#, substrings"
      ],
      "execution_count": 399,
      "outputs": []
    },
    {
      "cell_type": "code",
      "metadata": {
        "id": "9Rt6oZ2-8fZJ"
      },
      "source": [
        "def poor_test(text):\n",
        "\n",
        "  count = 0\n",
        "  substrings = []\n",
        "\n",
        "  for substring in Poor:\n",
        "    if substring in text:\n",
        "      substrings.append(substring)\n",
        "      count += 1\n",
        "    else:\n",
        "      continue\n",
        "\n",
        "  return count#, substrings"
      ],
      "execution_count": 400,
      "outputs": []
    },
    {
      "cell_type": "code",
      "metadata": {
        "id": "IzzBUPIDoc5W"
      },
      "source": [
        "# Creating new features\n",
        "\n",
        "train['excellent_count'] = train['description'].apply(excellent_test)\n",
        "train['poor_count'] = train['description'].apply(poor_test)\n",
        "\n",
        "test['excellent_count'] = test['description'].apply(excellent_test)\n",
        "test['poor_count'] = test['description'].apply(poor_test)"
      ],
      "execution_count": 401,
      "outputs": []
    },
    {
      "cell_type": "code",
      "metadata": {
        "colab": {
          "base_uri": "https://localhost:8080/",
          "height": 80
        },
        "id": "gqS-K1pALVa-",
        "outputId": "2a671a6c-4934-498b-f802-10a23a3fe895"
      },
      "source": [
        "train.head(1)"
      ],
      "execution_count": 402,
      "outputs": [
        {
          "output_type": "execute_result",
          "data": {
            "text/html": [
              "<div>\n",
              "<style scoped>\n",
              "    .dataframe tbody tr th:only-of-type {\n",
              "        vertical-align: middle;\n",
              "    }\n",
              "\n",
              "    .dataframe tbody tr th {\n",
              "        vertical-align: top;\n",
              "    }\n",
              "\n",
              "    .dataframe thead th {\n",
              "        text-align: right;\n",
              "    }\n",
              "</style>\n",
              "<table border=\"1\" class=\"dataframe\">\n",
              "  <thead>\n",
              "    <tr style=\"text-align: right;\">\n",
              "      <th></th>\n",
              "      <th>id</th>\n",
              "      <th>description</th>\n",
              "      <th>ratingCategory</th>\n",
              "      <th>excellent_count</th>\n",
              "      <th>poor_count</th>\n",
              "    </tr>\n",
              "  </thead>\n",
              "  <tbody>\n",
              "    <tr>\n",
              "      <th>0</th>\n",
              "      <td>1321</td>\n",
              "      <td>sometimes, when whisky is batched, a few lefto...</td>\n",
              "      <td>1</td>\n",
              "      <td>1</td>\n",
              "      <td>0</td>\n",
              "    </tr>\n",
              "  </tbody>\n",
              "</table>\n",
              "</div>"
            ],
            "text/plain": [
              "     id  ... poor_count\n",
              "0  1321  ...          0\n",
              "\n",
              "[1 rows x 5 columns]"
            ]
          },
          "metadata": {
            "tags": []
          },
          "execution_count": 402
        }
      ]
    },
    {
      "cell_type": "code",
      "metadata": {
        "id": "v3SWBqAHLTNs"
      },
      "source": [
        "X_train = train.drop(columns=['id','ratingCategory'])\n",
        "y_train = train.drop(columns=['id','description','excellent_count','poor_count'])\n",
        "X_test = test.drop(columns=['id'])"
      ],
      "execution_count": 403,
      "outputs": []
    },
    {
      "cell_type": "code",
      "metadata": {
        "id": "ZuYYgDdUMk9Y"
      },
      "source": [
        "submission = pd.DataFrame({'id': test['id'], 'ratingCategory':pred})\n",
        "submission['ratingCategory'] = submission['ratingCategory'].astype('int64')"
      ],
      "execution_count": 390,
      "outputs": []
    },
    {
      "cell_type": "code",
      "metadata": {
        "colab": {
          "base_uri": "https://localhost:8080/",
          "height": 204
        },
        "id": "vP_-7GWeGx3_",
        "outputId": "913fc37e-0b7b-49be-8c6b-7e8afd31e4f4"
      },
      "source": [
        "submission.head()"
      ],
      "execution_count": 391,
      "outputs": [
        {
          "output_type": "execute_result",
          "data": {
            "text/html": [
              "<div>\n",
              "<style scoped>\n",
              "    .dataframe tbody tr th:only-of-type {\n",
              "        vertical-align: middle;\n",
              "    }\n",
              "\n",
              "    .dataframe tbody tr th {\n",
              "        vertical-align: top;\n",
              "    }\n",
              "\n",
              "    .dataframe thead th {\n",
              "        text-align: right;\n",
              "    }\n",
              "</style>\n",
              "<table border=\"1\" class=\"dataframe\">\n",
              "  <thead>\n",
              "    <tr style=\"text-align: right;\">\n",
              "      <th></th>\n",
              "      <th>id</th>\n",
              "      <th>ratingCategory</th>\n",
              "    </tr>\n",
              "  </thead>\n",
              "  <tbody>\n",
              "    <tr>\n",
              "      <th>0</th>\n",
              "      <td>3461</td>\n",
              "      <td>1</td>\n",
              "    </tr>\n",
              "    <tr>\n",
              "      <th>1</th>\n",
              "      <td>2604</td>\n",
              "      <td>1</td>\n",
              "    </tr>\n",
              "    <tr>\n",
              "      <th>2</th>\n",
              "      <td>3341</td>\n",
              "      <td>1</td>\n",
              "    </tr>\n",
              "    <tr>\n",
              "      <th>3</th>\n",
              "      <td>3764</td>\n",
              "      <td>1</td>\n",
              "    </tr>\n",
              "    <tr>\n",
              "      <th>4</th>\n",
              "      <td>2306</td>\n",
              "      <td>1</td>\n",
              "    </tr>\n",
              "  </tbody>\n",
              "</table>\n",
              "</div>"
            ],
            "text/plain": [
              "     id  ratingCategory\n",
              "0  3461               1\n",
              "1  2604               1\n",
              "2  3341               1\n",
              "3  3764               1\n",
              "4  2306               1"
            ]
          },
          "metadata": {
            "tags": []
          },
          "execution_count": 391
        }
      ]
    },
    {
      "cell_type": "code",
      "metadata": {
        "colab": {
          "base_uri": "https://localhost:8080/"
        },
        "id": "hitNsL-cHjtZ",
        "outputId": "016509c7-9be9-42ed-b2dd-06a2f617f6d0"
      },
      "source": [
        "submission['ratingCategory'].value_counts()"
      ],
      "execution_count": 392,
      "outputs": [
        {
          "output_type": "execute_result",
          "data": {
            "text/plain": [
              "1    989\n",
              "0     29\n",
              "2      4\n",
              "Name: ratingCategory, dtype: int64"
            ]
          },
          "metadata": {
            "tags": []
          },
          "execution_count": 392
        }
      ]
    },
    {
      "cell_type": "code",
      "metadata": {
        "id": "ahzBarJTG0kW"
      },
      "source": [
        "subNumber = 13\n",
        "submission.to_csv(f'submission{subNumber}.csv', index=False)"
      ],
      "execution_count": 342,
      "outputs": []
    }
  ]
}
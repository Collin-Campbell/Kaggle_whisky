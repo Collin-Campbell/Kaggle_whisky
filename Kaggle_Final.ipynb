{
  "nbformat": 4,
  "nbformat_minor": 0,
  "metadata": {
    "colab": {
      "name": "Kaggle_Final.ipynb",
      "provenance": []
    },
    "kernelspec": {
      "name": "python3",
      "display_name": "Python 3"
    }
  },
  "cells": [
    {
      "cell_type": "code",
      "metadata": {
        "colab": {
          "base_uri": "https://localhost:8080/"
        },
        "id": "u9z-oub92Tc1",
        "outputId": "ca3643a1-049a-4219-d1e4-aeae835641b9"
      },
      "source": [
        "!python -m spacy download en_core_web_lg"
      ],
      "execution_count": 1,
      "outputs": [
        {
          "output_type": "stream",
          "text": [
            "Collecting en_core_web_lg==2.2.5\n",
            "\u001b[?25l  Downloading https://github.com/explosion/spacy-models/releases/download/en_core_web_lg-2.2.5/en_core_web_lg-2.2.5.tar.gz (827.9MB)\n",
            "\u001b[K     |████████████████████████████████| 827.9MB 1.2MB/s \n",
            "\u001b[?25hRequirement already satisfied: spacy>=2.2.2 in /usr/local/lib/python3.6/dist-packages (from en_core_web_lg==2.2.5) (2.2.4)\n",
            "Requirement already satisfied: requests<3.0.0,>=2.13.0 in /usr/local/lib/python3.6/dist-packages (from spacy>=2.2.2->en_core_web_lg==2.2.5) (2.23.0)\n",
            "Requirement already satisfied: cymem<2.1.0,>=2.0.2 in /usr/local/lib/python3.6/dist-packages (from spacy>=2.2.2->en_core_web_lg==2.2.5) (2.0.4)\n",
            "Requirement already satisfied: preshed<3.1.0,>=3.0.2 in /usr/local/lib/python3.6/dist-packages (from spacy>=2.2.2->en_core_web_lg==2.2.5) (3.0.4)\n",
            "Requirement already satisfied: plac<1.2.0,>=0.9.6 in /usr/local/lib/python3.6/dist-packages (from spacy>=2.2.2->en_core_web_lg==2.2.5) (1.1.3)\n",
            "Requirement already satisfied: setuptools in /usr/local/lib/python3.6/dist-packages (from spacy>=2.2.2->en_core_web_lg==2.2.5) (50.3.2)\n",
            "Requirement already satisfied: srsly<1.1.0,>=1.0.2 in /usr/local/lib/python3.6/dist-packages (from spacy>=2.2.2->en_core_web_lg==2.2.5) (1.0.4)\n",
            "Requirement already satisfied: catalogue<1.1.0,>=0.0.7 in /usr/local/lib/python3.6/dist-packages (from spacy>=2.2.2->en_core_web_lg==2.2.5) (1.0.0)\n",
            "Requirement already satisfied: numpy>=1.15.0 in /usr/local/lib/python3.6/dist-packages (from spacy>=2.2.2->en_core_web_lg==2.2.5) (1.18.5)\n",
            "Requirement already satisfied: wasabi<1.1.0,>=0.4.0 in /usr/local/lib/python3.6/dist-packages (from spacy>=2.2.2->en_core_web_lg==2.2.5) (0.8.0)\n",
            "Requirement already satisfied: murmurhash<1.1.0,>=0.28.0 in /usr/local/lib/python3.6/dist-packages (from spacy>=2.2.2->en_core_web_lg==2.2.5) (1.0.4)\n",
            "Requirement already satisfied: blis<0.5.0,>=0.4.0 in /usr/local/lib/python3.6/dist-packages (from spacy>=2.2.2->en_core_web_lg==2.2.5) (0.4.1)\n",
            "Requirement already satisfied: thinc==7.4.0 in /usr/local/lib/python3.6/dist-packages (from spacy>=2.2.2->en_core_web_lg==2.2.5) (7.4.0)\n",
            "Requirement already satisfied: tqdm<5.0.0,>=4.38.0 in /usr/local/lib/python3.6/dist-packages (from spacy>=2.2.2->en_core_web_lg==2.2.5) (4.41.1)\n",
            "Requirement already satisfied: idna<3,>=2.5 in /usr/local/lib/python3.6/dist-packages (from requests<3.0.0,>=2.13.0->spacy>=2.2.2->en_core_web_lg==2.2.5) (2.10)\n",
            "Requirement already satisfied: certifi>=2017.4.17 in /usr/local/lib/python3.6/dist-packages (from requests<3.0.0,>=2.13.0->spacy>=2.2.2->en_core_web_lg==2.2.5) (2020.11.8)\n",
            "Requirement already satisfied: chardet<4,>=3.0.2 in /usr/local/lib/python3.6/dist-packages (from requests<3.0.0,>=2.13.0->spacy>=2.2.2->en_core_web_lg==2.2.5) (3.0.4)\n",
            "Requirement already satisfied: urllib3!=1.25.0,!=1.25.1,<1.26,>=1.21.1 in /usr/local/lib/python3.6/dist-packages (from requests<3.0.0,>=2.13.0->spacy>=2.2.2->en_core_web_lg==2.2.5) (1.24.3)\n",
            "Requirement already satisfied: importlib-metadata>=0.20; python_version < \"3.8\" in /usr/local/lib/python3.6/dist-packages (from catalogue<1.1.0,>=0.0.7->spacy>=2.2.2->en_core_web_lg==2.2.5) (2.0.0)\n",
            "Requirement already satisfied: zipp>=0.5 in /usr/local/lib/python3.6/dist-packages (from importlib-metadata>=0.20; python_version < \"3.8\"->catalogue<1.1.0,>=0.0.7->spacy>=2.2.2->en_core_web_lg==2.2.5) (3.4.0)\n",
            "Building wheels for collected packages: en-core-web-lg\n",
            "  Building wheel for en-core-web-lg (setup.py) ... \u001b[?25l\u001b[?25hdone\n",
            "  Created wheel for en-core-web-lg: filename=en_core_web_lg-2.2.5-cp36-none-any.whl size=829180944 sha256=f6b530311fb0347d53964b01968bd0ba85b2c85189bab3041c72b3e6268bf0e1\n",
            "  Stored in directory: /tmp/pip-ephem-wheel-cache-brd8sagf/wheels/2a/c1/a6/fc7a877b1efca9bc6a089d6f506f16d3868408f9ff89f8dbfc\n",
            "Successfully built en-core-web-lg\n",
            "Installing collected packages: en-core-web-lg\n",
            "Successfully installed en-core-web-lg-2.2.5\n",
            "\u001b[38;5;2m✔ Download and installation successful\u001b[0m\n",
            "You can now load the model via spacy.load('en_core_web_lg')\n"
          ],
          "name": "stdout"
        }
      ]
    },
    {
      "cell_type": "code",
      "metadata": {
        "id": "1bxop3eo1t3-"
      },
      "source": [
        "# https://www.kaggle.com/c/whiskey-reviews-ds20/overview\n",
        "\n",
        "import pandas as pd\n",
        "import re\n",
        "from collections import Counter\n",
        "import spacy\n",
        "\n",
        "nlp = spacy.load('en_core_web_lg')"
      ],
      "execution_count": 1,
      "outputs": []
    },
    {
      "cell_type": "code",
      "metadata": {
        "id": "HCjmU4ML21r5"
      },
      "source": [
        "# Loading in the data from the Kaggle webpage\n",
        "\n",
        "train = pd.read_csv('train.csv')\n",
        "test = pd.read_csv('test.csv')"
      ],
      "execution_count": 174,
      "outputs": []
    },
    {
      "cell_type": "code",
      "metadata": {
        "colab": {
          "base_uri": "https://localhost:8080/",
          "height": 139
        },
        "id": "47VlUG1D3b4W",
        "outputId": "305fe179-90e5-4b48-a72e-d01d78073512"
      },
      "source": [
        "train['description'][500]"
      ],
      "execution_count": 175,
      "outputs": [
        {
          "output_type": "execute_result",
          "data": {
            "application/vnd.google.colaboratory.intrinsic+json": {
              "type": "string"
            },
            "text/plain": [
              "\"\\nStyle: Bourbon Color: Antique amber Aroma: Thick, lush, very complex and nicely balanced. Notes of polished leather and oak marry nicely with the toffee and caramel. Tobacco, raisins, and dates, add complexity and diversity. Palate: Bold and voluptuous, with notes similar to its aroma. Long, soothing finish.\\r\\n\\xa0\\xa0\\xa0General Comments: A big, broad-shouldered bourbon jam-packed with flavors that just won't quit. Most bourbons of this age and intensity are too woody. Not this one. It is very well-balanced from beginning to end. Bravo! Price: upper $30s. Available nationwide but produced in limited quantities.\""
            ]
          },
          "metadata": {
            "tags": []
          },
          "execution_count": 175
        }
      ]
    },
    {
      "cell_type": "code",
      "metadata": {
        "id": "mSLhUnZs3Qk9"
      },
      "source": [
        "def tokenize(text):\n",
        "  tokens = []\n",
        "  for item in (text.replace('\\n', '').lower().replace('-', ' ').split()):\n",
        "    tokens.append(re.sub('[^a-z ]', '', item))\n",
        "  \n",
        "  custom_stop_words = {\"\",\"and\",\"the\",\"a\",\"of\",\"with\",\"is\",\"in\",\"to\",\"this\",\"on\",\n",
        "                       \"it\",\"its\",\"but\",\"the\",\"year\",\"old\",\"which\",\"that\",\"cask\",\n",
        "                       \"was\",\"single\",\"malt\",\"whiskeys\",\"whiskey\",\"whisky\",\"some\",\n",
        "                       \"has\",\"an\",\"caramel\",\"spice\",\"tobacco\",\"there\",\"vanilla\",\n",
        "                       \"fruit\",\"layers\",\"nose\",\"notes\",\"orange\",\"lemon\",\"grapefruit\",\n",
        "                       \"apple\",\"oranges\",\"lemons\",\"grapefruits\",\"apples\",\"wood\",\n",
        "                       \"oak\",\"bread\",\"chocolate\",\"milk\",\"spices\",\"rye\",\"lumber\",\n",
        "                       \"raisin\",\"marmalade\",\"grape\",\"grapes\",\"skin\",\"sugar\",\"plum\",\n",
        "                       \"plums\",\"cinnamon\",\"bun\",\"buns\",\"raspberry\",\"preserve\",\n",
        "                       \"nuts\",\"ash\",\"mineral\",\"minerals\",\"palate\",\"element\",\n",
        "                       \"elements\",\"burley\",\"hint\",\"hints\",\"wine\",\"dark\",\"mild\",\n",
        "                       \"fudge\",\"soft\",\"peppery\",\"burst\",\"bursts\",\"onto\",\"honey\",\n",
        "                       \"lemon\",\"dram\",\"toffee\",\"banana\",\"bananas\",\"peel\",\"pie\",\n",
        "                       \"grain\",\"bourbon\",\"color\",\"amber\",\"leather\",\"marry\",\n",
        "                       \"tobacco\",\"raisins\",\"dates\",\"comments\",\"general\",\"just\",\n",
        "                       \"blends\",\"scotch\",\"flowers\",\"butter\",\"cocoa\",\"hazelnut\",\n",
        "                       \"smoke\",\"are\",\"s\",\"aroma\",\"style\",\"bourbons\",\"age\",\"be\",\n",
        "                       \"by\",\"how\",\"when\",\"each\",\"will\"}\n",
        "  cleaned_tokens = []\n",
        "\n",
        "  for word in tokens:\n",
        "    if word not in custom_stop_words:\n",
        "      cleaned_tokens.append(word)\n",
        "    else:\n",
        "      continue\n",
        "\n",
        "  return cleaned_tokens"
      ],
      "execution_count": 176,
      "outputs": []
    },
    {
      "cell_type": "code",
      "metadata": {
        "id": "QRmogG-qEds1"
      },
      "source": [
        "train['tokens'] = train['description'].apply(tokenize)"
      ],
      "execution_count": 177,
      "outputs": []
    },
    {
      "cell_type": "code",
      "metadata": {
        "colab": {
          "base_uri": "https://localhost:8080/",
          "height": 80
        },
        "id": "F6rPRXMPKDo_",
        "outputId": "e731999b-f591-40a4-a696-6886ea2aebda"
      },
      "source": [
        "train.head(1)"
      ],
      "execution_count": 178,
      "outputs": [
        {
          "output_type": "execute_result",
          "data": {
            "text/html": [
              "<div>\n",
              "<style scoped>\n",
              "    .dataframe tbody tr th:only-of-type {\n",
              "        vertical-align: middle;\n",
              "    }\n",
              "\n",
              "    .dataframe tbody tr th {\n",
              "        vertical-align: top;\n",
              "    }\n",
              "\n",
              "    .dataframe thead th {\n",
              "        text-align: right;\n",
              "    }\n",
              "</style>\n",
              "<table border=\"1\" class=\"dataframe\">\n",
              "  <thead>\n",
              "    <tr style=\"text-align: right;\">\n",
              "      <th></th>\n",
              "      <th>id</th>\n",
              "      <th>description</th>\n",
              "      <th>ratingCategory</th>\n",
              "      <th>tokens</th>\n",
              "    </tr>\n",
              "  </thead>\n",
              "  <tbody>\n",
              "    <tr>\n",
              "      <th>0</th>\n",
              "      <td>1321</td>\n",
              "      <td>\\nSometimes, when whisky is batched, a few lef...</td>\n",
              "      <td>1</td>\n",
              "      <td>[sometimes, batched, few, leftover, barrels, r...</td>\n",
              "    </tr>\n",
              "  </tbody>\n",
              "</table>\n",
              "</div>"
            ],
            "text/plain": [
              "     id  ...                                             tokens\n",
              "0  1321  ...  [sometimes, batched, few, leftover, barrels, r...\n",
              "\n",
              "[1 rows x 4 columns]"
            ]
          },
          "metadata": {
            "tags": []
          },
          "execution_count": 178
        }
      ]
    },
    {
      "cell_type": "code",
      "metadata": {
        "id": "5-oRu_FlGfnX"
      },
      "source": [
        "def to_lemmas(token_list):\n",
        "  lemmas = ''\n",
        "  doc = nlp(str(' '.join(token_list)))\n",
        "\n",
        "  for token in doc:\n",
        "    lemmas += token.lemma_ + ' '\n",
        "\n",
        "  return lemmas"
      ],
      "execution_count": 179,
      "outputs": []
    },
    {
      "cell_type": "code",
      "metadata": {
        "id": "STbizxn4Gi1Q"
      },
      "source": [
        "train['lemmas'] = train['tokens'].apply(to_lemmas)"
      ],
      "execution_count": 180,
      "outputs": []
    },
    {
      "cell_type": "code",
      "metadata": {
        "colab": {
          "base_uri": "https://localhost:8080/",
          "height": 97
        },
        "id": "fZjaZrBzKBvT",
        "outputId": "597dd868-224a-4bbf-a46d-90f8e97be799"
      },
      "source": [
        "train.head(1)"
      ],
      "execution_count": 181,
      "outputs": [
        {
          "output_type": "execute_result",
          "data": {
            "text/html": [
              "<div>\n",
              "<style scoped>\n",
              "    .dataframe tbody tr th:only-of-type {\n",
              "        vertical-align: middle;\n",
              "    }\n",
              "\n",
              "    .dataframe tbody tr th {\n",
              "        vertical-align: top;\n",
              "    }\n",
              "\n",
              "    .dataframe thead th {\n",
              "        text-align: right;\n",
              "    }\n",
              "</style>\n",
              "<table border=\"1\" class=\"dataframe\">\n",
              "  <thead>\n",
              "    <tr style=\"text-align: right;\">\n",
              "      <th></th>\n",
              "      <th>id</th>\n",
              "      <th>description</th>\n",
              "      <th>ratingCategory</th>\n",
              "      <th>tokens</th>\n",
              "      <th>lemmas</th>\n",
              "    </tr>\n",
              "  </thead>\n",
              "  <tbody>\n",
              "    <tr>\n",
              "      <th>0</th>\n",
              "      <td>1321</td>\n",
              "      <td>\\nSometimes, when whisky is batched, a few lef...</td>\n",
              "      <td>1</td>\n",
              "      <td>[sometimes, batched, few, leftover, barrels, r...</td>\n",
              "      <td>sometimes batch few leftover barrel return war...</td>\n",
              "    </tr>\n",
              "  </tbody>\n",
              "</table>\n",
              "</div>"
            ],
            "text/plain": [
              "     id  ...                                             lemmas\n",
              "0  1321  ...  sometimes batch few leftover barrel return war...\n",
              "\n",
              "[1 rows x 5 columns]"
            ]
          },
          "metadata": {
            "tags": []
          },
          "execution_count": 181
        }
      ]
    },
    {
      "cell_type": "code",
      "metadata": {
        "colab": {
          "base_uri": "https://localhost:8080/"
        },
        "id": "VtQ8YRXcer9F",
        "outputId": "e2487381-0fd8-453b-dc8e-cbbf68f0b8c1"
      },
      "source": [
        "type(train['lemmas'][0])"
      ],
      "execution_count": 189,
      "outputs": [
        {
          "output_type": "execute_result",
          "data": {
            "text/plain": [
              "str"
            ]
          },
          "metadata": {
            "tags": []
          },
          "execution_count": 189
        }
      ]
    },
    {
      "cell_type": "code",
      "metadata": {
        "id": "hG8SaJhuJ9eC"
      },
      "source": [
        "X = train['lemmas']\n",
        "y = train['ratingCategory']\n",
        "\n",
        "assert len(X_train) == len(y_train)\n"
      ],
      "execution_count": 191,
      "outputs": []
    },
    {
      "cell_type": "code",
      "metadata": {
        "colab": {
          "base_uri": "https://localhost:8080/"
        },
        "id": "mg9NlYBwfqO1",
        "outputId": "fd8e63ac-66c6-4eba-d395-a283770d98ee"
      },
      "source": [
        "from sklearn.pipeline import Pipeline\n",
        "from sklearn.feature_extraction.text import TfidfVectorizer\n",
        "from sklearn.ensemble import RandomForestClassifier\n",
        "\n",
        "# Creating pipeline components\n",
        "vectorizer = TfidfVectorizer(ngram_range=(2,3))\n",
        "classifier = RandomForestClassifier(random_state=42)\n",
        "\n",
        "\n",
        "# Define the Pipeline\n",
        "pipe = Pipeline([('vect', vectorizer), # vectorizer\n",
        "                 ('clf', classifier) # classifier\n",
        "                ])\n",
        "\n",
        "# Define the parameter space for the grid serach\n",
        "parameters = {\n",
        "    'clf__criterion':['gini', 'entropy'],\n",
        "    'clf__max_depth':[5,10,15,20],\n",
        "    'clf__n_estimators':[10, 100, 250]}\n",
        "\n",
        "\n",
        "# Implement a grid search with cross-validation\n",
        "from sklearn.model_selection import GridSearchCV\n",
        "\n",
        "grid_search = GridSearchCV(pipe, parameters, cv=5, n_jobs=5, verbose=1)\n",
        "grid_search.fit(X, y);\n",
        "\n",
        "# Print out the best score\n",
        "grid_search.best_score_"
      ],
      "execution_count": 199,
      "outputs": [
        {
          "output_type": "stream",
          "text": [
            "Fitting 5 folds for each of 24 candidates, totalling 120 fits\n"
          ],
          "name": "stdout"
        },
        {
          "output_type": "stream",
          "text": [
            "[Parallel(n_jobs=5)]: Using backend LokyBackend with 5 concurrent workers.\n",
            "[Parallel(n_jobs=5)]: Done  40 tasks      | elapsed:   56.3s\n",
            "[Parallel(n_jobs=5)]: Done 120 out of 120 | elapsed:  3.1min finished\n"
          ],
          "name": "stderr"
        },
        {
          "output_type": "execute_result",
          "data": {
            "text/plain": [
              "0.7054077024596518"
            ]
          },
          "metadata": {
            "tags": []
          },
          "execution_count": 199
        }
      ]
    },
    {
      "cell_type": "code",
      "metadata": {
        "id": "Xxe3Ue7DjUYN"
      },
      "source": [
        "# Predictions on test sample\n",
        "pred = grid_search.predict(test['description'])"
      ],
      "execution_count": 200,
      "outputs": []
    },
    {
      "cell_type": "code",
      "metadata": {
        "id": "LPX06NbojXNI"
      },
      "source": [
        "submission = pd.DataFrame({'id': test['id'], 'ratingCategory':pred})\n",
        "submission['ratingCategory'] = submission['ratingCategory'].astype('int64')"
      ],
      "execution_count": 201,
      "outputs": []
    },
    {
      "cell_type": "code",
      "metadata": {
        "colab": {
          "base_uri": "https://localhost:8080/",
          "height": 204
        },
        "id": "OlDjVpI9jZba",
        "outputId": "092201bc-d279-462a-db1c-3cd7317a45a4"
      },
      "source": [
        "# Make Sure the Category is an Integer\n",
        "submission.head()"
      ],
      "execution_count": 202,
      "outputs": [
        {
          "output_type": "execute_result",
          "data": {
            "text/html": [
              "<div>\n",
              "<style scoped>\n",
              "    .dataframe tbody tr th:only-of-type {\n",
              "        vertical-align: middle;\n",
              "    }\n",
              "\n",
              "    .dataframe tbody tr th {\n",
              "        vertical-align: top;\n",
              "    }\n",
              "\n",
              "    .dataframe thead th {\n",
              "        text-align: right;\n",
              "    }\n",
              "</style>\n",
              "<table border=\"1\" class=\"dataframe\">\n",
              "  <thead>\n",
              "    <tr style=\"text-align: right;\">\n",
              "      <th></th>\n",
              "      <th>id</th>\n",
              "      <th>ratingCategory</th>\n",
              "    </tr>\n",
              "  </thead>\n",
              "  <tbody>\n",
              "    <tr>\n",
              "      <th>0</th>\n",
              "      <td>3461</td>\n",
              "      <td>1</td>\n",
              "    </tr>\n",
              "    <tr>\n",
              "      <th>1</th>\n",
              "      <td>2604</td>\n",
              "      <td>1</td>\n",
              "    </tr>\n",
              "    <tr>\n",
              "      <th>2</th>\n",
              "      <td>3341</td>\n",
              "      <td>1</td>\n",
              "    </tr>\n",
              "    <tr>\n",
              "      <th>3</th>\n",
              "      <td>3764</td>\n",
              "      <td>1</td>\n",
              "    </tr>\n",
              "    <tr>\n",
              "      <th>4</th>\n",
              "      <td>2306</td>\n",
              "      <td>1</td>\n",
              "    </tr>\n",
              "  </tbody>\n",
              "</table>\n",
              "</div>"
            ],
            "text/plain": [
              "     id  ratingCategory\n",
              "0  3461               1\n",
              "1  2604               1\n",
              "2  3341               1\n",
              "3  3764               1\n",
              "4  2306               1"
            ]
          },
          "metadata": {
            "tags": []
          },
          "execution_count": 202
        }
      ]
    },
    {
      "cell_type": "code",
      "metadata": {
        "id": "uM5m-NL8jbdC"
      },
      "source": [
        "subNumber = 11\n",
        "\n",
        "# Save your Submission File\n",
        "# Best to Use an Integer or Timestamp for different versions of your model\n",
        "\n",
        "submission.to_csv(f'submission{subNumber}.csv', index=False)\n",
        "subNumber += 1"
      ],
      "execution_count": 203,
      "outputs": []
    }
  ]
}